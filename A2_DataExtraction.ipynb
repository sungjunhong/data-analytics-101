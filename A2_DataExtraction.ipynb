{
  "nbformat": 4,
  "nbformat_minor": 0,
  "metadata": {
    "colab": {
      "provenance": []
    },
    "kernelspec": {
      "name": "python3",
      "display_name": "Python 3"
    },
    "language_info": {
      "name": "python"
    }
  },
  "cells": [
    {
      "cell_type": "markdown",
      "source": [
        "## Appendix 2. 데이터를 추출하는 다양한 방법"
      ],
      "metadata": {
        "id": "W26O7n2ZCfwe"
      }
    },
    {
      "cell_type": "markdown",
      "source": [
        "### 데이터 불러오기"
      ],
      "metadata": {
        "id": "BUPyvROrtfe1"
      }
    },
    {
      "cell_type": "code",
      "source": [
        "from google.colab import drive\n",
        "\n",
        "drive.mount('/content/gdrive')\n",
        "path = '/content/gdrive/MyDrive/data-analytics-101/data/'"
      ],
      "metadata": {
        "id": "S7fTRs2CCrwN"
      },
      "execution_count": null,
      "outputs": []
    },
    {
      "cell_type": "code",
      "source": [
        "import pandas as pd\n",
        "\n",
        "df_raw = pd.read_csv(path + 'exam.csv')\n",
        "df_raw"
      ],
      "metadata": {
        "id": "fMi3pqG9C36b"
      },
      "execution_count": null,
      "outputs": []
    },
    {
      "cell_type": "code",
      "source": [
        "df = df_raw.head(10)\n",
        "df"
      ],
      "metadata": {
        "id": "6oDd08zgdSfr"
      },
      "execution_count": null,
      "outputs": []
    },
    {
      "cell_type": "markdown",
      "source": [
        "### 열 추출하기"
      ],
      "metadata": {
        "id": "2g-Bkp4fD6Xf"
      }
    },
    {
      "cell_type": "markdown",
      "source": [
        "#### `[ ]` 사용하기"
      ],
      "metadata": {
        "id": "Z7FTdsUdETRa"
      }
    },
    {
      "cell_type": "code",
      "source": [
        "df['id']"
      ],
      "metadata": {
        "id": "70XnEgmpD-qo"
      },
      "execution_count": null,
      "outputs": []
    },
    {
      "cell_type": "code",
      "source": [
        "df[['id']]"
      ],
      "metadata": {
        "id": "2KH3x7YlEMwf"
      },
      "execution_count": null,
      "outputs": []
    },
    {
      "cell_type": "code",
      "source": [
        "df[['id', 'nclass']]"
      ],
      "metadata": {
        "id": "jvRaDc1dEFEH"
      },
      "execution_count": null,
      "outputs": []
    },
    {
      "cell_type": "markdown",
      "source": [
        "#### pandas 함수와 함께 `[ ]` 사용하기"
      ],
      "metadata": {
        "id": "jYskffXyStaf"
      }
    },
    {
      "cell_type": "code",
      "source": [
        "df.groupby('nclass').agg(math = ('math', 'mean'), \n",
        "                         english = ('english', 'mean'))"
      ],
      "metadata": {
        "id": "ew27rqduS-aB"
      },
      "execution_count": null,
      "outputs": []
    },
    {
      "cell_type": "code",
      "source": [
        "df.groupby('nclass')[['math', 'english']].mean()"
      ],
      "metadata": {
        "id": "IuQl_MatTG5w"
      },
      "execution_count": null,
      "outputs": []
    },
    {
      "cell_type": "code",
      "source": [
        "df.groupby('nclass') \\\n",
        "  .agg(mean_math = ('math', 'mean'), \n",
        "       mean_english = ('english', 'mean'))"
      ],
      "metadata": {
        "id": "UUeA1g-DffDS"
      },
      "execution_count": null,
      "outputs": []
    },
    {
      "cell_type": "code",
      "source": [
        "df.groupby('nclass') \\\n",
        "  [['math', 'english']] \\\n",
        "  .mean() \\\n",
        "  .rename(columns={'math' : 'mean_math', 'english' : 'mean_english'})"
      ],
      "metadata": {
        "id": "4aKfrCzKfjLM"
      },
      "execution_count": null,
      "outputs": []
    },
    {
      "cell_type": "markdown",
      "source": [
        "#### `.`  사용하기"
      ],
      "metadata": {
        "id": "nBOCTnfMD3mg"
      }
    },
    {
      "cell_type": "markdown",
      "source": [
        "메서드 체인을 만들듯이 데이터 프레임명 뒤에 점(`.`)을 입력하고 변수명을 입력"
      ],
      "metadata": {
        "id": "V0VMxzhVEr-r"
      }
    },
    {
      "cell_type": "code",
      "source": [
        "df['math']"
      ],
      "metadata": {
        "id": "QbAlVzL2E6GL"
      },
      "execution_count": null,
      "outputs": []
    },
    {
      "cell_type": "code",
      "source": [
        "df.math"
      ],
      "metadata": {
        "id": "gSZHBOOVEygi"
      },
      "execution_count": null,
      "outputs": []
    },
    {
      "cell_type": "code",
      "source": [
        "df.math.mean()"
      ],
      "metadata": {
        "id": "cdrZf-bNEzqf"
      },
      "execution_count": null,
      "outputs": []
    },
    {
      "cell_type": "code",
      "source": [
        "df['math'].mean()"
      ],
      "metadata": {
        "id": "afbqZxZ5E3VA"
      },
      "execution_count": null,
      "outputs": []
    },
    {
      "cell_type": "code",
      "source": [
        "df.total = df.math + df.english + df.science  # UserWarning: Pandas doesn't allow columns to be created via a new attribute name\n",
        "df"
      ],
      "metadata": {
        "id": "dbKx_Y7-q9SU"
      },
      "execution_count": null,
      "outputs": []
    },
    {
      "cell_type": "code",
      "source": [
        "df['total'] = df.math + df.english + df.science\n",
        "df"
      ],
      "metadata": {
        "id": "h3VH8moSrX-u"
      },
      "execution_count": null,
      "outputs": []
    },
    {
      "cell_type": "code",
      "source": [
        "# df['tot'] = df.math + df.english + df.science\n",
        "# df"
      ],
      "metadata": {
        "id": "7as8NkUhE7VX"
      },
      "execution_count": null,
      "outputs": []
    },
    {
      "cell_type": "markdown",
      "source": [
        "- Series 객체로만 반환\n",
        "- 여러 변수를 함께 추출할 수 없음\n",
        "- 변수명에 띄어쓰기나 특수문자를 사용할 수 없음\n",
        "- 변수명이 데이터 프레임의 메서드명과 동일하면 사용할 수 없음\n",
        "- 파생변수를 만들 때 `df.var = 1`처럼 작성할 수 없음 `* UserWarning: Pandas doesn't allow columns to be created via a new attribute name`\n",
        "- 변수를 참조하는 코드인지 메서드 호출 코드인지 가독성이 떨어짐"
      ],
      "metadata": {
        "id": "QOYwWShuFST4"
      }
    },
    {
      "cell_type": "markdown",
      "source": [
        "#### 조건을 충족하는 행에서 열 추출하기"
      ],
      "metadata": {
        "id": "TbjuzJ8rSiVP"
      }
    },
    {
      "cell_type": "code",
      "source": [
        "df[df['nclass'] == 1]['math']"
      ],
      "metadata": {
        "id": "MIdKRjc3SmNt"
      },
      "execution_count": null,
      "outputs": []
    },
    {
      "cell_type": "code",
      "source": [
        "df[df['nclass'] == 1].math"
      ],
      "metadata": {
        "id": "68WaQYz7S0J9"
      },
      "execution_count": null,
      "outputs": []
    },
    {
      "cell_type": "code",
      "source": [
        "df[df['nclass'] == 1][['math', 'english']]"
      ],
      "metadata": {
        "id": "Np8jWlnrSqa_"
      },
      "execution_count": null,
      "outputs": []
    },
    {
      "cell_type": "markdown",
      "source": [
        "### 조건을 충족하는 행 추출하기 "
      ],
      "metadata": {
        "id": "0skPzkQuDGcW"
      }
    },
    {
      "cell_type": "code",
      "source": [
        "df['nclass'] == 1"
      ],
      "metadata": {
        "id": "R_MxDw-cDC48"
      },
      "execution_count": null,
      "outputs": []
    },
    {
      "cell_type": "code",
      "source": [
        "df[df['nclass'] == 1]"
      ],
      "metadata": {
        "id": "4_AjURlzDFBD"
      },
      "execution_count": null,
      "outputs": []
    },
    {
      "cell_type": "code",
      "source": [
        "df[(df['nclass'] == 1) & (df['math'] >= 50)]"
      ],
      "metadata": {
        "id": "vDKV9iCHDftH"
      },
      "execution_count": null,
      "outputs": []
    },
    {
      "cell_type": "code",
      "source": [
        "df[(df['math'] < 50) | (df['english'] < 50)]"
      ],
      "metadata": {
        "id": "hP2u936aDuCI"
      },
      "execution_count": null,
      "outputs": []
    },
    {
      "cell_type": "markdown",
      "source": [
        "### `df.loc[]` 이용하여 데이터 추출하기"
      ],
      "metadata": {
        "id": "sTRtZcP4TLov"
      }
    },
    {
      "cell_type": "markdown",
      "source": [
        "#### 인덱스 번호"
      ],
      "metadata": {
        "id": "86o1URD7T2lR"
      }
    },
    {
      "cell_type": "markdown",
      "source": [
        "**인덱스(index)**: 데이터의 위치를 나타내는 값. 데이터 프레임을 만들면 자동으로 행 인덱스 번호가 부여"
      ],
      "metadata": {
        "id": "8LSC_kx9TmxJ"
      }
    },
    {
      "cell_type": "code",
      "source": [
        "df = pd.DataFrame({'var1' : [1, 2, 3],\n",
        "                   'var2' : [4, 5, 6]})\n",
        "df"
      ],
      "metadata": {
        "id": "THqN5FnETV_3"
      },
      "execution_count": null,
      "outputs": []
    },
    {
      "cell_type": "markdown",
      "source": [
        "#### 인덱스 번호 대신 인덱스 문자열 사용하기"
      ],
      "metadata": {
        "id": "z0_i01eXT4y3"
      }
    },
    {
      "cell_type": "code",
      "source": [
        "df = pd.DataFrame({'var1' : [1, 2, 3],\n",
        "                   'var2' : [4, 5, 6]}, \n",
        "                  index = ['kim', 'lee', 'park'])\n",
        "df"
      ],
      "metadata": {
        "id": "AvfGweGGTeWQ"
      },
      "execution_count": null,
      "outputs": []
    },
    {
      "cell_type": "markdown",
      "source": [
        "#### 인덱스 문자열을 지정해 행 추출하기: `df.loc[ ]`"
      ],
      "metadata": {
        "id": "P3NQyzvfT19I"
      }
    },
    {
      "cell_type": "code",
      "source": [
        "df.loc['kim']"
      ],
      "metadata": {
        "id": "0Q2BFzzrTmK_"
      },
      "execution_count": null,
      "outputs": []
    },
    {
      "cell_type": "code",
      "source": [
        "df.loc[['kim', 'park']]"
      ],
      "metadata": {
        "id": "_5ivpWLMUDXv"
      },
      "execution_count": null,
      "outputs": []
    },
    {
      "cell_type": "markdown",
      "source": [
        "#### 인덱스 문자열을 지정해 열 추출하기"
      ],
      "metadata": {
        "id": "y2E6Fo4-UHWQ"
      }
    },
    {
      "cell_type": "code",
      "source": [
        "df"
      ],
      "metadata": {
        "id": "1JlsuyF-g2Db"
      },
      "execution_count": null,
      "outputs": []
    },
    {
      "cell_type": "code",
      "source": [
        "df.loc['lee', 'var1']"
      ],
      "metadata": {
        "id": "frxiiuSTUMSh"
      },
      "execution_count": null,
      "outputs": []
    },
    {
      "cell_type": "code",
      "source": [
        "df.loc[['kim', 'lee'], 'var2']"
      ],
      "metadata": {
        "id": "boVTYHRFUPJX"
      },
      "execution_count": null,
      "outputs": []
    },
    {
      "cell_type": "code",
      "source": [
        "df.loc[, 'var1']    # `df.loc[ ]`의 첫번째 인자는 생략할 수 없음"
      ],
      "metadata": {
        "id": "pY6etoYvUaC3"
      },
      "execution_count": null,
      "outputs": []
    },
    {
      "cell_type": "code",
      "source": [
        "df.loc[:, 'var1']   # df['var1']"
      ],
      "metadata": {
        "id": "EZWjYfAdUVdn"
      },
      "execution_count": null,
      "outputs": []
    },
    {
      "cell_type": "markdown",
      "source": [
        "#### 인덱스 번호를 지정해 행 추출하기"
      ],
      "metadata": {
        "id": "bZak7X8ZUc03"
      }
    },
    {
      "cell_type": "code",
      "source": [
        "df = df_raw.copy()\n",
        "df"
      ],
      "metadata": {
        "id": "5UZCK_k0Ulw7"
      },
      "execution_count": null,
      "outputs": []
    },
    {
      "cell_type": "code",
      "source": [
        "df.loc[0]   # Series 객체로 반환"
      ],
      "metadata": {
        "id": "bYC_0R_kUoUR"
      },
      "execution_count": null,
      "outputs": []
    },
    {
      "cell_type": "code",
      "source": [
        "df.loc[2]"
      ],
      "metadata": {
        "id": "heLw45d7UpUP"
      },
      "execution_count": null,
      "outputs": []
    },
    {
      "cell_type": "code",
      "source": [
        "df.loc[2, :]"
      ],
      "metadata": {
        "id": "tiH4gxlSViqM"
      },
      "execution_count": null,
      "outputs": []
    },
    {
      "cell_type": "code",
      "source": [
        "df.loc[:, 2]    # `df.loc[ ]` 함수에서는 열을 숫자(스칼라)로 인덱싱할 수 없음"
      ],
      "metadata": {
        "id": "jlZGtMdAVkiC"
      },
      "execution_count": null,
      "outputs": []
    },
    {
      "cell_type": "code",
      "source": [
        "df.loc[:, 'math']   # df.math, df['math']와 같은 데이터를 참조"
      ],
      "metadata": {
        "id": "nEHwTtehh25S"
      },
      "execution_count": null,
      "outputs": []
    },
    {
      "cell_type": "markdown",
      "source": [
        "데이터 프레임 자료구조 유지하기"
      ],
      "metadata": {
        "id": "8LI5hF7qU2_D"
      }
    },
    {
      "cell_type": "code",
      "source": [
        "df.loc[[0]] # 인덱스 번호를 `[ ]`로 묶으면 DataFrame 객체로 반환"
      ],
      "metadata": {
        "id": "j5dq1dmBUrYv"
      },
      "execution_count": null,
      "outputs": []
    },
    {
      "cell_type": "markdown",
      "source": [
        "여러 행 추출하기"
      ],
      "metadata": {
        "id": "s5Hl1bytUttH"
      }
    },
    {
      "cell_type": "code",
      "source": [
        "df.loc[[0, 3, 5]]"
      ],
      "metadata": {
        "id": "OAjOaOsZUwS5"
      },
      "execution_count": null,
      "outputs": []
    },
    {
      "cell_type": "markdown",
      "source": [
        "연속된 행 추출하기"
      ],
      "metadata": {
        "id": "Bc6nTl88U1p3"
      }
    },
    {
      "cell_type": "code",
      "source": [
        "df.loc[0:3]"
      ],
      "metadata": {
        "id": "fo0uUtZUU7QI"
      },
      "execution_count": null,
      "outputs": []
    },
    {
      "cell_type": "markdown",
      "source": [
        "`df.loc[ ]` 함수에서 `:`을 사용하여 범위를 입력하는 경우 파이썬의 리스트 자료형과 다르게 `:` 앞의 값은 '이상', `:`의 값은 `미만`을 의미함. "
      ],
      "metadata": {
        "id": "2Djkqx9HsTBJ"
      }
    },
    {
      "cell_type": "code",
      "source": [
        "df.loc[7:9]"
      ],
      "metadata": {
        "id": "RuJxnqIwU9kw"
      },
      "execution_count": null,
      "outputs": []
    },
    {
      "cell_type": "code",
      "source": [
        "df.loc[:3]"
      ],
      "metadata": {
        "id": "nwQBdpHWU_af"
      },
      "execution_count": null,
      "outputs": []
    },
    {
      "cell_type": "code",
      "source": [
        "df.loc[16:]"
      ],
      "metadata": {
        "id": "bRqeTLFUVA-X"
      },
      "execution_count": null,
      "outputs": []
    },
    {
      "cell_type": "code",
      "source": [
        "df.loc[:]   # df 참조와 동일"
      ],
      "metadata": {
        "id": "pQI4yrfxVC5P"
      },
      "execution_count": null,
      "outputs": []
    },
    {
      "cell_type": "code",
      "source": [
        "df_label = pd.DataFrame({'var1' : [1, 2, 3], \n",
        "                         'var2' : [4, 5, 6]}, \n",
        "                         index = ['kim', 'lee', 'park'])\n",
        "df_label"
      ],
      "metadata": {
        "id": "TW5lP_eBVLg3"
      },
      "execution_count": null,
      "outputs": []
    },
    {
      "cell_type": "code",
      "source": [
        "df_label.loc[0]"
      ],
      "metadata": {
        "id": "GIiLLyq-VTsz"
      },
      "execution_count": null,
      "outputs": []
    },
    {
      "cell_type": "markdown",
      "source": [
        "`df.loc[ ]` 함수의 경우 행 인덱스가 문자열로 정의되어 있는 경우, 인덱스 번호로 행을 참조할 수 없음."
      ],
      "metadata": {
        "id": "u5TeQpJYs1B1"
      }
    },
    {
      "cell_type": "markdown",
      "source": [
        "#### 조건을 충족하는 행 추출하기"
      ],
      "metadata": {
        "id": "742Q-agPVVTB"
      }
    },
    {
      "cell_type": "code",
      "source": [
        "df.loc[df['nclass'] == 1]"
      ],
      "metadata": {
        "id": "MnsW2tLgV7dH"
      },
      "execution_count": null,
      "outputs": []
    },
    {
      "cell_type": "code",
      "source": [
        "df.loc[df['math'] >= 60]"
      ],
      "metadata": {
        "id": "fn9Or4KAV-sf"
      },
      "execution_count": null,
      "outputs": []
    },
    {
      "cell_type": "markdown",
      "source": [
        "##### 조건을 충족하는 행 추출 방법 비교"
      ],
      "metadata": {
        "id": "Gv3uZycbWYjY"
      }
    },
    {
      "cell_type": "code",
      "source": [
        "df.query('math > 50')"
      ],
      "metadata": {
        "id": "1Sw5tfNUWeyS"
      },
      "execution_count": null,
      "outputs": []
    },
    {
      "cell_type": "code",
      "source": [
        "df[df['math'] > 50]"
      ],
      "metadata": {
        "id": "7tq_zFo6Wgxf"
      },
      "execution_count": null,
      "outputs": []
    },
    {
      "cell_type": "code",
      "source": [
        "df.loc[df['math'] > 50]"
      ],
      "metadata": {
        "id": "ppU3JdlWWkrv"
      },
      "execution_count": null,
      "outputs": []
    },
    {
      "cell_type": "markdown",
      "source": [
        "#### 조건을 충족하는 행에서 열 추출하기"
      ],
      "metadata": {
        "id": "jaVqqZmGWMB3"
      }
    },
    {
      "cell_type": "code",
      "source": [
        "df.loc[df['nclass'] == 1, ['math', 'english']]"
      ],
      "metadata": {
        "id": "mSXZCtlfWRtg"
      },
      "execution_count": null,
      "outputs": []
    },
    {
      "cell_type": "code",
      "source": [
        "df.loc[:3, 'math']"
      ],
      "metadata": {
        "id": "43EH-9dGWWXY"
      },
      "execution_count": null,
      "outputs": []
    },
    {
      "cell_type": "markdown",
      "source": [
        "### `df.iloc[]` 이용하여 데이터 추출하기"
      ],
      "metadata": {
        "id": "GoHPyV6hweue"
      }
    },
    {
      "cell_type": "markdown",
      "source": [
        "`df.iloc[ ]` 함수를 사용하면 인덱스 번호를 지정해 행을 추출할 수 있음."
      ],
      "metadata": {
        "id": "id0tMA_9ws16"
      }
    },
    {
      "cell_type": "markdown",
      "source": [
        "#### 인덱스 번호를 지정해 행 추출하기"
      ],
      "metadata": {
        "id": "B7Eo__pBw4FS"
      }
    },
    {
      "cell_type": "code",
      "source": [
        "df"
      ],
      "metadata": {
        "id": "jpl5mMv9w-X7"
      },
      "execution_count": null,
      "outputs": []
    },
    {
      "cell_type": "code",
      "source": [
        "df.iloc[2]"
      ],
      "metadata": {
        "id": "5IImPwkhw_vr"
      },
      "execution_count": null,
      "outputs": []
    },
    {
      "cell_type": "code",
      "source": [
        "df.iloc[[2]]"
      ],
      "metadata": {
        "id": "L3gu6TwkxAgL"
      },
      "execution_count": null,
      "outputs": []
    },
    {
      "cell_type": "code",
      "source": [
        "df.iloc[[0, 3, 5]]"
      ],
      "metadata": {
        "id": "nAaTxMLWxC_F"
      },
      "execution_count": null,
      "outputs": []
    },
    {
      "cell_type": "markdown",
      "source": [
        "**`df.iloc[ ]` 함수는 데이터 프레임의 인덱스가 문자열로만 구성되어 있어도 숫자로 행을 추출할 수 있음**"
      ],
      "metadata": {
        "id": "Hidh5jKwxme8"
      }
    },
    {
      "cell_type": "code",
      "source": [
        "df_label"
      ],
      "metadata": {
        "id": "MtBZJaVnyKSQ"
      },
      "execution_count": null,
      "outputs": []
    },
    {
      "cell_type": "code",
      "source": [
        "df_label.iloc[1]"
      ],
      "metadata": {
        "id": "CwdzvkMnyLTF"
      },
      "execution_count": null,
      "outputs": []
    },
    {
      "cell_type": "markdown",
      "source": [
        "#### 연속된 행 추출하기"
      ],
      "metadata": {
        "id": "FGDEKjb1xLQG"
      }
    },
    {
      "cell_type": "markdown",
      "source": [
        "`df.loc[ ]`와 같이 `df.iloc[ ]`도 `:`을 이용해 인덱스 번호 기반 연속된 행을 슬라이싱할 수 있음\n",
        "\n",
        "* `df.iloc[x:y]` x행 이상, y행 미만\n",
        "* `df.loc[x:y]` x행 이상, y행 이하"
      ],
      "metadata": {
        "id": "Om0-49TExVUr"
      }
    },
    {
      "cell_type": "code",
      "source": [
        "df.iloc[1:5]"
      ],
      "metadata": {
        "id": "51DFDEG8xhDt"
      },
      "execution_count": null,
      "outputs": []
    },
    {
      "cell_type": "code",
      "source": [
        "df.loc[1:5]"
      ],
      "metadata": {
        "id": "4vfcsVplxlZz"
      },
      "execution_count": null,
      "outputs": []
    },
    {
      "cell_type": "code",
      "source": [
        "df_label.iloc[1]"
      ],
      "metadata": {
        "id": "iipzboaDyNKA"
      },
      "execution_count": null,
      "outputs": []
    },
    {
      "cell_type": "markdown",
      "source": [
        "#### 인덱스 번호를 지정해 열 추출하기"
      ],
      "metadata": {
        "id": "37gNqBTyyQ_7"
      }
    },
    {
      "cell_type": "code",
      "source": [
        "df.iloc[:, 1]"
      ],
      "metadata": {
        "id": "hUkkb2ozytkh"
      },
      "execution_count": null,
      "outputs": []
    },
    {
      "cell_type": "code",
      "source": [
        "df.iloc[:, [1, 3]]"
      ],
      "metadata": {
        "id": "nb0srtUTyvZl"
      },
      "execution_count": null,
      "outputs": []
    },
    {
      "cell_type": "code",
      "source": [
        "df.iloc[2, 3]"
      ],
      "metadata": {
        "id": "Y60Xl3jRyxbl"
      },
      "execution_count": null,
      "outputs": []
    },
    {
      "cell_type": "code",
      "source": [
        "df.iloc[[0, 1], [2, 3]]"
      ],
      "metadata": {
        "id": "EIf2fi_-yzH8"
      },
      "execution_count": null,
      "outputs": []
    },
    {
      "cell_type": "markdown",
      "source": [
        "#### 조건을 충족하는 행 추출하기"
      ],
      "metadata": {
        "id": "sPp2j5nry09V"
      }
    },
    {
      "cell_type": "code",
      "source": [
        "df.iloc[df['nclass'] == 1]"
      ],
      "metadata": {
        "id": "7CE59yRlzofV"
      },
      "execution_count": null,
      "outputs": []
    },
    {
      "cell_type": "markdown",
      "source": [
        "`df.iloc[ ]` 함수는 `df.loc[ ]` 함수와 달리 불리언 인덱싱을 지원하지 않음"
      ],
      "metadata": {
        "id": "jp0n3wq8zrDD"
      }
    },
    {
      "cell_type": "markdown",
      "source": [
        "### `df.loc[ ]`와 `df.iloc[ ]`의 비교"
      ],
      "metadata": {
        "id": "OC_GhwCJz9NY"
      }
    },
    {
      "cell_type": "markdown",
      "source": [
        "| 기능 | df.loc[] | df.iloc[] |\n",
        "|-|-|-|\n",
        "| 행 추출 인덱스 | 문자열, 숫자 | 숫자 |\n",
        "| 열 추출 인덱스 | 문자열 | 숫자 | \n",
        "| 불리언 인덱싱을 사용한 행 추출 | 지원 | 미지원 |\n",
        "| 슬라이싱 방식 | 이상:이하 | 이상:미만 |\n",
        "\n"
      ],
      "metadata": {
        "id": "rrqucXfQ0D9H"
      }
    }
  ]
}