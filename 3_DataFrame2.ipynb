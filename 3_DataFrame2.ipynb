{
  "cells": [
    {
      "cell_type": "markdown",
      "id": "4f279bc9",
      "metadata": {
        "id": "4f279bc9"
      },
      "source": [
        "# 셋째 마당. 데이터 분석 기초"
      ]
    },
    {
      "cell_type": "markdown",
      "id": "eb0cf719",
      "metadata": {
        "id": "eb0cf719"
      },
      "source": [
        "## 데이터 파악하기"
      ]
    },
    {
      "cell_type": "markdown",
      "id": "b3492134",
      "metadata": {
        "id": "b3492134"
      },
      "source": [
        "#### 데이터를 파악하는데 사용하는 DataFrame 객체의 메서드와 속성"
      ]
    },
    {
      "cell_type": "markdown",
      "id": "8c24d560",
      "metadata": {
        "id": "8c24d560"
      },
      "source": [
        "\n",
        "| 함수       | 기능               |\n",
        "|------------|--------------------|\n",
        "| head()     | 앞부분 출력        |\n",
        "| tail()     | 뒷부분 출력        |\n",
        "| shape      | 행, 열 개수 출력   |\n",
        "| info()     | 변수 속성 출력     |\n",
        "| describe() | 요약 통계량 출력   |\n"
      ]
    },
    {
      "cell_type": "markdown",
      "source": [
        "#### 데이터 불러오기"
      ],
      "metadata": {
        "id": "qs2jtij2c2h4"
      },
      "id": "qs2jtij2c2h4"
    },
    {
      "cell_type": "code",
      "source": [
        "from google.colab import drive\n",
        "drive.mount('/content/gdrive')\n",
        "path = '/content/gdrive/MyDrive/data-analytics-101/data/'"
      ],
      "metadata": {
        "id": "sphhosDKZgb-"
      },
      "id": "sphhosDKZgb-",
      "execution_count": null,
      "outputs": []
    },
    {
      "cell_type": "code",
      "execution_count": null,
      "id": "85461ab5",
      "metadata": {
        "eval": false,
        "id": "85461ab5"
      },
      "outputs": [],
      "source": [
        "import pandas as pd\n",
        "\n",
        "exam = pd.read_csv(path + 'exam.csv')\n",
        "exam"
      ]
    },
    {
      "cell_type": "markdown",
      "id": "c53bf631-d9ca-4bf5-850a-b2713713825a",
      "metadata": {
        "id": "c53bf631-d9ca-4bf5-850a-b2713713825a"
      },
      "source": [
        "### exam 데이터 파악하기"
      ]
    },
    {
      "cell_type": "markdown",
      "id": "d9e7d9b1-f243-40cc-bf2c-c5e608f683f9",
      "metadata": {
        "id": "d9e7d9b1-f243-40cc-bf2c-c5e608f683f9"
      },
      "source": [
        "#### `head()` - 데이터 앞부분 확인하기"
      ]
    },
    {
      "cell_type": "code",
      "execution_count": null,
      "id": "94b614ff",
      "metadata": {
        "lines_to_next_cell": 0,
        "id": "94b614ff"
      },
      "outputs": [],
      "source": [
        "exam.head()  # 앞에서부터 5행까지 출력"
      ]
    },
    {
      "cell_type": "code",
      "execution_count": null,
      "id": "d1c94595",
      "metadata": {
        "lines_to_next_cell": 0,
        "id": "d1c94595"
      },
      "outputs": [],
      "source": [
        "exam.head(10)  # 앞에서부터 10행까지 출력"
      ]
    },
    {
      "cell_type": "markdown",
      "id": "9e06c6e2",
      "metadata": {
        "id": "9e06c6e2"
      },
      "source": [
        "#### `tail()` - 데이터 뒷부분 확인하기\n",
        "\n"
      ]
    },
    {
      "cell_type": "code",
      "execution_count": null,
      "id": "62233158",
      "metadata": {
        "lines_to_next_cell": 0,
        "id": "62233158"
      },
      "outputs": [],
      "source": [
        "exam.tail()  # 뒤에서부터 5행까지 출력"
      ]
    },
    {
      "cell_type": "code",
      "execution_count": null,
      "id": "e5d65ebb",
      "metadata": {
        "lines_to_next_cell": 0,
        "id": "e5d65ebb"
      },
      "outputs": [],
      "source": [
        "exam.tail(10)  # 뒤에서부터 10행까지 출력"
      ]
    },
    {
      "cell_type": "markdown",
      "id": "28a37e48",
      "metadata": {
        "id": "28a37e48"
      },
      "source": [
        "#### `shape` - 데이터가 몇 행, 몇 열로 구성되는지 알아보기"
      ]
    },
    {
      "cell_type": "code",
      "execution_count": null,
      "id": "15372227",
      "metadata": {
        "lines_to_next_cell": 0,
        "id": "15372227"
      },
      "outputs": [],
      "source": [
        "exam.shape"
      ]
    },
    {
      "cell_type": "markdown",
      "id": "aa9c2857",
      "metadata": {
        "id": "aa9c2857"
      },
      "source": [
        "#### `info()` - 속성 파악하기"
      ]
    },
    {
      "cell_type": "code",
      "execution_count": null,
      "id": "f331493d",
      "metadata": {
        "lines_to_next_cell": 0,
        "id": "f331493d"
      },
      "outputs": [],
      "source": [
        "exam.info()"
      ]
    },
    {
      "cell_type": "markdown",
      "id": "2f1e859d",
      "metadata": {
        "id": "2f1e859d"
      },
      "source": [
        "#### `describe()` - 요약 통계량 구하기"
      ]
    },
    {
      "cell_type": "code",
      "execution_count": null,
      "id": "a2c066a7",
      "metadata": {
        "lines_to_next_cell": 0,
        "id": "a2c066a7"
      },
      "outputs": [],
      "source": [
        "exam.describe()"
      ]
    },
    {
      "cell_type": "markdown",
      "source": [
        "**숫자 변수의 요약 통계량**\n",
        "\n",
        "| 출력값 | 통계량 | 설명 |\n",
        "|-|-|-|\n",
        "| count | 빈도 | 데이터의 개수 | \n",
        "| mean | 평균 | 모든 값을 더해 데이터의 개수로 나눈 값 |\n",
        "| std | 표준편차 | 변수의 값들이 평균에서 떨어진 정도를 나타내는 값 |\n",
        "| min | 최솟값 | 가장 작은 값 |\n",
        "| 25% | 1사분위수 | 하위 25% 지점에 위치한 값 |\n",
        "| 50% | 중앙값 | 하위 50% 지점에 위치한 값 |\n",
        "| 75% | 3사분위수 | 하위 75% 지점에 위치한 값 |\n",
        "| max | 최댓값 | 가장 큰 값 |"
      ],
      "metadata": {
        "id": "l8oV6XJSeafj"
      },
      "id": "l8oV6XJSeafj"
    },
    {
      "cell_type": "markdown",
      "id": "667b8e48",
      "metadata": {
        "id": "667b8e48"
      },
      "source": [
        "### mpg 데이터 파악하기\n"
      ]
    },
    {
      "cell_type": "markdown",
      "source": [
        "`mpg(mile per gallon)`는 미국 환경 보호국(US Environmental Protection Agency)에서 공개한 데이터로 1999~2008년 미국에서 출시한 자동차 234종의 정보를 담고 있음"
      ],
      "metadata": {
        "id": "Pszs-o1Sf9FC"
      },
      "id": "Pszs-o1Sf9FC"
    },
    {
      "cell_type": "code",
      "execution_count": null,
      "id": "483d25a6",
      "metadata": {
        "eval": false,
        "id": "483d25a6"
      },
      "outputs": [],
      "source": [
        "# mpg 데이터 불러오기\n",
        "mpg = pd.read_csv(path + 'mpg.csv')\n",
        "mpg"
      ]
    },
    {
      "cell_type": "markdown",
      "source": [
        "|변수명|내용|\n",
        "|-|-|\n",
        "|manufacturer|제조회사|\n",
        "|model|모델명|\n",
        "|displ|배기량(displacement)|\n",
        "|year|생산연도|\n",
        "|cyl|실린더(cylinders) 개수|\n",
        "|trans|변속기(transmission) 종류|\n",
        "|drv|구동 방식(drive wheel)|\n",
        "|cty|도심(city) 연비|\n",
        "|hwy|고속도로(highway) 연비|\n",
        "|fl|연료(fuel) 종류|\n",
        "|category|차종|"
      ],
      "metadata": {
        "id": "oiWi2b8IdTga"
      },
      "id": "oiWi2b8IdTga"
    },
    {
      "cell_type": "code",
      "execution_count": null,
      "id": "131c7530",
      "metadata": {
        "lines_to_next_cell": 0,
        "id": "131c7530"
      },
      "outputs": [],
      "source": [
        "mpg.head()  # mpg 앞부분 확인"
      ]
    },
    {
      "cell_type": "code",
      "execution_count": null,
      "id": "ce12b1cd",
      "metadata": {
        "id": "ce12b1cd"
      },
      "outputs": [],
      "source": [
        "mpg.tail()  # mpg 뒷부분 확인"
      ]
    },
    {
      "cell_type": "code",
      "execution_count": null,
      "id": "90807449",
      "metadata": {
        "lines_to_next_cell": 0,
        "id": "90807449"
      },
      "outputs": [],
      "source": [
        "mpg.shape  # 행, 열 출력"
      ]
    },
    {
      "cell_type": "code",
      "execution_count": null,
      "id": "52e54496",
      "metadata": {
        "lines_to_next_cell": 0,
        "id": "52e54496"
      },
      "outputs": [],
      "source": [
        "mpg.info()  # 데이터 속성 확인"
      ]
    },
    {
      "cell_type": "code",
      "execution_count": null,
      "id": "55836172",
      "metadata": {
        "lines_to_next_cell": 0,
        "id": "55836172"
      },
      "outputs": [],
      "source": [
        "mpg.describe()  # 요약 통계량 출력"
      ]
    },
    {
      "cell_type": "code",
      "execution_count": null,
      "id": "b9a3c426",
      "metadata": {
        "lines_to_next_cell": 0,
        "id": "b9a3c426"
      },
      "outputs": [],
      "source": [
        "mpg.describe(include = 'all')  # 문자 변수 요약 통계량 함께 출력"
      ]
    },
    {
      "cell_type": "markdown",
      "source": [
        "**문자 변수의 요약 통계량**\n",
        "\n",
        "| 출력값 | 통계량 | 설명 |\n",
        "|-|-|-|\n",
        "| unique | 고유값 개수 | 중복 데이터를 제거한 범주의 개수 |\n",
        "| top | 최빈값 | 개수가 가장 많은 값 |\n",
        "| freq | 최빈값 빈도 | 개수가 가장 많은 값의 개수 |"
      ],
      "metadata": {
        "id": "Q2RYuOYphlwm"
      },
      "id": "Q2RYuOYphlwm"
    },
    {
      "cell_type": "markdown",
      "metadata": {
        "id": "5faeac24"
      },
      "source": [
        "#### [꿀팁] 데이터 프레임 출력 제한 설정하기\n",
        "\n",
        "데이터프레임이 60행을 넘기면 위아래 5행씩만 출력하고, 20열을 넘기면 좌우 10열씩만 출력하고 중간은 생략함."
      ],
      "id": "5faeac24"
    },
    {
      "cell_type": "code",
      "source": [
        "mpg"
      ],
      "metadata": {
        "id": "mqceRkHWAx8P"
      },
      "id": "mqceRkHWAx8P",
      "execution_count": null,
      "outputs": []
    },
    {
      "cell_type": "code",
      "execution_count": null,
      "metadata": {
        "eval": false,
        "lines_to_next_cell": 0,
        "tags": [
          "raises-exception"
        ],
        "id": "0e386356"
      },
      "outputs": [],
      "source": [
        "pd.set_option('display.max_rows', None)     # 모든 행 출력하도록 설정\n",
        "pd.set_option('display.max_columns', None)  # 모든 열 출력하도록 설정"
      ],
      "id": "0e386356"
    },
    {
      "cell_type": "code",
      "source": [
        "mpg"
      ],
      "metadata": {
        "id": "zTbcc0bnA9fY"
      },
      "id": "zTbcc0bnA9fY",
      "execution_count": null,
      "outputs": []
    },
    {
      "cell_type": "code",
      "execution_count": null,
      "metadata": {
        "eval": false,
        "id": "13185c55"
      },
      "outputs": [],
      "source": [
        "pd.reset_option('display.max_rows')     # 행 출력 제한 되돌리기\n",
        "pd.reset_option('display.max_columns')  # 열 출력 제한 되돌리기"
      ],
      "id": "13185c55"
    },
    {
      "cell_type": "code",
      "source": [
        "mpg"
      ],
      "metadata": {
        "id": "XHOefZeKA-Z-"
      },
      "id": "XHOefZeKA-Z-",
      "execution_count": null,
      "outputs": []
    },
    {
      "cell_type": "markdown",
      "id": "89b110bb-1fc0-47ab-a2b8-2370f551f670",
      "metadata": {
        "id": "89b110bb-1fc0-47ab-a2b8-2370f551f670"
      },
      "source": [
        "### 함수, 메서드, 속성 구분하기"
      ]
    },
    {
      "cell_type": "markdown",
      "id": "551d46d1",
      "metadata": {
        "id": "551d46d1"
      },
      "source": [
        "**(1) 내장 함수**"
      ]
    },
    {
      "cell_type": "code",
      "execution_count": null,
      "id": "eb4655ca",
      "metadata": {
        "eval": false,
        "tags": [
          "raises-exception"
        ],
        "id": "eb4655ca"
      },
      "outputs": [],
      "source": [
        "var = [1, 2, 3]\n",
        "\n",
        "sum(var)"
      ]
    },
    {
      "cell_type": "code",
      "source": [
        "max(var)"
      ],
      "metadata": {
        "id": "efVS_qfUjFAm"
      },
      "id": "efVS_qfUjFAm",
      "execution_count": null,
      "outputs": []
    },
    {
      "cell_type": "markdown",
      "id": "21881465",
      "metadata": {
        "id": "21881465"
      },
      "source": [
        "**(2) 패키지 함수**\n",
        "\n"
      ]
    },
    {
      "cell_type": "code",
      "execution_count": null,
      "id": "86212f36",
      "metadata": {
        "eval": false,
        "id": "86212f36"
      },
      "outputs": [],
      "source": [
        "import pandas as pd"
      ]
    },
    {
      "cell_type": "code",
      "source": [
        "pd.read_csv(path + 'exam.csv')"
      ],
      "metadata": {
        "id": "YVGn5QhOjMHL"
      },
      "id": "YVGn5QhOjMHL",
      "execution_count": null,
      "outputs": []
    },
    {
      "cell_type": "code",
      "source": [
        "pd.DataFrame({'x' : [1, 2, 3]})"
      ],
      "metadata": {
        "id": "2TCmJIsMjKy4"
      },
      "id": "2TCmJIsMjKy4",
      "execution_count": null,
      "outputs": []
    },
    {
      "cell_type": "markdown",
      "id": "acb345bd",
      "metadata": {
        "id": "acb345bd"
      },
      "source": [
        "**(3) 메서드**"
      ]
    },
    {
      "cell_type": "code",
      "execution_count": null,
      "id": "c6858272",
      "metadata": {
        "eval": false,
        "id": "c6858272"
      },
      "outputs": [],
      "source": [
        "df = pd.read_csv(path + 'exam.csv')\n",
        "df.head()"
      ]
    },
    {
      "cell_type": "code",
      "execution_count": null,
      "id": "6ab06347",
      "metadata": {
        "error": true,
        "lines_to_next_cell": 0,
        "tags": [
          "raises-exception"
        ],
        "id": "6ab06347"
      },
      "outputs": [],
      "source": [
        "var = [1, 2, 3]\n",
        "var.head()"
      ]
    },
    {
      "cell_type": "code",
      "execution_count": null,
      "id": "ac72b6b5",
      "metadata": {
        "eval": false,
        "id": "ac72b6b5"
      },
      "outputs": [],
      "source": [
        "type(df)"
      ]
    },
    {
      "cell_type": "code",
      "execution_count": null,
      "id": "3a5ed91f",
      "metadata": {
        "eval": false,
        "id": "3a5ed91f"
      },
      "outputs": [],
      "source": [
        "type(var)"
      ]
    },
    {
      "cell_type": "markdown",
      "source": [
        "![image.png](data:image/png;base64,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)"
      ],
      "metadata": {
        "id": "EJY83WtVexjg"
      },
      "id": "EJY83WtVexjg"
    },
    {
      "cell_type": "markdown",
      "id": "1fce7a47",
      "metadata": {
        "id": "1fce7a47"
      },
      "source": [
        "**(4) 속성(attribute): 객체가 지니고 있는 값**"
      ]
    },
    {
      "cell_type": "code",
      "execution_count": null,
      "id": "6be21ba2",
      "metadata": {
        "lines_to_next_cell": 0,
        "id": "6be21ba2"
      },
      "outputs": [],
      "source": [
        "df.shape   # 속성"
      ]
    },
    {
      "cell_type": "code",
      "execution_count": null,
      "id": "f0daaced",
      "metadata": {
        "error": true,
        "tags": [
          "raises-exception"
        ],
        "id": "f0daaced"
      },
      "outputs": [],
      "source": [
        "var.shape"
      ]
    },
    {
      "cell_type": "markdown",
      "source": [
        "- 메서드와 속성의 차이\n",
        "\n",
        "![image.png](data:image/png;base64,iVBORw0KGgoAAAANSUhEUgAAAYAAAAFSCAYAAAD7MQibAAAAAXNSR0IArs4c6QAAAARnQU1BAACxjwv8YQUAAAAJcEhZcwAADsMAAA7DAcdvqGQAAPRlSURBVHhe7F0FYBVHE/7i7m5ogru7u3txKxTa4lIopWhxihUpzo9D0eJQ3D140CRIQoS46z8z9x4EGqQtlEDvg8s72bvb250d29ldnXQCVKhQoULFfw66ml8VKlSoUPEfgyoAVKhQoeI/ClUAqFChQsV/FKoAUKFChYr/KFQBoEKFChX/UagCQIUKFSr+o1AFgAoVKlT8R6EKABUqVKj4j0IVACpUqFDxH4UqAFSoUKHiPwpVAKhQoULFfxTqXEAq3ggfHx/4PniA+Ph4mJiYaM6q+FBIoHJ2dXODR7ZscHBwgIGBgeaKChXvH6oAUJEpmOHv2bULuT09UbhIEejqqsbiv4WoqCgEBgTgwvnzaNehg1r2Kj4YVAGgIlNs2bwZtWrXhqWlpeaMin8boaGhOHbkCJq1aKEKARUfBCpVqfgTkpOTYWtrqzL/jwx7e3uUKFkSD/39NWdUqHi/UAWAij/hyePHyJM3r+ZIxceEm7s7/P38NEcqVLxfqAJAxZ9w69YtODs7a45UfExwJ/AjEsgqVHwIqAJARaZQfc5ZB3Z2dpo9FSreL9RWrkKFChX/UagCQIUKFSr+o1AFgAoVKlT8R6EKABX/PnjoSUqy5uAtSEtVNi3o3rSQYKQ/C0F62DOkR4QjPSZatn8DqbdvIeX0cc3Rn5F610f5vvcIV1dXGRymQsX7hioAVPwJ8XFxmr2/jjR/X6T63EDqnVtIfXBPjtMT4uVa4v8WI/XWdaRcvoC4EYPknIAYfNKW9UiP//N7k//Yi/hpP2mO6Hj/LsQN74fYId8idihtg79GbP+eiB3UG2kB/zxaJj02BmlPHiHtkT/SHj9UnplBWKXev4PkU8c0Ry8j+dA+xE8dR0IpTHPm/cDY2BhJSUmaIxUq3h9UAaDiOVjLXLNqFQoWKqQ589fADDz+l2mInzIWCQvnIGH+TMRPGo3k3zfL9VRfEghPAyhhGtKTXzC0VL8HSNqxhXYyaPoZkYH5GdRtBJMfxsu+2S9LYb50vbItWgNdV3c5/0+QtHk94iePQfz0nxD/8wTEjf4OSZr8M3Q4OiotTXP0AqnXryBxzXJKoIPkwwdEkLwvZMueHfv27MHZM2fo1X9+twoVfxeqAFAhTOXo4cM4eeIE2rRti7z58mmu/DXomJjCuPcA2TcdPx1m0+dBr1RZORYQc0RaOnPRl9wkqT43iXm7QcfcQnPmFdBtGZEeHQXo6UHH1Exz5u1gl1HKudNIIe095eRRJJ84gtSrlzVXX8Cocw8RLGazF8N03DRqIXrQL5nhGzIJj00LCULCr7NgULMuTAaNEOsnjiwTtnjeh2uKJ+Hr0KmTTBC3betW3PbxUQWBivcCVQD8x+Hn6ytMpWDhwqjfoME/n30yLlZ+dIyN5RcpKUgLDkLK2ZNALF3T1XBzFgYasPaslyuP5ohuobSxfb+UjV1DIjAyIiYGOmbmmgNi7gnxSPO9L66b1yH5zAkkrv8fkrZtJI1+E5J3bEbS9k2aq5kjee8O6OXMDd3sOTVnCCy4yILJiNTbN6FfvAyM2nWFXr6CMBk+lrYx7LuhvCVoUv1zcF9Ai5YtZX/dmjUICCBrSoWKfwB1Mrj/KNjd88f+/e99tk9m3gnLFsB84Wo5Tpg9BWnPQqFrZy+M0rBNJ+hYWiFxzTKY/bwA6YkJiO3TXSwD457fQr9cJdpPRTp3ehJpJh89iNSb12AyYpw8j8HnElcvg66Ts/jb00mwsPVhULs+DJt/oUn1z5AeFYnYoX1Eo9fLm19zVhEKKVcuwWTYaBFsqZfOIZ1dV6yRS4c1/ypbunafYNSqPQ/rlf33AbYA7t65IzOG1q1fX+YNUqHir0K1AP5jYMbBvmR299Rv2BBFixV7r6N+0+PjhRlrwb5ww7qNYNx/GHTsHQF9PWGKOnr0S0i9dgU6+gYw6tgNCUvmIWnP76Lx61jbQMfGVrEktFaDBvqlysG461cwbNYGxgOGw2zGrzCbt/yNzD/17m0krlqKRBJOiUvny7sS1654zqBfRdK230ibL/AS838OjfWSFvhE3Fdpd33IArknncZJJCBS791R3FTcqZ2cRN+nn6nr6J+A64xddeyyu3/vHvbs3q1GCqn4y1AFwH8I7O5Zu2aN+JLZ3fNBFnhJTiZum4rkA3uQtGsbMckA6FhoZhXN4PbR7qd4X4Be0RIwqF4Hxl8PFNdM/KzJL0XeUGLNrwIdMzPoV6xKgqAs9DzziqB46dmZgZgxd1KLtk7QEbcSG79/NoDTAp4g+cRhGH3RSXPmBUSr17xLn/JtPGCYCCGjzj1hUL8pdAyNRHDoV64h/Ql83rB1B+mz+BBgl13ZcuVk6m4W6iwIeDZXFSreBaoL6D8AXtzlyOHD4kP+0Iu7pPndR+Jva4k76ksnLbt+DBo2E6sgfuKPMKhWGzAyQtKGVTCdPAex/YhJsuunaEnl/pBgJP22hiyC7uIqSj6wGykXz4pfXUI0H/ozFxYhk84ul1TeT5Fj0eaJnNkPr0Pv/buInzYeuk4uwsBfRdLu7dJnYfLdKM0ZBQlzpiLV977C6NPSxTXF/QB6eTKxID4g2ApgQcDTefNU0uqKYireBFUAfMZgd8+1q1dx//79D6fx/wVwRAx33qaHhyHlwhkY1KqPpJ1bYdioGdmimWvI7N9Pj46ErrOrhIomH9yraOCswZMgE1cSC7QMv0ZtO0MvbwHNE/4a0oKfShir6ejJIoBehfQBXPOGydAfNWcUsMtHIn40FhALEeN+Q0UYfQxwB/GZ06dRsGBBeOXJ80GFvopPF6oA+EzBDODwwYOoWKkScuTMEMXyDuCVqNROxczBncMc2aRjm2GGTrJE2JJhYQVDI+gY6JMFZACjTl++HEL6EcBuvxNkEZQuXfpvh/eq+HyhCoDPDFp3D7sASpcp886anzaq5MaNG3hGAqBnr16aKyreBRypFD9zEszmLhMXkLilWFBY22hS/H1w3fwyezbKlS8vUVt/VThr6/Ym1W1Zega7AlWoYKgC4DNBRgb+V9byZZ/xrZs3ce/uXVSvWVMWgtm3d6+4jFS8OzjElaeBoIrQnFFg8sNP0PN8Mcbh74DriBeJ5xHBV69cwZMnT5A7d24UKFjwL/n4mUbOnzsnK77VqlNHXfJThSoAPgewy+b40aMoXqLEO7t7tD5iNzc35C9Q4CVmwJEkqgD4G6CmlJ6UqAgBHR3o6Om/l9h/rl+2yjK6cLj+7t6+jWfPnqFchQoiuN/V2uMooVMnTyIuLg7Vqlf/6H1DKj4eVAHwCYMb8sEDB2BiaooKFSu+VRvk9OwGuH7tGkqVLo1cpEVmdo8qALIWeOoHF1fXTDV2rlPW6Dnyx93DQ+ZxelcXkRoxpEIVAJ8omCnwKNDGTZu+1ZRnDZKZPvcP8MCvt/mAVQGQtXDF2xs5c+V6az1z/d4hq4DrulDhwrKw/7to9ywIdmzfLvd86DBhFVkLqgD4xMCNlbV+9v++KaqD/b0P/f1x6dIlcfMUKVr0nU19FgB169VTGUEWwd8RyCz0b5AgYBcRa/fcf/C2+lRDR/97UAXAJwLx25K5zr7lN7l7WAvkjsKAJ0+kT+BdGv6rYOvCgrRNNVoka4Cn6ObZQP8OMioC7OphLf9NLiI1Yui/BVUAfALwIYbMDbJK1aqvbbysvbGrwJS0fJ7Z85/E8bOwYd8wdxCq+LjQRmnxdA//FH/FRcSCgAcRclp1srnPF6oAyMLQ+ma5wzYzk5wZ9YP79yX08++EBb4J7HZQI0Q+Pliou7m7v3cG/KqLiN+RGe0wjV26eBFhYWEyqFANHf28oAqALAhtvDY3Oo7pf7VharVCjgfnwUF/JQTwXcHa4pZNm9CiVStVCHwkaBWAv+v+eRcwrT19+lR8/+wiYqsgM7cP0wMPMGQLswIJAjVi6POAKgCyGHjoPvtrX3X3aBsqT+/g6eX1p9j9DwGtEOABYg4ODmqj/xfB/TA3rl+XKK9/q9xZ22dXI1uVrq8JHGCh9MeBAxJY8FdGmqvImlAFQBaBNKxMFmjJ2CjzFyyIPP9ydAa/n+PMfW7dQhwJBHY18SLlKj4MfB88kHLmSJyPOXcPu4h4nYG7d++iEmn8r7qI1IihzwOqAPjIyOjuyehz5wbI5xnvErv/b4EFlYoPB67/rGRpPXcRnToFWzu7P7mI2GLlgIG/M+mgio8PVQB8RLAWdejgQdSoWVMaFTc27Xw+bGKrozNVZCW86iLSuiG1dKuGjn56UAXAR4C2Q40bCrt7EhMTJXY/44RsqkmtIitD6yLiQAR2A/G0Igw1YujTgioA/kWwppRxgZbw8HDxo9rZ2qI4aftqg1HxqUHrIuJwVQa7K21sbETB4YUzq6qhxFkaqgD4l8DuHo7g4QE4jLdNyKZCxacGdhGxcnPrxg1xEVlbW+PBgwfqZHNZGKoA+MDgRsFhczydr529PeLj4mT6XtVPquJzRsaxKmwJPHz4EPXq11cjhrIYVAHwgaDtGNu7Z48c84CtvzIhmwoVnwO0LqKr3t64ffs2TE1NUblq1X89nFlF5lAFwAcAd5Dt0zB+7gz7OxOyqVDxuUE7poTDRhkc8KBawh8XqgB4z+AIn3NnzvzjCdlUqPicwe2EI9/exyR3Kv4+VAGgQoUKFf9RqH4JFSpUqPiPQhUAKlSoUPEfxX9CAHBs8smTJzVHmSMiIgJ79+59vsXExGiuAKdPn8a9e/c0Rx8XK1eu1OypUPFxcPXqVcTFxWmOXga3lX8L+/btQ3BwsOZIxd/BZ9MHsGfPHsybN09zBBll26pVKwwcOBDbtm3DmTNnMHnyZM3VP4PjldetW6c5Arp16wY7OzvZHzlyJIoVKybPY3DaBg0awMXFRY5fBb+zbt26miNg0aJFOHbsmOboZVhYWGDBggWaI4XB83TQGVGrVi00atRI9vPlyycrhKlQ8bHQrFkz9OrVCzkzmfytYcOGonC9CSw8evfu/ZIyw21r06ZNmiMFp06dwsaNGzVHCnLkyIEBAwbIfseOHWW/VKlScqzir+Oz7QTu16+fEGqNGjXeKgCGDBmC69eva45eoGzZshg7duyfBICfn58QMFsK7wK2JhISEjRHL6NixYoSH60FjxjOOOMmC49ChQqhe/fucqwKABUfG9yuHB0dZYTvq1i+fDmCgoI0R5kjMDAQTZo0wfnz5+U4NTVVphnndpURbJXzGAItvL29sXv37ueCQxUA7wEsAD4HjB49Or1du3ay1axZMz1v3rzpxHTl2tatW9NdXV3TiaGnHzhwQM69CiLC9BMnTqSTFZB+9OjR9JSUFM2V9PQffvgh/bffftMcpaf7+vqmk4avOfpn4Hy+CdTY0q9du6Y5ent6FSo+NJo2bZpOjDj91q1bf9py5cqlSfV67Nq1K93Kyio9KSlJjvk+ZkUkGOT4dZg1a1b6L7/8ojlKT+/QoUM6CRHNkYq/g8/OAmAfJGsF7FYpUaKEnHubBcAmKbt0SpcuDWKwuHPnjvQZsLZBhJqpBcCmbt++feX4VbBGklEr6dq1q/Qh8Nwor4Kfv2bNGs3Ry+D1WmvXro0LFy48H0imWgAqPjZWrVolU5ZnBp7vZ/z48ZqjP4PZTbVq1WREPClr6NKli7QjnjOIhAeIwWtS/hnVq1cXi9jLy0uOVQvgn+Oz6ARmE5I0eyGIuXPnYvv27c+Z/7uAVz1i5jxt2jT06NEDU6dOFV/j64iczd8JEybItM2Zbebm5pqULzB9+nTs3LnzT9vrmD/jxx9/xLBhw9RRxCqyBB49eiR0zC4eHuSY2cYKDachK1pz18tgei5Xrhw2bNiAxYsXY/78+eL25DbLStKrPn8t+DwrP1rmr+L94LOwANjHzoyffZPu7u6asy/AGj5/ppOTk+bMn8EMfceOHTKVLfseueN13Lhx0NHR+ZMF8FfBFgB3mLGfMzO0bdsW+vr6miMFnBfu1H61n0G1AFR8LERGRuLatWuaIwVnz56VzloOfMgIboesRGUE++7ZEme65nbFE8RxX93atWtljiB+fuvWrTFz5kxZY0AL7lRu06aNBHqw8qWFagH8c3xWLqArV65g0qRJmqMX4Kgd7mzNzAXEwiFjKBnPVxIdHS1CgDcWGkx4WgEwePBgeU9GcNRO4cKF/zTdLWv4vH7uiRMn3hhGyoScUQAw02fhw7+vrhGgCgAVHxuzZs0StySDO3QfP34s7lOGoaEhli1bJvtvA08Ux4oXW7qvA7tbmzdvLsKD21hGqALgn+OzEgApKSkvxe9rsWvXLtFcMhMAHFnA1oMWHIrGGjuHgPLGriRm5G+yANik5TRsAv8TcKTQDz/8IH0QHE2R2fNUAaDiY4OVJHa7ZoaiRYu+FNX2JnB75XaVWQQeg9sA9+Wx35/TvQpVAPxzfFYCgDVmNkVLliypOfMCjRs3xhdffKE5ej0yY7BvcwG9TgD4+vpi6dKlmqM3o1KlSuJ2YmuD8/o6qAJAxcdGnz59xKo2MjLSnHkBtgbY4s0Mv/76q2ZPwessAHbztGjRQgZ6Va5cWdxDmUEVAP8cn50A4Iifn376SXPmBdg0fZclF9+nAOB4/ps3b2qO3gyeFjdbtmyao9dDFQAqPja4r23UqFEyp39mMDMzEx//q3h1oNfrwOMLePzO26AKgH+Oz0oA8BB1juDJDDyYavjw4Zqj12PMmDGyZQRr8Z6enqhatarmzMvo3Lkz5syZk2mY5/sGv0s7EEaFio+BjH0AmYFDOTmY4kODrQdWyjh0W8Xfw2clAFSoUKFCxbtDDTBXoUKFiv8oVAGgQoUKFf9RqAJAhQoVKv6jUAWAChUqVPxHoQoAFSpUqPiPQhUAKlSoUPEfhSoAVKhQoeI/ClUAqFChQsV/FOpAsA+EpMR4JCWlwszMVKaipqKm/7Slp9KvnuxmNlxehQoVKv4tqALgA6Fru7Y4fOI4HOwcULFCedSsWRPlK1WGnb0DCQGWATqqAFChQsVHhSoAPhBuXbuKFUuW4NzFi7hz/x4SEhLh6OCA6pWroGfv3ihSvBj09JX1A7gKWBhoq0IVDCpUqPg3oAqAD4yU5GQ8efQIu3dsx9p163H73l3o6uqhTMlSGDZ8GMqUK0/H+lQTSnpdXbIM1CUgVahQ8S9AFQD/AtLTU5Gexi4f4PTxY/hlzi84evIEEhITUK5UGZlat3T5CiQDyAqgNHp6qgBQoULFh4cqAP4FpKelsV9Hs6+spHT5/AVMnjgRh04cg5GhERrXq4cpM2bB0sqCLAA9EhqKNaBChQoVHwqqAPiISEtJw5mTxzBo8GDpJ3C0s8f4cePQrFVr6GncQrqqNaBChYoPBFUAfESkppA1QKUfFx+DnydNwuIVK5CUlIRmDRti1rwFMDXPfGUlFSpUqHgfUAXARwa7h7gGuBounj2NAQMH4tZtHxTMXwC/LlyEAoWLiPdIFQQqVKh431D9Cx8ZHPGjdfOULFseBw4fRvdOnXH77l00adIYO7duFuHAC2irUKFCxfuE3phXF8BV8XFAVgBr+YYGBqhdtwGszExw+NhR/L5zJ3TTUlG+QiUSFqoVoEKFivcH1QWURZCWmiaWQFpauriFdHTSceWSNzp0bI+nwUHo2aUbJkybBj19fUmvuoRUqFDxT6EKgCwMrpo7N2+iQ4f2eODnh/Zt2mDarFkwNjZRB4upUKHiH0MVAFkYXDVsGTx+6I+uXTrjyrWraNaoMRYsWQYjYyNNKhUqVKj4e1AFQBYHu4TY2xMVGYnWzZvh3KWLaNOsOX5ZuBiGhgbsC3rJHfSn6qRj1VpQoUJFZlA5QxaHzA1EDN7K2hr/W70GpYoVx6bft2Pkd0OQmspTTCgMnxn/6mVLMGXcWBEWMu00bypUqFDxGqgC4BMBM3gnJyes2/gb8uT2xNJVKzHuxx80V5VO4cePHmP2/HkoVqQwZk//GfHxCSQk1PBRFSpUZI7/nAtI5uXhX/5qjevkU5hzJ2M1PbhzG82aN8eTwAD8PGkyuvX+WvoKGCeOHsKQIUNxz/cBKpevgCXLlsHOwYGukKyn71XnF1KhQoUW/ykBwEwyjT5XBy+0YtacefK1TymskgeF3bjijeYtWiApORlrV61C+cpV6Bt06fvSEBsdjeGDB+G3bVuRx9MLq9euRc5cuUXoqXMLqVChQov/lABg7T8lJQUP7t5FUlIi3D2yw8rG5pPUjNNSk7F/9x507tYN1lZWOPDHQXhkyy7XWJZx5/HMqZMwdcYMODs5Y8fOHXJdV08ZR6BChQoV/zl1cMbUKahRswZq1q6NWjWr487N6yQZUomhpsj2qchDHV191K7fEEP690do2DP07N4VCQnxkn/+BLZoBgwdjqEDByIgMBCdOnRERHi4XGfhoHUZqfh8IBYuDyTkOqb9lBQOEuC5ppTBhQz+5WsKnWjS8j2adCr+W/hPWQDhz8JQpEhBuLq6oXmTZpi3cD7q16qD70f+ABf3bDDisErCpxQ2mZiQiK4d2mPvwQP4qmt3TJj2s7i4dEjT1wEzgnQM7vct/rduLapXqoz1m7eQtaMr7iI9fT3NU1R8DtAy8rS0VPj5PsD2zb/h8uUruHPvHszNzWFnYwsrK0t45c6NcpUqwY1o3s3DXQYWMslr55tSrcT/Dv5TAuDW9WuoUq0qatWoBV9fX9ynRpKUmAgLczNk98iGAaRNt2zb/pPyk3Ojj4qIQJXKFREUHIzlSxajXqOmco2rli2BFLJsGtWtg/OXL2H8qFH4pv8gua72B3xeiI2JwY4tm7Bm9RpcunYVyUlJKOjiRnQAPI4IR2xSovQRJdB5hrmZORzs7FG8SGGUKl0K9Rs2RPZcXqpi8B/CZy8AmEFKCyBt+PGjRyhVqoSYxmakERUuVAQFC+ST8MmTp08jPj4OfXv3xshxP5EVoKPcRwyUmai2mGSfzWXNvhYcj/8xGKp8H22H/9iHDp07w97WFsdPnoa1rY3kicF/7966gYaNGomWt3//H8jt5SXfmPEbVHwakDpX9qhydRAbG41VS5dg0dJlePjkMcwMjVDCzR0V7J1Q1skJVgbGiEtNRQrVfWxKCm5FhiEoPh5nggIQEBWF0KgIsgD0YGJijNw5c6Nt61b4okNH2NjZEu3oKv1jGvqXJqHSzWeDz14A8Oexz5MJtl/vXlhPGlLpUmXQvn0HGBjqw1DfAGZmJvC5dQtTp/9M6YCaVashlbRmA7rm5uaGnDlzwt7RHvYOTihQqBBMzS1gYMBmMkcU6WrbxscTAJQBZvajRgzDArIAWjRuQr/LZW1h/n5qrlzTmD9rJn4cN46+ryrW/raRvt9YbcifIHghIa636KhI/G/JIixYvEQmDHS0tEI5V3eUdXCEs7EpTDXRbayuUPULdHV0mRqIfvVgJm5CXTxNTMDBwEc4E/gE/uFhiEuIh4WFJSqXL49v+/aVacoNDQ1F8dHSi2o9fh74TwgAXof31LFjaNmmDZm6ZVC7Tm1cvuQNPz9fsQp4cXY2n1k7ZgLX1dODPpnBXDLJyWQuM4+lf8ZGRrCiRubs6IiSxYujZevWKF6mLEzYh0oN4mMxU6VTLw0x0dGoW7sWfP39sYI0wroNmyjfT9niZp+YmIiqlSvCz98Pa1euRK0GjTRPUPEpget749pVmDZ9BtW1H+wtLFDRzQMl7B3gZmQCU31DYvREtMz8qf51M9Cl9ph/9YgwUomuWVEwIpo3oftCExLwR9ATHPC9h4dhz2BkZIzC+fNjyOBBqKOhJxmdrk4v8lngsxQA/Emi9TORcoQPacfdO3TArj8OwMnJGcFBT5FKQoEXY3d0dIIlMfUiRQrDibR8fdL6LS0tSdu3F606OjISCdQooklAXPa+gidkYj968kQibngqBme6nzXqr77+GvkLFZb7pZGw9s3aOQsUNqE/ILRVyBraudOn0KRZU2TzyIajJ06QcDKmKy8WndlOmn/3Xl+hROEi2HvokGiADFWjy3pQXI1EO0TD7Irhzt1b165h+LDvcOb8OZiT4lE5Ww6Ud3CGAzFqawNDsfSYGrRMnmuVyVALlgUvXaff5yyAfti9Y6pnAHMSJFcinmHJzSvwCQpEKqUpUbQYRo74HlVq1lHuofbFpP2xFB8V/xyfrQXATJ8b0M3r1yT0cx8xu3hi2ubmFsiVMxdKlCiBgoULw8TUhDQgfaWxkRYtDU4DJmw9InJ9Yo5mZqawt7ODqbklmd4R8L54CSeOn8DZCxcQEhoswqQMPXPQkCGoXK2GNCRueVy6emRu/xvQfvPXPbpj49Yt+HHYMAz47vuXNLb4uFjUq1UbN3xuYdOGDahSo5YwBNYCVWQtyJrRGiQlJWDmlClYsGQJ1WEcirl7oKarGzxMLWBDtGegQwpHhgGOGZGxhb8Lr2aBoUcJDaldWJOQ8SElaJHPFVx58ogUHH2ZkXbUuPFw4Q5m+qd2Gn+6+GwFQFBgAEaNGIFde/ciNj4Ozi6uqFShIkqUKgULSwtieHri8pHWoWkVHBrJe3KUoaFwEm5cuvTL7iErshAcHB1gYWElwuDo4SNYT8z07r17MkNntUqVMXHKVOTMnVuY8r/VQLT9AY8f+qI2MflU+r4jR47ALVv251oaV/eKhb9i8PfDUbNKVazbtAk6pPHpfWArRcVfB/dDIU0H9+7eRp9vv8FF78uwJwWmQc7cyGdlAxdizsYcsin0yfTLf/+MjC38bQJA6IRuYFJSOn8BYwN92JBFcIYUnV+uXsTD0FC4ODtj/NgxaNGmnWo9fsL45AWAdlCLFskpSVi2YAF+nj0bz8LD4OrqjoYNG6Jk6ZKiHRO306Rk8H1axphGe3xMxPy8lSgaPD//5calNBKek9/ZyQk2NrYwNjLE0YOHsYCY67379yWiYujAQejVpw+MjJS5+0XA/Eu+0xmTJmH8lElo17IV5ixcSI1ZsXL4/XGxsShZvCji4uNx7OhRZMuZU6wgFR8frJSwIOexGqkpydi743f06d8fsWS5FWda9sgJO2NjONPGbhkGkybvvcrc+fLbGP7bIM/l55AwsCRLw8rEDHOve2Pz7etISkkR+vqJLBNLKytKoy/vU11Cnw4+aQHAWddG+LA/M/xZKHp07YITZ89Ix2zdeg1QuUolGGoYMIOZ8Ktg5q9FxutK0TDz10F4WDgeEGMvUqwY9MkKoJN0jYUGYGhgSBaBI+wdHJCemoqN69ZhxcqViImNQZXyFbBs5WpqIBb8SLIGlMFmHxpx8QkoX6oEwiMjsHf3XuQrUIjyrLlI6PNVT4kEmjhuHHr3G6Boeyo+OhS3jyIExo38AYtXrACrLPU886CErR1cjc1gpk/CnGiTmbJYfRq8yneZfP8pL35hOXKu0mGoqwcnMwvcIroae+4EHoc/Q7FCRbBy7RqZWkWlo08Ln/Si8Iq5qjDqE4f/QLt27XDt5k14enrhG9K8CxUpDAPWbIWIlYaSmQDQXmNk1F54NykpCUcOHcaK5ctw7uxZXLniDT16ho2NjUaz5845jsCJRGhwCBKTElGhcmXUrVMb165ckwVctm/dgvLlysLJ2U00u38DHMVkQoxi+66diI4IR6MmzeiDWNDxt6bD2toa6zduQHRUNDp06CCWQcZvV/FxwHUQGxeH/t98jf+tWQMbU1N0K1QUBa1tkM3UnOiZo9OoDqmqtPXFP8qmxOdnrMcMu38L/CremK+zC5QjyqKIxl1NzdDSKx98E+Jx7vYtbN2yBSWLFYV7BnejiqyPT9ICyNg5xhrH1o3r0G/gYGK+SahevQaaNm/xil+SP/FNRMmuHmaOShomYC6W+7fvYtPmTXj4yB8mZPomxMfBwNBAooKsrKxRtGgxVK1SBW4eHpReidRgVxGPH8iZI7sMsZ8yaTJ2790DGzKRV5I2V7ZiZXn+hx5Mw+6emJhoVKtcBYHBT3HuzHm4uLEAUjqEea2AEkULIyo6Gjdv3lImxVPxUcC0xhFjTBMhVFc9unTF8TOnkdfRCU1yesKDmK2joXEGEuadNzfbjLT1vps4PzuV8ssdxDbGpljicw0rrl2SkcVLlyxB9Vq1qP2pLsVPAZ+kBcBuH21s829kevYbNFhcQB07dEINIT6+9qIBvLz/Z0j0j8aUZgU9LjYeG9dvxLbtWxFO2nP27DlRoGBhPHsWKpEP5cpXQtizZ7h18wbOkFXg4+MDSwtL2NvbC3PlcL3w8EgYkgZer2F9GJDZfPLUKezctQu1alSHo5MjvfPDhodyIzXQN0RcVAQOHTmKpLhY1KpX/7lg5IFsZ48fx3WfWyhWoADyFSok51V8HLDrkDX/lk2a4OzFCyhJmnTj7LmQ09wSdi8x/3fDywKAj1/8/lNon51M7TCJ2k41V3fYWFjhmN997N6zB+VKlxalKHNrW0VWwicpALQazeb1qzFgyFAhyF69e6NI8WJ8VUOg707pSucsaTXUCE+fPI2lixfj7t3bsCCtvVixksL0OWooMjISISFBqF2vAfLlL4CcOXOJNfDwoR9Onz6FC+fOi8vI1tYWRsbGiCbtmoVBNbJKTOmYhcD27dtRvWpVODm7yDs/JNgqyZM3H9avWwufu3fxRZvWMCdBpUV4SAgOHDwIJzs71K5fX3NWxb8NVj4iSdFo06I5Ll29gjI5cqKhR3bkMrOEpYEBUTIHW/4Vin7BpLV4X8xfC7Ij5Tc5JQWJaSko5+giI5GPkBDYsWMHypUqDY/syvTkKrIuPk0BQA3m2KED6PXNtxKu1qNHT+QjLZaJXtE62IWj+LtfbQgZIWGgkgZ4GvCUzNfFOHr0iAiCvPkKEPMsACMjQyUxgdMHBDxG7tyeMDExhSmZ5l558yKPV17paA4Kegrvyxdx/vwFPHn0BHZkEbDLSJdaX4WKFZCSnILjJ0/g3Jmz+KJ9OxlfIJE5LIDeZ+vUgK0RU3Nz3CMt//S5s/BwdEKpcuU0V9mVlowNG39DbGwsuvfsqTmr4t8AKzHcgcv1n0JMtFf3bjh66iRKZcuBhu7Z4WFiBjNm/pSO/e5MHQp9M20rz2C8jmxepiflvle31+Ft118CJUvkb6CtuIMjbEzNcejBHRw6fBitWrSUNiLC612fp+JfxSfZB+B7/x4akMYaQRp5127dUbhIEY02/YLIXhfZkxGsnfN0ynt278GJE0dlqgRnZ1d4EkM3Jo09Y9Hwbkx0FM6ePYkaNeugQMFCGgHCrhxOoYPk5GT4+/nB2/siQoKD+CTc3bOhVq1aaNywPtzcPdC/bz+cPHNKTP1Fy1Y8z/KHjA7yvXcXZYnx85D+fYcOQ58YC4MtlHKlS8l3Xrx8RQbFqfh3IMyf+41S0zCkfz+sJCstP9Feq1xecDMxgbWhkdQL0x3zzkwZKF/X7GrB6ZmmtC5ShpwjvPoIzgOf075Di4zveht74LTsfuUR5dakBNkSw//56kVsuHEFJYsVx7Ydu2BiZqaOM8mi+OQsAJ7itv0XbeBz9w6aNm2OchXKC8GTzvIyFWdoGpk1HhYQV72vYNnSpbh69TIxPzMULlwc2bLnlNGO3LQy3sXRO8w4AwOfiMaWN38BaRwvNRwichs7O+QvUBDZSJOLj4+H74N7uHzpEv4gxhsS+BQdu3TGFWK25y5cQE4PdxQsVIyeobigPhR4Yq+D+/bh6q0baNqoEezJEmDwBF9rVv0PAWS5NKpXF04urnJexYeHMF2isRVLFuHnOXPgamWNlrnzICdZbMz8mXy1FMw0lqkAeOVcRl6dWfo/ndK8I7NHvyvkfk1LYVcQj5yv4pINt2KicN7nJuKjIlGzdp0P7u5U8ffwyfTSpJKmxJ2/v/w8TUIrixcrISt7Ke4T+gyiYunM1Wza87yxps8ba1xMsjxp2q/z52Pp0sV4+jQAuT3zonTpchLaqZD0y8yfIc8k4uZ5g0JDQ2UdAU7HjU67cVOQ2+nX0cmJnlmW3q8j6/Hy3EGr16/FV199Rdq+Esf908RJCA8L5Rvk+zi6KWNc9/sCLw7TsnkzsXC2b94s79a+J69XHnFNhYeHyzkuYxUfHlwHl0kJGD9pkkzf3CpPfniYmMLCwFCuaRUQ3hTaegG5rtkyghm5dsuY5nUbM2WJCuMbXgO+9uqWEcoR54OfCYTFxpFFkIrRJcrDxswcK9asxqljhxXaJtri96rIOvhkBABTFy/oMmvefNjbOaBt+/bvrlUwsdO/5KQU7NuzD2NGj8K1a1dhZWUjmj0PGhOtn2jzdfQpTyDi5xGPcXGxMjmc4DXD7wWahsgCoHPX7qjfoIl0wt4nq4AXaQl4+hTLFi1EWGgIJVQGAH0IcCnVb9oMNqRl7tyzhxrji/e4uroS40+T/ovXfryK9w6ez6dPn76kjMSgqVc+uBMNOhiZSH/RS3hHEv/QeBfS4P4KHiwWHBMNGyNDDCtVgZSOJAwZ+p3MZcSz8r4qQFR8XHxCFkAKxo4ZLR2WTZs1I0b8IprlzUgHz9/Do3hnzvgZ27dtEaZcpGgJFCteUqa7DQt7JucYbyJQTuPg4ESCJBGBAU8oLZ98fXrFAlH6BjixZx5PNG/VGs1atEG+fAXEEpgwbRqqVK6EIf36ISgwiJhxiubu9wfOpwsxes+cOXHfzw/BTwOlRfMnmxizrzkNN65fV75H/qj40Jg1dRJu3fFBSY9s8CKlwsXYVGjlQ9lf/0a1pmnekUSMPpIs3iqubqiYI5e4a5eTosMKm2oBZC1kaQHAJiObjhwpcf70KRw9cRxeXnlQsnRpusoaOY+KfOH2yQjpYKNzsaRhrVzxP8yePQuPHj1EdiLIsuUqwcHRCbrEgC0sLRERESYTp71J22J/LT1Qohp4gNeTR48oX3QD36PdmLY1Gzc4AwMD2gwlNJQbt2JF6MLJ2Rk169RDx87dUKFiJcQmJGDF2jXo3rXzB5mThxudgaEhqlWrKjOi7t65XXMFMo8RZzksLIw/T/lOFR8EXA/s6rvu7Y2Fy5bBnqzBqi6ucCXNn2ffZJphMtKCaYY3dtPwvdrtr4Kfq4X2mQJ5Hu3Tr3KO9+kvbdya+MyLd5J2T7+8ZYT2ebxxx7M8hhAWHy/P6lOwOMxIyZr/6yJEhIUrF1VkGWR5C4AJi33TU6dMFeLjue7fBXzPqeMnMXHiBJw+fRLmFhYoXaYC8uTNL9MkMHlzOClH/bA5HktmK7/rTQ2MiZvHA3BUAw8K436F1/FLfgxHEplq0vKSe3IyA1iQlChZGh06dUWuXJ6IIeuG8/C+wU/k8qhVuzbt6+DUqVPyLbxly5FDznHo6/OTKj4IuPrTUpIxdvQoqes62XPCkWjAwsDoOZN/E95y+Z2hfY+iMqUhmQ6DqQ08ojaQQIoQa+rKBHMv2IPcwX+UW98B6QiPi0FuSyvUzOmJJ4EBWLl82Xv7BhXvB1laAGhNRv8H93H6/DnkJeadI8ebB5ewhh0SHIK5c37BuvVrEBMTg4IFi6JEiTISDUP6jJJQQ4kWJBh4dCx3gvK73sSA+RZO42DvSOmfSceucNfMQGnZxaNHjD8qKkry9Sr4VZwLHUrDEUY8LQNbC+8d9CJ+V/HS5WQOoNu37yKF3VL0LWwBMeTbtDsqPgyobC+eO4djJICz29kjn7UNHAxNqG5edMp/aDyncXqdHhHv74/9MfD0UXx36ih+OH0Mg+j3eEgw9CmJTgarmsmcb+MtI7TC5FXw2ZjkFCSTQOnqRUoXKU5r1q1DYkKckkBFlkCWFgCsoevqpmPWjJ+pgaShRvXqRFi8zm0Gtw9RmpYIWZPfunkzJvw0Xkby8uRrFStVhatmDhxNYkkrxEzHpqbmoolHhIfR8SvU/Qqk3dA7rYiJ8jufPH4sj3wOvl2zMb/n9Ve5k1nyqQWn12xyK/3h5xqTmRwSGorwZ2F89r2CGzxvPH21i5MzHgU8wdPAQPmGyIgISpEugoqzLplR8cEwYcJ4CSOu5p4dlgaGMJGlR5kpK9e1dcUbn9duyjX5eQVKWv59F3C8Pk8jHUfW67Qb3lh7zZssgHS4EV3kcHVHQmoKFlw6i/Ok4BDxPs/Lm/BqPhl8C3cJc19ADktrFHF1w30/X5w5cRJpZG2ywMuYXsXHQZYWAIzomDgcOXZMplvOkz/fn8icSYgZ7fWr1/DztOk4sH+fEGyxYqVQSJZofLtP3Za0sbCw0D8R8etgbm4uDDM4KEislMyg8HxF21LCO19MYPcqpH3RJqGqb0j3PiDrAMTFIioyUvL2iBolv9zUlBeIp121UX4w3Lx+BecuXYa7Dc/saSpRP4y3Mdj3CrI22Fe/58kjnH/kj/w5cqMMWdaezq7ISUKgdJ78MpHb/25eRzSvh/03obVo4pITRMA0ye4pStyGDetefK9Kax8dWV4AXDh9Ek+eBqJUqdIyyEThUgpIN0FkeDgWL1qERQt/JQ06BHb2DrKQO/vpFYauSfwKlPPC8aQjlH3gClPk828Gr/vL4ZwP/f2kT+B1YEJntxMz9uc+9kzAeVEshXQ8IytA3DMfCDxPEXd43/G5ScJLV0ZTcz55biMpk3cpABV/C4sXLpLxI8WdnGBtaAye5UdG0SrE+MHB9SwduSlpOPzID+6OzvBwdJB2JDmga0aGBsjrkQ1PoyKw+/FDaSGMvyqkOD1b8OwCSk5JRimZJsIMp06fQVKS4n5k+vsU8TlZLlm8BtKxbctWYUxlypYRItXSITPJPw4cwKRJE3H58kXYEYGVLVeRGFlBIT6eXItI7LWEq5xWKpIHd+mT1vMsLOS16TOC01jQPbxKEwsNecyrNMHPoY3HDXDoKk8lLR/Cj9duDM0vWyHsGmjRsjlaNm6EwCdPPgihlStXjksFFy9elCir2Ng4+Z5s2Xj2Rk0iFe8NXIesDbOicvjIUZgbGyOfpS1sDQ2l9bE2nsFB+JehrbM31R2TkZaU9Oml+58+QVhMNDzsHZWeYHGlpj2PaHYmhcjSzBxHyUIQTV6jzTOdZNY+Mj5fUbr4gDZKyvsxZAU4m5jB3doGT4ODcIssoRfpsjY4j8xr4qn9srv0ufuKBNvngCwtAJKTU3Dh8mU4ODjAhjRXLfE9fvgIs2bOwpYtm0SzLlqsJIoUKS6+fJ58jUMvoyIjpFG8C5HxfSZkkvMUz8858lvA6wEkJSXKGAJ+z5/ahea1PN0CM/aUFB4Eo5z7EyiPPJ00t7NU2o6fPYM+vXshle5733BycZFP5FlM2X3l6+cn/SNs0XD5stam4j2DmOvl82eF+TETNCcaNeaosH8JymhfzkY6fONisPHOTTjY2MHSxERoITYpCT5PHkt7k/Q6unAlSzo0JgpTb3gjgIMd3oBM6T8DEum5rO0X5jE0RNMXzp0TWstMmGQ1MP/gYI6B33yDjm2/kOldsn6u3x1ZWgBwRMyTgAC4uZF2SsdRkVHYuGEjpk6ZLFMw58zlhfIVqsjgLK4oJih2z7BGHxISTMdKJ9bbwO4X1sBjiOCZMUqreCN0KL2duH/u37uruG80V55DHsGd2FzEytXXySI+bWhkKLdUq1oNebzy4cyF8zLp3fsGz2LKFoB2yoe79+/DisorV568cvy6Pg0Vfw9Knevg6JFjMgajuKMTrMjaVIIS3j/4dRmfzFYwg//eIa1//PlTwowLZctBJ3UQl5iIS3dvwy/wCc74XEcKuyoJHiQAXMhC8CbBMPTEIex6/FDRfOkF3JGsJWXtL+N19M2zhaampcLLXIk4877sTX8/bF/X+4K2LJ8GBeEcWc3XvC/TN1Pb+QSE17sgSwuAa96XEEVEW6hQQVy8cAHTpk7B4UN/wJpM1FKlyyO3p5emITHzZwJUyN1So52L2+UlEs0cHKVja+sgmnqkWA5vrlx+Ig/yMiLLITQkRO57edF4BWxZS78FgU3IN4HDQKl5iZaWN28eWRzk7OlTmqvvF/x97PoJePgQkVFRJAAspZNde03F+wXX6UmqSxNDIzgaG8OYNEqmVe3GZa7dMp5/F2g7Wxm8xy6ldH6WhklzCMTNiHDMvHUdP509Tud0UMIzjwRHRMfF4uIdH6HfSgXyIjY+AQ+eBgod8oDEojlzo2Te/DAxMsGqa5cx4eolBBMdM62TasVvU5aJ1GyvA3f+cuRRQbI6+C6l3+nfs4D+CbT9FDymJyExAT43bsg3fC7I0gIgJDhYiPPw4cNYsWK5TF9cqHAxFC9RWuL3X3VXcAPiBsHuGY684TEA79iOJD6emw2Hg3JTehNRMwHwu1hzjoqKlEnWBBnSC5FQGls7BznmOVH4ntdB+8xYMjE9smcT11ZsTKxy8T2Cs8gN3MzMFDdvXEN4RATKleGR1So+BJiRJ6em4CnRMi8KZGtgBFNdnm32/UMsO3qwLv3hmTmvhIXj+4tnMP7MCVx68giujs4onS8/TEkQPQoNwdnbN4XI21QqgTpFcyGXqzP8AwMQyKPCiWkzndiYmaFcvgJwJSv7BlkJI84cxyESEtyZrCyDKmT+fMsMrKMlpSTDir5fxumEhipBEZ8QtMEevr4cNZel2eZfQpb+kstkcjFT1A6kYq2b3TtK42GNSXYyQLEErKysRKMODQl+vgTim8BaEY8O5vh+DgdlIaIQdMYXZNynHNB/ezKRY2NjEEyNW2L+9ZRh+4rPVYe0fx1YaOYs4vUB+Jz2ujaN9peno+a+CBYmWsH2p897D4gjocJMicuFQ2fZ5VO+fHnNVRXvG1y/cbGxCAx6CgeqYy5vnvYh43z9fxlMHgqJaH+oTvmZQCRZvpue+GMYMf3JpPEHREchj0d2VCpcFPldPRCXkIhzd31w0/cerIm5d69VFl4udkRsumhZtiBsLc1x0+8+/EKIXuXhCn0Wyp4Txb3yIo32F14+h+nXvRGZnCzfo+D138PkzPMDcRvhVGFkkXB/w7taOR8TWrdXHFnkXA5Xrl7VXPk8kOUEAJuLrH2cOX4Ui1eskNG/w7//Ht98861I4WtXL4v2oBBP5kTH6czMzGVR9HeZ3piD4FgI2Nrak9Ydg4TnoxUVAtXSqfJLDU3m62Emqk9HOvDhtYFPncLpkydx+sQJnDp+HCdPHMeJ48fEjcV55ZDRc5Tm3KnTOH/mLC6eOw/vSxdw+cJFXPX2xr07t4XAAp48lvEFPHLSUjNK933its8tyY85Nf5uX/XGlo2/oXX7TpqrfwaXH298j3a6aq6fVGr8vKLYp9CIPya4eHj0KwcB2Jiawoi0f6poKbeMRaccZ16Wr54mXi+Ml8+zXsqt4EF0BKYQUx584jA2XPNGLFkdhXJ7okL+Qsjh5CQ+eG+/e7hw+4aMOC9fMB++qlUODlZmygtoszIxQvvKJWFJ1uGdh3646v8AKXQf0yUlgAPRY9n8BeFk74ALj/0x4twJ3CILktk6MxJuQ5mBb8/YClnB4Wcqz83a4KJPp7IMJauI8xtJZfcJZPudkeVWBOOGwtpR62ZNcPzMGYwdNx7WpEUzcfnef4A5v8yWNXp5rVsl55llX4cY3U0EBj5GxUrVyXJ4+2AwfgqHjl44f0bcTE5OLhoCVZ7Pgok78Tjq5xlZFhz+yT5BIyMjYdbSgDm1pjHxPt/DO9z45Fmaolb+atJqfvlNPGFb8eIlJVb8DgmEI4cPI0/+ApLmfWFI32+xbNUqbCbGX6lGDWq4uuIz5uUpM4N8F2/UaFNTk3D75i0Zcc2Lfju7ugsjUjq6VbwO1y5fQuVq1VAplyeaeeRANlNzogEWqgpzZNrQ0kJGKNeZUb6gFQWsdjCN6eI2Mf5Vt2/iHtEk07mdlQ2yOzrBxpzeQXUWHhcL/+CnCH72TOoqm5MjGpfIB0crE6JLpjt6Er+AwL0G/JqExBSsP3sdfgGBElSRN1sOuNjYSH8W38MWzBNqBz4PfUUpqJMnHzrmzC0hpkLImcCOrJ90En71Nq9GiaLFsefAgecr02Vl8Biexw/9UaZMWSQlJ8mU6jdv35F2/zkgywkA1jbjSWOqXKECmasJGPfTeKQkp+L0qZPwypMXv2/bJnP5l69YVQiIG0JmeEYS+xIx85KlykqEDzUhOa/9Wg3NPwef5hjfkyeOwsHBEflIc+IBLM9CQmTeH/b1s0XBMCNNzjOHB6qXLYZqlYohezY3REfHiFnLkUvyS1tsXDzmrtgO7xs++LFfN9hZW4kwEIbKGzWmh4EhmLN8A6pWq4kSJUuQcHPGpIkTZZ6WM2QlWNvyIjXvD/Vq1sTlq1fIOjmOXJ55pCC4KLg8tB1eQhK08TGvwOZz4zpZChup0f4BP9IMOZTP1ckZv+/YgezU8N/FzfZfxtVLF1G1enVUJAHQIntOuBmZcssTWnyVDl+FooQodcI0KnVFWxzpFqvv3cJR0tI5jbuDE7IR3RobKktJhhC9+gUFIkLcpxDGX7lATuR2tBFGr2H3kg8xKUg48HNZm09N54GL6fD2D8ahqz6IiY+Ho40tvNyywZynD6c0fHcMKSrX/R7IO6rRt/Xyyv/8Odq8CujAwcJC5gZqun0DGtWth/+tW5+lFQcuQy5XtngH9/0aKym/ebxs4eMTitt37sKeyprde586slwNsJYSGhSEYGK82amx2NnawTN3Lmzfvh1LFi9G1arVkJiUiGfPQl4QWCZgJs2MKVqYNpMjg4iTblLaFIsOZeN9rU+WXUdB1HDOnz2FE8cO4TqZ1fwuawszdGjeEEumjcCZ3cuwf8MsDB/8JSqVL4Vsbs4omM8TRQp5oWTJwihXriQKFs6PBat24uLVG2jVoCZ6dG2BNi1ro0Ob+uj4RQN0atsQHds1pm/kBVnS4eXliVy5cuGhnx8JnDAUyp//vTN/RiJZLfxs92zZhMD5q5nYZRoK/iUBzFNFeF88j5FDh6BiubKoWbsWZs6fh0Cql2KkvbX7oj0eBQTgj717npesindDGoeGaUpNQ3JvhDB+Zkb8j25jXh1PWvdE73P44/4d0vitUaFgEeRx84ARMf+ImCjp3PW+e1si6PKRctKtVgV0qVYCnk62TOlIJOZ+MyAUD0IiKD/M8nWgRzS4+/J9/H7xNuIS08gi1EGJXC7oWasMcrm6Iog0/tM3rsL7wX3EEw2x1cDTPJfxygtHOzsc9b2HlX73lHzKv5dhQNq/DwdY0DdYW1nJdf6urAhtO2AX5yniAb9t3Y6cOazRs7uhKEW/rfkfpXq7a/lTQJYTAKwV88g7HgRlZGgoHWjWROSd2rWHv7+vaNg8dQOHa74OTFfK4C4zhD3jJRcVctQSHP9w40tLJS2dGoyv331cunSetOLD0gnMwsDE2AA1K5bF1B/64uCm+bh4aA1m/tQfjepVgZO9LZWcHqVTRIgWbJLzoc/t+2jUdgDOX7mOLq0bY8ZPA6Av2sLLRMNRFBFRsRJRYWJsLILg+PGT8u09v/pKzOv3ja2/78Tmbb/D0NBYCkGYC/2mpKQRsR/F94MGkFVTCXXq1ce8RYsQGhaOcmXLY+SIkVizdi2mz5xBdZQKczNT1Kxbn77/82gIHwpcp+bcl0PVz/50dqG8oJh3h0TdEL09i0/AyIuncT8kWFwzxXN5wYgsYV5h7vYjf5z1uYkEUpD0NJPMmZLG7mBhKn0FAnrG/aAIrDp0CssPnMSv+0/jQWgk0nTTZcDWOZ97mLPrKAmCu3gUGgVjIyM0KZVXaMTC3AzBEWEkCK7B9+lTeX46McSiOT1hZWGFPbdv4XhIEL2EvjDDR3IrMaL2cjUqXMqhSNGiSgPM0mBFKA79+g2gtpGE6ZPMUbGsLiwsTLBn3wFNmk8fWdIFFE7aRsUK5WFtbYMBQ4bAzcUJT58E4us+36JTx8744+AfJAAiUb5CZdFcM4K/RmhLRxc+t64j6GkgKlWuJnHP3Ih4HpJnocG0hSA6Okq0XdZXTE1MUKyAFyqXLYoKpYugcME8MDc3EYtEJmjTlJKQLTNzzfJH/C4eR8ANhAn9ADWs/mPmIDIqBhO/+wodvmgIPdKmRHuTW5X7+Elp9G/mvPWYNP9/GDRosIS8zidNO1f2HDh28qT4X9+He0XL5JkZSQFpzvHuXWq0SxcuwKGjx/CYtHp279iSgC1erBiqVa2CoiVLaDqjlQ9ISEhC+/bt4JUzB3bu3U+MhjTITySm+2OAyzksNBR58nohj4Mj2nvlez4gSksJb4LQFdUbkw0PqPrxwhk8DH+GwsT4XaieuDa5b+qK733S+GOQL3dOTBjei2hOF4dPXsbCNVtEQFQr6CUaPb8zJiEZ8/Ycp7ozkL6fyOgY5HZzQTlPN4TGJmLv+avSrjjyzsLMBLyWRTQpYoun/oA4EkCjpi/Cs4gIeDi7oJB7dhIenIdEEh43YUDPm1CuiqxzIK4myjg/J4e1Hb48vAe3goOwf98+FC1eXIIosiIkBJbadO8vv8Rv27ai79c58P2wJGq7umjVNg3nL4Ziw7p1qFKjFlewWAWfKrKgAEgRRlW1UkUEBAVh4sTJJHXNiBDN0K5DBzRt1hynThxX4tfLV5aK0oK/hP1yzOeY0T5+/BC3SFspUKiIzOMRGRkuIaXcaWtqagIXRwdUL18CNSqXRKXyxWBAWhMT+wsmnQEZ3sPCRYskYphM4Mzh12zYheET54swWTB5OGpVLU5NQJ+0f01iRoZ7U2m/SbsB8L51B7Vr1sWRo4dECPxv2VLUqFOXnkt5eQ8CgIUqfYD0TbBADHj0CNu2bsbuffvx6Mlj8Mym9vb2KF60GGrVqYPiJUuKjJNiyFAWXAQb163FwsWLMW/OHLThdZnpGz7lBvBvIC4uHqWKF0E8MdoBxUvD08xCYxG+DTpEI0xBlJZoeuLVi7ga8BgFifl72NqJ7RVGSsyle7eFZts1qYuJo76BIS94xEKZLMxzl30wbPxc3Lx7H1bUhkp6ZkfRbI4IiIjDplMX0aF5A2HuB46eoV+er4qfym0oDfWrVkBIeBSiomPRpHZFfNe/C70nHU8CQ9Dp23G45nMHOd3ckYc2diQFU14uk0JRhI5HFC4u7ZCzbkbWJvv72+37XaZ0OX/psgQ8sHDLimCWuHfHdnTp/iWKFbHDlvX60DVk9S4dl7310bx1AHLnyIU9Bw6RksihvTzte9b8lrchywkAXjKPC3rAt99g9fr1GDxkKEqUKCYNoGvXrujcpQv27tlLGnYkylWoQvT6wgJgguKZLqOJyYeShs+WBPvTWZsxIabsaGsDN2cn3PV7iGZ1q2BAn05wsrOGLhG7thCYJnUz02hfIwAkTI6KcOjoX7Bm+z5kd3fH3ImDULJoPrpKX0KNUD8jg8woAOil5ep3x31fPxFeJibGGE7f22fgICUfHGb6HhoJu5JYsHzb80vsJeuJ3Wg85N/VxRVFChdGXRI2+QsVhLGJKQkLnomUS4Pfq0N50KPyYwuHwxmT0LtXL5ln6bL3FZiZW8h5VQC8Hlqrq07N6rh69Sr6lCiNPGTZ2pL2raW510GsRi5f2t/+5CHWXbsi8/YXcOf+GyCUGO6Ve3dlvqkxg79E57aNiRGzXakLPR0epKVo2AmJiVj72y78umoHfEn4G5JF4GRjg/CYaKKDNKyeNx7urg7Ytvs4Ll29hYMnz6FQHi9sWDYRDuzupPxz6LUsECMZ0kFIWCjqfTEIAYFBKFugMCyMFZfi5ft3EUH5mlyxKtxI4KQRkbtZWmGL/wPMOHMcXdq1w+wFCylvHD3GX5b1wO2jUb26uELlvW+XC7y8FGtIlCK6/t0IPaxc44/uHTth6qw5n7QAyHItlxkeb63atBa3zaGDh0hrj8G9e/dkHV9nMjtjYmNkmmXFVFMmNnv8+BGueF/CyeNHcP7caTzy9yWCTUXNimUwbURf7F87G6d2L8GMsX1hbWmB5Rt3oGqjHvh+7FwEh/JapVQUTNzSXtlPS8/OIFxeBx7h22PAJKzcvAuFvHLj95VTiPnnJ0LhcLl0sSgyBb3jzn0/BAYFo2zpMhjSvx927tiJfoOHKsT2npg/g62k7wcPxJadO2QgXfu27bFg3jwsX7ECw0aMQLFSxWFoZCzWF71U3s8CY92atVi5bLkQN7shLl84D/+H/mhQp7b4tdk9xulVvA1pqFShAhKSk/AoLhZxxGCYASrs5PXQhmd6R4ThN7JkObAhP2nXTDvRZFVcJWbLoZ+Lp39PjLWRhGdyfSgWJ+vkrEylSV/alx2bUVsoJTRlSoI+hZgW90ewcNix5why5/RAu5Z1cN/vCfJ75sL6xT/B3tocqUmJSKV861JbYIGlo8s5T4OdtT2+/7YDkkkwPAx++nxBeHcHByTS950LCaZ8QqwRY119/P6ABJWBIbr37KUkzKLgtv/gzh1i/tdQuSIJ27w8LQYrhVSL1I743w/DkpA/rwNWrV+H7Vt+kyYgPIO2Tw1ZzgJgcJa4I5il8AXvy+jW7UuULE3ES9cuXbwkc/+7eyhRLOzaiYqOlMFfFubmyOnhiqrliqN6hRIoX7YYVRzpQ1xDGqSQ0EiDHlat3Y7lG3bhDlkDHNNbp3JZfNutJQoVzgM9FizMhKnWlZC5V6DR4tkm6DtsGtbv2I+2jWvjpx/7wdKEh/nrvhxXn9F60IKesXTVVgybNB9Txv+Enn36ai68HyiaJ4fzpWHU98Pw65IlcHfzwC/zfoEVaX8MzRpgAu4foRuEqScnp2Lc6DE4fuI4ypBwmjZjOpW1HoYMGoTLly/hj/0HUKRECeVGFW8FW6BnTpxA85Yt4WFljc5588HTnC1PJgNtHWTeDGOTkmXJxkQSzuXyFRQmyjh96zqSqI3MHDsArZvWpNt55Llc+hPYvk1L08WVm/cxZ+EaHD59UWL6W9avjpw53dGoZnkYGBmiWZfvYE5WaLsWdXD09CUSADb4YUBnWNtSXunhImAY3D7pm6JjE1CmXjfEkzCqVKioaJOpROtHrlxGdhtbTCldHlYkbC6FhWHYkX0oW6Ikft+7TyyWrAgtK5wyfiymzJiBX39xR5PGxPx1X26/nOrObR00bRkOPX0T7NqxA175eD0NavlUTu9Lcfs38BqS+fhgH+GsWbNhYWaO9evWYs+u3Thx9Dh++20jtRrg0SN/BAY8QWRUBKqULYWl00fg0JZfsXfjXIwc3B0VyhWhikp+ac5BrjiuGmbqXTo0xr5Nv2Dx1JEo4JkT2/cfQZOuQ9C2+3Ccv3Kb0rAhnXmj1IKfVadqGUwa/i1mTBgMC1MDOsldypkw/FfA4wH2Hjkv/vfmrdtozr4/sLbC0wP8PGkiFi9fARcXV0yZOuU582dklP28z0exMfH48YeRwvxLFC+OUWPHSB9CcNBTeF/xRsF8+ZG/YEHlJhVvBVupTHFFifll9/DAI9LmQ8hqjEhKEAWDLUWFMv8M9v0vfXAHUXFxMp0Da/LMXDi+P4YsiZb1a6Bl4xpSzxwh9DokkUD/ZsgkNOnUH+e8b2L8kB7o0Kw+zl3xQfmSBUmZcoG/7xM0rl0ezRvXxI9Tf8Wte4+xcfdBDBw1m/JJbEIc+gqYbFipMjMzQb7cORCXEC/nhPZJseH+ujCZNE4XZnqGWHjDGwZkzffp21emc8mKkLag2e7duw9jY0MUyMffo0mQAXwqb550jPzeGc/CQqm9/CDtjWvzU2L+jCwpALSFmKdAQXFDMPH8vn0b1qxdLRVVvXpNCc+q36ChXPu6a3M0rFcZOVxtSatVIna4cenpGmhGJyqb4ndkTYYkNRMnaf6N61fCrrUzcWD9LyhVuADOUgP5cuB4pLA76HUQ5spbOlkplci8bqw8ky5JJzK7fej6803zfgZr2rwFBAbj/NWbKErM1NZBmYnzfYDzxNo/OwAW/jIbP/8yR6au/pk0GndiQMwn+JrkhspZnF10D89j9PjhY3zz9dc4e+4s2rRqTdbCXAn35Kxv2rABPMNq+3ZtZX50Fe8G9g8zOZuRddqpfTskktZ+mhh4CJUlL5VI///E/plOuYZ8oqNk2UaOs3e15hh+yBgYf7rf0d4eY4Z/KZam0N6r9KqlOdp+23IAW/YdwbdffQU7e0csXLMD40Z9i0Pb5qJYobzQISFVpkwhjBjyFbbvPgp7O3scPHIEOdzcSRD408O4DyhDLllw0eu4b8vV0U5ojlfhUy5xu9OVPiZLI2MsvXsTD4KDUL5MWdRt2EjSZEVkZNz3H9ynMjCHi6vYTpqzL4PVw3Zt4lC1kjsOHj2Ci2fPUNq3u4yzGhSulEXBjadMhYqoU6MG7eugeo2a+IGkLfcPFCxUEI8ePpSpjIsUyafRULijhpoOESs3IN5/YWIrxMlHXNm8z1Qs6SlNkYJ5sGnFJOxcOQ0LJg2TRpX6GiHADFO0Lib8lHQ8ecqD0qihE+PXPj9TUGNUmlEa1m85KHOytG37hRy/D3BnL/vqWevc+tt6jJ88CaamZhgzajQRsyvlV3GHSR7pn9KHwm4fXdy4fhODBg3CkyeP0LtnTwwcMkSYFV+PjY3H0eMn4ECMQbFWXvN9KjKFlh669uwli/JffxqAYNKaQxMT5FrG0hQqpj/sqNzoe1fCcj1d3PghVBeAHzHTBLIgvmzbCLYyg63yfKrC1+Jp8DNRlCpUqoh4shxMeBqD9BR5GTM4ReBwrabDM6c7gkKCUal8Bdz1e4BubRpInlib10JJS//ovVplgKd7VqBYkqxoPSD6Xnvzisw7NY0UEG5nWRkSzEDfxOHX/BVa4Z0Z2LXMPrcB/fSoDPQwnxQtdpNye/mUkKUFgICY1oRp02BtaYXbt33A85SLSUoVc+/+PXjlzAYHG45G+QfERe+QhkhEXrigFyqWKyyEwEIgM/BZjoxh5t970ARUbtILIc/CpGG8FUQg8YmpWPHbbmEGjZq1lMb0PsAEy1FHB/bswoDBg5mEMXTQYBQgYcnf+Cfi5DKjbz6wdx+GDRuGmNhofDdkKDp26YoEYlBKEh2cO30GgU8DUa9WLRmd/KkReVYBR0317d2btPhk7CLmGp6ciJjUFKEnLbhBphHd3Y6KxLWAx3C2d4ClqakoHRxy/JgEQA53V/Tq1oLOvZviULtaGZiZmKB1u/YICw/Dj4O6IS05hTsAhR4TSXGIICEfF5eECT98jU4tGsLJzgoTh3+Dr3u0kvrOGG7N4DzL7cohEYryw3oY902wojHu4mkZXPbd4EHw9OIFh5ihvh9af99QvlH5mjxenoiIiEPQ09eXb7qMoNZF0SKpcHO1xAVvb2Um3+cF8mkgSwsA6YQlDYMXeh/cvz8CnjzBvn37iJfx7JoPJfqncpmiRGzM+KjkWUvRbkywmW2ZQNHcuWuYTGnaT6AGyiNj5TkZ8fzZxFqJkK/fvI1dh05QPhLpHD8+gwmoTSvpX7yf3zVn4XoEhYagPVkyTs68mpnmnr8BLeGy9s8a3Mljx9Gzdy8Z8PYdCYHK1apyKskvC07W97T+Ytb+Nq5Zi8lTJ4t/ee6cuWjUtLF0wEt6eb4Otm3fprjavu0j94mmpOJvoctXvVCqRAn4U/2fJEvgcXysuOy0jJEplEt35yM/KefcLq7C/Hlq8XuBvE50Gr7p0hLmMtDqDchAc0ULeeH4jkWYP34Ajm77FZXK8UhcXdy9/xj9vp+B8vW7oVClNihXrysWr9iCiaO+xh/bFohrkxk5tw6xmJ8/k9sa/dA/XqWP825Aihkfc99WXHwcwmNiEBD+DK2bt8DX/QbQ6+gZpDFrmWxWg7b8+Td/vnwiDP38yLohRp8Z+CuYZxgbp8LezhDRMbESKvupIcu3ZK4Q3rjhFCpQAMeOHkFgYAD8/fyFEEsUzk00mSqM+++C45u1BHDqzGWUq98TvQZNFD/mczAj14AZKTNRr9zZ0LZpPYzs1x329mSOv0Me/B8HivbvSEKtzwDS0rk9aa79HXB74vBNLoPL58+hR88eIpC++eYbVK9dRxiGlKHSYp9vrKkt+XUxFi1bCntbOyyYvwD5CuRDfAL7ctl2YALn6akf4datW9JXkTtvXmIE3L/BD1Hxd2BsbIQZM2bIYkLH/X1xNyISfnHEPKhCNA5EmevHJyQIlmYWMONFVOgfhxs/fRaK7G5uaNeiNtUpKSsamn0buP5dHGyIGdeTUfUc4bb4f1vRsNMgbNl3FB7u2chKqA4TEzNMX7Qa835dL6GfGj4vitirYCUsMSkFN+8+EOXAQI9yTzdExccLI2RhULpESUyZMUvcRNp2rG1nWRHavDVs1hxGRsbYvIWVqszBSbl8EuINyKpKhgmlZxaR1d1cryLLCwAtzEzNMG3aVKmQjes3wJtMLksLc1QqX4IKXun4/Mcgxj5p7jo8IQHz4FHgywIgA5i4ueDMzYwwa+IgfPNli3cibB749eOEhTK3+Ihhw5TFYui2f9QmhBnr4jYx6Y6dOsliG1/1/ApNmzenR7PbR0n2HPSuuLgEfD/sO6zdsA4FSNtZu24dnFycJfY/I/3qkMa2Yd16mQb3q549xTfKmlzGfhUV7w6l3HSRv1AhTJ86BSlUOZtuX4dvTBT842KQlMZdizo4HBKImPgEuJGSwMyfcT/4KdVPMr5q3xhm5ryYO1FgBqXkXcG0O2Xm//DjtF+RP29+HDtyFL/v2Yfla9bIFCs5smXHwnU7kMJWieaeV6ENgODZcSOj40RQsbXCguv2Qz96A1C8SBFs3LxFQrM/NWTPkQMVy5TFvoMhePZMc/IVSP8Z1ZbP7XQ8CYhCvjx5ns/n9TZkJSvokxEAzCXLlK+IVs2bie/f1/cBcrq7wtjIULQR4VyiTmu2vwN6TMMa5ZAndy4M7dVGpptmXz+b4ErHr7K8X2KS8nwmAHYbaRv2S+9/no80iD5E9/627QD2HDmBCqXLoG2nzvJ8NoulT+MvgkMztVM8BBNz6NKlM56GBKNl85b4gqdo4HxRmfHG5Cb5p7NhYeEYPnQoTp89gyqVKmHBooXPv1ObnsGpo6OicfL0abi7uqFOo8bPY5y1aVT8dUh96xmgRZt2+H7wYOk8XXPzGm5FRsA/Pgbxack4+vihhEs6W1vTHemIS0rE09AQuDg5yQyyinNOA60geHXLAC39clDD8tXbMWfZerRq0gSbt29D7jx5xeXHczzx+tZFCuSXeX3u3/dTbn7Ds6/dfIBwyreFiSmCI8Nx7tZ1WWe4cIGC2LhpCyy5k5rnwfrE6IUt+YGDeRI4YNx4XWkbVHxUhsq3a3k8N+95C9IRH59IylcHOsNtOfNv5fbPbtp9O3egZZPGeEpKpgy8/Mh4UZtZHVwDRMBjfpogIXCxRGgFvLLTKWZw+swRNQn/AahGe3VtiiNb56FB/eoSMsnz9bDJfPWaD3oPmoQqTXqjTN0u6N5vPHz9eAFtIhj5p6GKV8GniXDOXLqB7yf/CkcHR8yZO086s/8uWMvgzt60tBQ8Cw1FuzZtcN/XFzWqVkePXr2oKHg6ByVfz6N+6M+De3fRv28/XL91E00aNMTUGTOFKNlvq/h4lXtkxCOV96EDB6TTsEHdOjLyWsU/g1Z4KkwiHX2HfIch/QeIUrGRmOeJoEBcehaKx2TF8fz7+jwanP49IGbBo2t7d2oGI0NWOf4amPlwfT58FIBpv66R9aDDIyLRrlVrVK9SCfnz5UG+fF6oUq0adlGdM1gpyZyVEYhBptN29sJ1OQyPjcaVu7dlcFivbt3x+86dsCM6/1SVBc5zuYqVUbdmTWzbHUhWkiG1EW4bpMylcnQhb8D2HbrYcyAQhfMXRMOmzaiM38CDqPz5uZs2bsShY0exZvkyaW8f2xr4ZASAFBQVurWtHYYNGSKdTodOXcT1m/epYLVa+HsAEbahARULaWLMZHlh+T5DpqBOuwHY9scxxMQlwsjYBLsOn0bjToPwKFCxEV/3eq7eRwGB+Gb4dIkSmDZlMrLnzv2PGgYzEO6ai4mOxRetWsL76lVUrlQZI0aNgoHMzsnPzvB8ItjzZ8+j/4ABZC0EYVD/fhg1fhziY2NIiPyZaPl+Fgx7eNQmaaLf9Bvwl5mOijeDXSYcLz/0h5EYOnCQTOG8+7YPNtz1kdBPF6JztsLCqY6ehAShWKF86N6xOZ1hy/Iv1gbTA9H1sJ8WICIyCulJybh24Twi7vnAOjIMxSxMUc3eCiO9XOFmbgZjQwPkzpWNbsycPSQlpeCnaUuwYNVmoZWo6CiZV+p/S5diwrTpsOIxC3+fvD86mNek6+hh7sKFcLJ3wsDvo/DgAStdirWelp6C46cMMGL0M1iaW+DnmT8r06tTeb2JoTOPevTkiexv2rpd2uXHxicjACTyhKiKCa59124YMXQomcVh6PTtaFy5fp8ahjLdM3vm0shSeC240HnTumh4ywgNQ0wDd+5EolX3kfht9x8oVrgwNqxZgxMnT+PoiVPo/3VvhISFYc7CtfK4NGa42mfTxm4fzkfwswh0/GYs/B89kX6M68Ssb127Sq/VvIe0eTYx3wVCmLQxc+ZV07p2bI9LV6+gXNlyGDl6lAghLh92EbC7R8IESTju270bo8eOkUmuRo0ciS/ad5S1jxVNhgcSUZ41z5dfutf/gS/u3r8rHXke2Tz4aXJNxfsB1xNPtMd07ejoKJ3APG3zU806FwlUVzwO45rvfZm9tk/XVjAyIouAaIqriQU30/tLeB1NE65c9cHhk+dQy8MFB8vlwZ5SubGxoBtW5HXE4rwOmJ3LCcUtTBAcG4d8njlIkeBYeHZ9kDWoeRdvnK++w6di7oqNiKG0JqQMtW/dBgcPHUa9Rk3pe/ibPk3NXwvOO0ddWVhaYdmyJUhJ0ke7jvE4d5ZaBpXH6lWG6Pn1MyQlpGLKxInimtY30JcpuF/33ew2Ylf1nXv3JE1g0FMkJMRqrn48KC3/EwBrvaL5UuHx6Mf+JAB+HD4cwWHhaNVjOI6dOCedrDwrFRPu3wUTLwsTnm20Tc8fcd3nDoYOGIjdB/5A9dp1yQKxkve36dCJzHEj3PN9rISMvtLo2Bq87nMXzboMw+37fnB0cpL46Gmz56B6zRqoVrkyDu/bK5TxLgJAmD+l5c6n+Pg4fNWtK46eOikrdI0aM5o0dY60oPzTP0otDJuJbsG8BZg6fRrMzcwxd85s1K5XD7GkVXJirUDRMn4GHUmeNm3eLJ3CPb7sTmdZoHwypPLJQMssNLoNCji5ILe9IwllHVz3vYdT168iLj5eLIIRU37F8lXbiAHzuAGmcKrhTKy3zMAuzMPHLggzb2hrzg5TqmIdRKakIyyZrIykdMTSs+Y8DkM80eg3nZqJW5DpgueSYmri46MnLqJy417Ysucw8uXJi/atWmH/3r2YvWCRhGrzR2jb6KcO7TcUL10eu3btgp2NO77oHIzefXQwYkwALEytsPJ//0PLtu0lHeNN381eigO7dyGaFC9ba0vhL1ERER+9rLLkZHBvg8S867B2ooclC+Zi3IQJ9CXAl22bYsSgrqIxMcvKFBptNzMticGBXynJSeje9yfsO34GPw4bji+//hpXLlyAn58fjhw5TFL8PvwfPpSRvJXKlsCW5ZOo0fIUEJrKpJ8/jl5Ar6ETERMXh2bNW6BmrZqICI/ArRs3ce7cOdzlaXz19THy++/Ru9+AF/e+BlJNwqyBgX2+wcp1a5Ejew7MmTMHlkRQLBxYm9eCozhmz/gZv+/cAXcXNyxasgRWNtakzSTJzI3cv/HqG/kdTJA8vqJ169Yy0vTI8RPP/f/cgani/ePIgX1o9cUXyEsCoBnVaTKR5u/+D2TeoBrZc0m00MEH92TmzQJ5PNG7U1O0aFJTFBGm9ef1+Dqa1tVH846DcPriFdiZmtLzWasX/V6TArA3MYZ/RCRKFS2Ebaumg72g7DZi+D0MxOTZK7Hr4DGJjOtEeR0/ZRpMSalgZUGUBoI2SOBzAgvZ9NQU8Opgo6itrt+8BQXz5sOmbdthbmkhbe5dLJ4EUtq4z+XUudOoUd0Fu/c+hM+tW3Dh2V0/Ij5JAaCNfuHwxO2/bcSY8T8h8OlTIcAyRQvil4mDkTOHKyVRKkarKUnHq7aRZGCWGcHFsWn7fnz7wwx6np7Mw8KaOy9Ao0TKAK52NsjhYIvTPvdRrUJZrF44VkYNc0myf3TSzBVYtnGHNIu27dqjdOky/GR6pdKxxjOSXr3sjVWrVkoExro1a1CrXn1+/Z8gEQjUyLQENnHMj5g5dx7s7Owxc8Z0uPGsqHzh+R8lemfcuPG4cPEC8ufNi9lz58LU2Fg6G5nxa6G4EF48mxEcEoqF8+fj0OHDGNS3D0aOJ+Gq4oOCJzUsXaoUeI7Mb4uXhIuhCWzJuowlzd9cLDsd3I+Owuq7PrgV/FSOc2fzQIfmtYmp1IONtWZdBq5O3qF6ZSqXc/SPrYWmnYbivPc1lMqVDQXd7OBha8GvJqTD+2Eodly6CRsrK2xdOhleeXMy4eHR46eYOnc19h09g0hSdlydXTB54gQ0aNoC+rzoDN+tYR8ZaUgLjnIJfxYmdGZLFgIrOZz8bcpOVgR/ZypZ+te8LyAkOAh1GjbRXHkZiks3Vfp32HIi20lm1x05dDCWrl6DGlWdYW9vhK2/B+C2z21YWFm/tTwUfsc1xTzs/Sphn5wAkIogwvpjzx6MGTMWt2VOdAN4ECPU1zMgzfo2zExN0L1NE3zbo5U0DuUTlUmznhPqawQAL3lXqWlvPAt5BhdbK0nvZm2GIh6OZJ5boLyXE8yoUe66+gjfbfgD333TGYO/7Sgm8rHjlzBq+mLKk6/Mvvnllz3h6u5KTD4Vl4gZJyfxCFvg9p3bYhVwVM6y5ctRoXRp7Nz/53VGOd9c+ZwH3udpanlyN14of9q06ciRM7ukYzJTdnQQRILwu6Hfwc/fDw3r1cNoso4SSftgq4mvZyQ1re4m76Ft367dWLh4EVkq4ShTshTWrl8PB2r0Kj4skskqa9qoIU6dPYv2hYrAi5iCh5kFLDWjaxkKDQDXwp9hK1kHd0KCZIU3HgtTqkgB1K1aGtWrlIazkz1MTY1Zuiscg0UBMY2ff1mNyfNWYmD9iuhdo4DMN/QsNgGLjt3C6hPeZOVZ4Nep38HR3hZ/HDqNHQfP4MYdsjpICBnrG4j1YWhkhLE//ojuZBHzLLZvAisue37fit7f9oWxoSFOnD4tq87pkDWiCIKXFY9PBczg38Sw+TpXFH/fQ7/72L55s4yHuHX7NgoVsMe6VUZo8UUKWdmGsuAMl8fboCySxUgjpfTvRw9mhk9OAHBjGdKvj5hiySnJKFiwMBqQ9pw9V04p9JPHj2P37l2IiIyAh6sLOrWoh949WsPUQAmfY8kseI0A+G3HIXwzfDK+a1ARX1bJQ/dQOrqRjGZ6PleELtKIcL9cegiX/Z/g8LYliImKwoSZy3GKTGyW+uXLVZApFbjTl9+ZlJiIKZMm4UnAY3mHi7Mrhnz3HW7duIH/rVyBSmXLyTzpr4K/Ryv92dU1cswYMbtnTJ8Gz7x5JF+cP627y+fWTYz/aaK8p0WTpvh+9BjEkOao5Ptl5s8QAUDlwCunTZs8DWfPnxWXQtOGDTBl+s+wsLZ9rump+HBI4Yir7VvxZa9esCRL7cv8hWFmZChrB2uplOmK61m0SmKu9+JicSjwMS4HBSKUaJ2tS14wxsXREe7O9qhUuojM9W9lZYECeXKIFlqz1TeIjo5BiVwe0g7uBAYjJDKKGJou8ufOhVhSfoJCQxETGyvRXx42tmiSwwvVXN3gExWOyWdPIoEEAUf71GvSTJOzzHH/7l3UrFmDnqOHZ2ERGNyvH4aR8GCGx3z/U2T+7wLuo7t14zrGjhqNk2fPIDomGk4OVujYzg69vkqk9qiHyrWCUalMRazfslW8Fm9DGlkec2ZMJeUuCJNmzNScfT/4ZAQAa7A8x0inL9rg6MmTsrZox44dka9AASImTSHypxBdxZK5um/fAZw+dVImOHOws0OdymXQuU19ksK5NAtSKPc8j24RotRFmx4/4uLlqzg6og2MZG1VanjMiCmB0gjTcONxGNot3AnPHNlkGcert+5IhA0jR45caN6sOdw83GFmTgKACIIbJy+awevx8otcnJ2ISQdgyeLF0iGrLLBSUu5n8LfyDINiTpK1s3r5Ugwf+aOigZEQKFGqhCh4DG5GnO/jR45g8pQp0nE7dNAg0jLaIloTUZIRPIWFtsb5PUcOHsK8XxfI0pm5cuTEnNmzUb5SFcozMZrPtJFmNbCQ5xjyr7p2xdYdvyOnvSNa5vKEh7kFHA2NmQQJ/IcrTlsnigbN/QP3oiJxMvgp7pB1EES0n5icRBYp0TVdYzcmr1HNCybxJHQ8yZ80E81jRC2g/zy1M0chuZPQL2xLAsTRBS5kSbNlaG1kAkeySE4EPcH3Jw7BhATNXlJYcnrmASvDTKdM41pWwm2qVdOmOHPhPOZPHIL+o2ahbKkymDB5Erp27owAYmQ8D9a4KdMkj/wd/xa9KTPg8muV98ovM2E+l8breysKjwSDaBqZNi2X0+sGbbIHgAXzxXPn0PqLL+g4GZUreqDdFzooVzaKLCxqz+k6+LaPDnbsfoLl1PYbUBllXPlP6dvk93BZ8HvlNO7f8UHt2rWl/8XXz1/WSnlf+GQEQBxpJV3at8OBI4eRL19+dO3WHVbWVnRFKbxXwTH84WHhOHrkKM6SJI4kZshzluRwd0fFUkVQtmQ+lClVWNY8NTU2oZrVkdkW67X6FjZUx0u6VhNmzxpyeko6IhOTEBITj1N3grHv1kOcv+tHBJIqYwJy5fZEsSLF6D2n4efvK4TDAqpAgUL0fHvx27m7e8DEzAR+D3zx5EmAaNupycmy9vEP4356TgQZwVXDi1N/RSY390OMHDESVapXowanEApXHN+1f/dezJg9S7T3n8aNQ2VKE0OMQBr3K2Adkqgbz0KfYfaMGThx5pR0Rn/RoiXGTpwEC+7Yes9mpoo3g+uZaSmWlITG9evjyrWrcLO2QXOvvChoaQ0bQyNJw9C6T7SQsFCqZqYGHlWcQMLkbkwkQhIT8IRo4ElcHAmJNFmGkm6UtPpU/8zs9YmGspGV4WZhDicDY+SmujcWBsdPY2WHmBLdw++0NTGHLSkgqx/cwYzTx9CgTl2sXLdBoVshxDSEPQuDDSlbvvfvonr1GqhZvhQWzhqOGs37ID4xmZ6jh6fBQbC3tkRgyDPcuHETtnb28owPGWCglC99kYapy0bZDiJL2fviRVy+dAnBIWQNhYTC3Nwcbm6uKFW6DCpVrQ4LsqA4MefxdUJKWx+scNWoVo34SAT+t9gc+fLzWCJqS1TexF0wd545pszwReVyFbB6wwaYkiClBz5/JisCPEL46uVLeEoKIjdfLtMt27fjxq1b0p936tx5Sfu+8MkIgAWzZmLEmNFk1nqib7++MqkWFx6Dv0DZfVE58lm0hZJJ+/P06RI6mTNnTmK+TxBFGhPHOXPfgaODHWytLGXtUg83Rxw/dxV5HKxRPqcTfALDERgdhwSSzE/DIxFFDVSmuqVG4uDgiKLFSqB8ubJwcnKURpJMptqN69dw9co1PPC9j8SEBBlJyxUs01jTbwpp9Owf5QnYhg8Zgi49v5J8sAalBV/nb/G+eA6tWrVGZHQUvunVGy1Ja5JvpP+KL1IXixfMxyYyJa2JYUydMgl58xekxhYvjTdzAaCDI4cOYu78+UTwwciZLTumTp6M6tSgFUKFWB8q/j2kpigjt9kq3bNjG3pQXfPCL03yFkBD9xywNuAxLpoURGcMbbNlSuFa4w5gWUOYgxzkF4hITsSFsGCUtHWENWmNyvTRCsPh5R31NM+MSk1GBNGqm5kl3cbaLp2k53NEHNMRn2PCsDE2hYORKVr/sROPidkd2LcPhYoWl2fMn/Uzfp49BzWqVEGFChUw4Luh2PDrRNStURZ1Wg+E900foeuJQ77CmSs+2HP4FC4S4+UYJmdSjj60AODvSSEF7xa1z52//449lHdff3/Ek0XEfSls7ZtQOfPU2AmUjue9sicl7uuePfB1/0F0rPRdZGynWvDzmXlPGP0j5i5cgPWr3FGuPAee8DgbDttOxfARhti8/RE8XNyxc/cOuLhlF0WOp2Fh8P2Tx43BgiXsFYh7XlfsvtVaHeNHj0afgYNl/33hkxAA7PcvUbQInkWEY+jQ4UKMm377TTpHeKnCBNJ28njlwVe9e8k1Bkv5i+cvYPPmzYiLi0W9+g3QqEljsiTiZNGTixcuisR/SETAawozE+aIHLmX6YX+caWbmJiK5cD9DTwquHjxkmjeojkcnZw5pYZZK1BcUYrGZEhaWzayNkaPGo1Tp06iXs2aYjrbkNVSi8y5shUqw9qOR0xqMpwBaWTqeV+8gLZt2yKMGlpPsna+6NhRyZgGvDrXz9OmY+/+/chH375o2TIYGxmQ0EmU65ySzXfhBfTLOePh/zN/nokTp46TtaAvZvjYiVNE6/mQDVDFm6EwkHT8+stMjJkwAUZUN40886CSozMcycKUemTCpl9mK5sf+qKwjR0KWFkp2qzyGKnr59okpb0XFYVJF06LZetkaQkvOweYETOxJubGcf+RpIw8IwtBOpQpTbvCxdDULRtiiQkGxMfClWjfhLR27vNiNygRNpzNLMTd9MOxP1Cvdh2sXr9BlBrPnDlEKQuLiIAdKSPh9O6jm+fCyzMn6rbuh0s3bqFamRJYPvtH1O84CPf9H8HSwhIxsTHo0bWrhJVm1hb+CbhvhePvw8jaXbVsqWjSPnfuUFmnwJH7RmwsUMbaCJXtjMFL61jRJ8al6uAZsYG94fHYHvAMfvQ9FUljX7JiKbV5F6oDJY8ZlSTxNpCmXqliRdSsZojpU5LJctLHgwfAtm36WLcpjHhOBEqXKIEVK1fCVbOeOYMZP0/y992A/ljz2wa0auaOLp2U6b+532bDZj2sXvsQZUoUx+bfdyqht+8Rn4QA4ML1JEIqWLgoevXujfCwMGxcv55M5jhiekbCWCtS4efJl1c6t4KDgrF161Zcu3ZFGHG1GrVQrWoV8ckztBKVtegrly9jIUntXDlyoUXjBorvlIiBtXXuAHVytEcyNc6f58wlSR6PQUOGyupaWrCE1uJ5XwSBmXjBAvkx/5e5pKFvxu/btqFiFZ6b/wVep034P7iP+vXqyZoBnTt0QveePSmvLyaOioyMwk/jJ+ACWQjFixbDrF9+ETeTzOPPjIKgjfHmv3yO1wmYO28eAp8GyIyP3Cldp2EjYiCa71UFwEcDKzK/TJuMCdN/hhkpIm3zF0JBK2vx/wuIFrXNNJGYTf8TR2BlZIzJpSsQDVF9a1ow85TnTJRomxeWCSGF4CgxbO+Qp3hE1igLBhYkDI5hZ03T1cWSrJA0WOqYox0Jnl+uXEIoWZ0uvIB9gSIoTkpLeppCWew6cjC3RLfDe+H7LBS/zp2L+k2bwc3VGS3q1oCHuxNmLVkrgySPbplPFqYLqrXsB//HAdixeBKSiPk27fG9WDjZqR3xIvKxcYm4fe+epm/u/SGZ2sNSspB/IWs34Gkg7MxMUSObLRq7GRPj14cRlxfbTyxVU+j7eIAM7ZNslC2amtykhxHY6PcExYsUIw1+BylLZlLGGd1BzMQXzZ+L0ePHYsUiF5w4qY8jx6Px+EksIqNiZSW9r7p3Q+/+AyVCMaOLle/du3O7tPFvv3LC8O8Ut1t4eBqGjSCLcH8g8nt5YcOmlXB09hRPwvvEJyEAIsLC4emVC9mz50S/fv2EUGRRE61vjuqBZzB85O+Ho0eP4TqZebxGqZt7NtK268LLKzeseeplhlQaaU2ar2ZGPYdM13t376BMqVLo3LYVzC0shNjZ3XPvgR/+t2YdgoKD0bR5C+mMyci4tQIgI/NnsE83j1derFq+FCvXrsG8mTPRtkt3eT2/m3+fN9YM8Pf1RTOyVPwfP0ZLet83fb9VLmjSPg0IxNAhQxAQEIDGxMDHTZyAKLISJFRMXDjKh3FDZ2UlMjwCC+cvwL4/DpDWr4vWzZrLfC08uIvfL24DEi56pBWq+DhYs3w5+g8ZBFOi6x6Fi8OTtGweB5CRRljT534qrqXV/g+w9eY1VMmeCz3zFpAOXK72jOm1VgM1cDrJDyB6pj9JpBXHUtswJEZiTsz8Llm/E8+eJMaciiZ588M3OhqBCbHo3r4ZVm3cgWfU9r4uURaV7B2kw5mHWF4If4aVPtfwlCxyZm679+xF+fLl0Kh2VSyYNgQN2g7Cxas38Pv/foZnrmwoU78rShfOjw2LxqP3kCnYduAY8ufOiflj+6Pz0MkkqHRx5frN9xpxxmMren3ZAydOn4S9hRm6F7BH59yGMKN3SBFpLCfuQ5H9VPoyFgTC/KldJFOZkuLH+1MfR2HxnYfS77Fk5SrpUJdpVDRKE7tyenfvjo2k6CnKpQ7xGyvk9fSUtbWbtm4FK7LYlLZJdZJBeHC7rVaxPG74+MDDw47Ky4CsonTcuROF6JhEVChbFqvWrSbBY0F1qAs9jcvofUFvDEGzn2XBWvyh/ftx/cYN3KKC4pGqHHoZ8CRQzh3Ytx+7du6UUboBVPG2ZOpWrFSVmHUt5MyZHZaWSjy/MEjNL4P3ucLy5c2DB75+uH7zOs6cvyQrfZ06ex77Dx4hxnlQRgHWqFUbjRqTxswNS3M/g/fYDbRk0WIZSMNLJkp7I8FgS5rTg/v3cOHCRWQns4+fwe9T8qAQgBasibOga/9FGzFTa9esJcs6is+X09O/a95XMPKHkSSMgtC1Y2eMGDUSkWSiskTh53HeWPPXPvr0iZMYTdV7maycHNmyYc6sWeg3eKhYTNpvZ0vnnyymo+LvgeuKaeS692V8+dVXpIWmoR1p23mJVtntw9DWqexrNX36re2eAz4xUTjp74ubMdEoSszFVBgDUYk8V25RQM9gcuAoNvb7s6/bjASNKf2ytXw3JgZ3oiLgYGaGQYWK40xIEGKIof1v7ii0aFANu/44jaNEw6WdXWFJSsJq/3tY7n0elkTrhfJ64hZp7vHUFp89e0bMLAXtWtaHs601fj9wHHlzeaBcycKUJ6DLF/UlMOGH6Yvh5uiE1bN+wE+/rMSlW7dhY20NeysLsvCLSN5fbRt/BaxRc+Rf6+bNcfbiBTQv4I5l1e1QlbR+I0Oide6TJXLXNSDap33m19zGdPWp3PSo7dCmK7/KeT4ub2GMSwnAoSvX4GJni2IlSlIeKQ3fzKA8Bzx6hPv3HwjDHjRwIH6aOBG9vu2DYqRUmlLZavsPXu1I5vpNiouRKdf9/APg6x9DbTodbi7uZA18h/GTJsOMw4F5/AQJnveNT8ICYLB236tHD5w6d5aOtIXIxM4+dz0Ym5hIpE3hIkXIUsgOe6ooc0tL8d9z+leR0XXD17mT+Pdtv+PSpQvi6mG/nLGxMXLn8kTValVRsFAhSqa8N6MAUMLK0jB61CjkyJETXbt3pfwo1z3c3HDt6lWMHPkjOrVrh1mkib+OuNl3365VCxw6fgzFixWXOHye2ZMZNEciHT14ENN+/lncPH2/+QbtOvGEbrGsvFDulSqk0pDfuLh4LJg7T7R+tnCak+D6afJU2DvYERGpmn5WALsfY0j7bly/Aa7dvIF6efKhBjFZD1NzDU3raLR4BVq64dZqTQLCjJSiyVcvYM/tm7I8ZAuvfKjr7C73vaAESADD9id+sKV6Z/dSWGIiQom2E4luw2KJ+YcGw8HRDE+eRqNnYV5cSQeLvC9i9rhBaNO8Fk6evowOfcYih40t6rtnx8wLp1GyUH4sJgZ+6Nh59B/1s2jE3IfG4aYnd5IiRNblpFnL0bBWBYz6eSkCAoPRtlF1tKRt1M/LMeLrL3DTxw/9JvwiDJs1adaYjxw+Kv7xfzLalWPmvxvYD0tXrUSHYtnxU1lTspCk6cqmFKg0GgVcUGQFCDvgycTYCuD18tnjytZAii7Sk3QQGJeKhqceQpfK+uJlb5jRN7KfnsH1xaugcWcyW9lcHvICeqFSH68Hf7+SCeJBCXGIeBZOvMxYeBf30zE+ZFDGJ2EBMHhB7Xs+tyRyoGeeArhJWosrMfx69RqgQYMGaEYSv2SpkshOmq6DgwMMDQxlBCz7IpWafxlaAaJA6fAtVLiQjC2IIk38IUn03l/3Rf2GDaiBOL0kuTMycd5jgcDz+3CjLkHaAS+PxxcszMylT2HX7l0olL8AGjRu/NK9WsTHxaJbh/YS4lq0SFFMIKlvYmxIjyDio/Rbf9uEmbNmwsjISCKa6lGeokmbYv8pP45yJs/hZ7PWP2LECCLSi3B3ccG8ObMxYMhwGIvWr2ggKj4+WHH4afRo7Ni7B3kdnVHfI4cwf65PFvqMzGqKBQD70Y2Ixuq554SblTXOBQXg1EM/nIt4BgtSWpyNTUW75yfEp6VgFQmJ04GPcSHoKW6GhcI3PAxB0VGyAlkiXZ82whQHT6SIf7lTzjzY89gfN+7644vmdWVKlYCAUBw8dwm3qc3pUDvZvekXONvbYsb8NfB//BR57R0RFBUplnkpakP582ZDtYol4ORsDw9HO9y87YvN+47i0GlvzB7TB3ly50DXIZPEbduiViU8CQ4j4WEqI+fNSFv+JzR65sQxGTBZzN0Gv9axgL4BMVjW6knDhwFt/GtIgtWQ2o4R/9JNdE6HN7IQdEg/0mG+y5YCbWwVgJqzObERW2L+O+4Hwv/uXTRu0uS5Rs51wqxEIoXonHTM820keVg4ZGzzPF4ogRRMHkktiiJd4vSchl3bZubmYqFzXbDlxATxNiHyT/D3Re2/APaPsURnKRlCxLtxyxa4k6bQxEGZMZHN0PwFCyBn7lwwNDIUjd3I2IitZBwijXn58v8Jk3wdhCHKxpWhVCZrHyzBuezjiaBZsnP9vUj7cpFp65aZMI+6lZA+Psm+RcoIawRavMr8+bvY0uj/zdfYe+igLNE3cdIEMhlNhKDYoTN/zhzM/3UBrMlM/nXBryhFJmYEmdycP36P+PrpX3x8AqaRlj9m3DiEhISgReMm2P/HH6jToBGZsUqHttrR+3HB9c2DfVJSUsSiXbF6lWjy9bPlgD0JdwOiF6IwcSleiQxn3kA1y7TEd7M7iH+Vw9D4WDyJjkAt12xYVacxWhQqihCivznnz2DYuZPYF/AIyfQuS1KEppatjDlVamFW1VqYXaUm5tDvzMrVMb5kBWljX/8QgZjYBBloNO/mVbiSdnvngR82bt4jNNvvqy9gamqCEGLyVcsWh4OVuTz72h1fmFF7S6T7eA1dbn/bdh8WuuR2whpsjSqlsX31dEz+/ls8DQ5Bj++mISExHgO6tcb8sQOE+UfHxGBgv36wI8WNGSZvbwIrWhnTsJXL7icu25mzZkn/3+SaVjA0JsZvTG2a+9KJgYMYPm86RsQTjMly582EBIE5HVukIt0shTZqv+Ypck7HnO6lTd88HQamQMtcBijhao+d+/Zhy8YNUp+8sTBXrHDaOF9UZTxZJefp8UN/LJk/D53afoHqFSugcoXyqFyetgrl0LxRI2zdsF7S0ZNEELC2z+2Umb4uCZA3WUNCT8mpz/PB36/d5+1t5cjI0hxBaQBKZU8aNxZPg4LQJVtOEujE0Eh6JiXy4BYl7Usg4gt48gQPSSvisM+/An4nFz6/k90y/Psq434deOFuRWAIBQgxvCowMiKVtK/R33+PTdu3w8szjzJtM1k6/DZ2Q40eOQqbSOjlz5sPG9ZtIEGXWxbfYD8vNwJOp0QyXUH3bt2wgywNnsFz9YrlWLh0GewdnKQsVGQNaDVb7kD8/rvviOnGopxHNjiamEjED5Myj6K9Rox2+rlTuBlJGjefE1JiWuLrCslzpEhccjIekVaeRgyvT77CWFWvGWoSHYWTcFh25RJ6HTuAmTeuwYfScKevPWmYPJjLhoSChb4hrMjKHFSiHAmkNGHevCzl+fAQ+AQH0fvSMIU0/IiISGTzcEblMsVlzdtvu/JU0Xo4dPgkAoJCkN3CCmEJ8fBwdUKdKuVx6iIHYCQTXVI70ChfHELauV0D/DSkJwKDgonpR6NtixrYsvc4Tl6+ilrVqqNLz16SlpGxvWXGxLh9vtQmaZ//3b55A8dOnkC1PI7I604M3TiVGL7yqyMbCQQTKkfuYiGBoEvHOmaUhpm9Bb3HivYtid9Y0XlrSm9FgoDO6VjydTIgLHQwv5I1LAz1yKoegm2/bRCFT/oDWGmkek0k4XbX5yZmTZuK6pUro3TpUvhuxPc4cGA/Hvo+QHhgAOLCniH08WMJD+/5dW+0bt4MkWHhf1lB01oOTFcJCXE4fuQQBn7bG/NnzyTFkL4lk7J7FVm6D0ArxXZt24wevb9GPls7zMtbmBpAKjpfvYw0Syt07NIZ7m48YdkLgmBi4E7h/fv3YujQYXDPxqsbvR1M9G4uzvjfsuXYsWsX2nXsgkKFChBTZveJYiG8Cpb8VA8ymIqZ9sBBA2FFZjkXqquLE56FhKLnVz1l0Yy5ixYrNxH422ZNnYKJ06fCzdUd04j5OzqSBkREFBURhTGjfsTlK5dRvnRZzP31VyQlJ8qKYuIWovvZOkggrX/R/AXYvW8PPS8VDevUxdSZs4jx29O3vGgkquafNcB1zpV38fxZNGnWFGb6+uhWsAjyW9pIpyxbtWzRPY2Lw7BTR1Arlxe60MYM7qX+AHqGRG8RlOZL+3RSn6xYaxNjRCalYJPfXRwhBSiYhAlr+dbm5shhbYOcltbIQ0zbwlAfSXR+/f07uBcSjPrVK2L+tO/4VZi5YB0Wr90uAqpZnWpYOPN7+D8Jxs1bfmhQqwzRYgqadx6Gqzdvo06OXNj94B46Na+PahWK48vvJmL0gB74pkdLyhX/A0LCouD7KJAYlg78Hz1Gjmyu1BY2YBcJkVw5cmD69OnSfyAv17AjbR+dKFCab331Gh+yG0VzWubIOnryOH5q4oF8jnQfnWcFkttBMn2rhz3gbqswTJkNj5p0OjdrvTSEJxhi4b5EFCFWUcmTZAExeSRTOtrSkuiXtvRE4jyJ+jjhl4o+Bx8jOikZlcuVR9EiRcT9E/g0EJe8r8DP31+mrbE3N0MRGyvUtzZHPn0D5DcwgD63X8o+K3GXE1PwS3gYjgQGoiYJwdXrN4oH413BGn9sbDRWLV2CVWvX4fa9u1QW3H+kKxM7lipfQb79TchyAoAbCVeQ4kdLw51bN9G0aVPEkZm4qFgZ5DQhZkxZ/tLnCh4nJKBnr6+RI0c2IX4SF5qnpCOMGO+IH0agRYvWqFO3jhCCQix//lwmU7lOZcWziq4k7ZkXzG7boSPyeHnJdA7McJkYFeLLWKj8PF2MHzuWzGQzyk8vWFiYybN4+lweedynbx90aP0FZi/4VfN+anhk/g8cOhRmZuaYM3MmPHLmoEel48mjJ5TvH/Do8SO0aNIE348ag7i4GKps7pni/0zQwK0bt0RoPCCtwtHeAZN+Go+mrZSF7FVkTXDd8+Ckru3bYuf+fWictwAqO7ogB4f4CR0p0KV/Xx//A8akqf9Ysgys9JWQ0OfQ0nDGcwRu7GwRstvRlDR8fpJPdAQOBjzEtZAgPHr2TOhH2z/A72TBYkjaqxEx4P0b5iJ3Nme6TQ97D57C18OnyACxhVOHY+bCDSKgtq+cgjv3HqFBx4HITQqZp4UldpEQGdyjA75oWhN1Og2SsQJ7N8yBm5MjMVgddOj5Aw6dPCffoM06W8qcF1nPQPNxfEnbFjOc0OT0xe/zAw205/mZjOduE0msgN9RNIctdvQn/sHfzz5/EgJplL90QyMciWqH4ZO4wzoATjam6ECa/te1dWHEEiKZ8ppoAB0SAEgiHpCgg7vBafj+WDTO+rO1pGSI860wfUs0dDRDVVMTOOjTF6WSdcCdypyM2QePN+BfOk4g66tnUCBO8owFkyaj05df0nkO93yhcHKdcmJ+DVuIrNyxG3HFwvlYsHgJCdVHMCPLroGDAw6EhMggv7NnziJ7ztxvVf6ynADg7IjmT/8CyUxq1KihhHZOKFIKlUiz1uPCo//f3L2G21FR6NGzt4R6GpF5m1EAWJOWM2BAfxhQI/r+h5EiVNhUk5v/BCY7MvGosDyJ4S9fuhSr1qxGi1Zt6Tg3PNzdMggP7TtePId9gBz6lSu3l3Qi82AR7kfw9MyFHdu2iw+/V7dumDxztkjtLevXog+lZ7N78qSJyF+wID1fT2YHZebPqwUN6NMH3b7qjWehIYpbiSUKgSeVW0H527Zjh5jZrPVPnz0bNqTdcQdUZoPLVGQNMJ3c8fFBjZo1JJ6/b7GSxPwtYU71pgUzKo5NX/bgNg7cvY3uRUuihpOLcl5DcqwcMfkJQ3hBhpJGXIN8ki7SY4TZm+kZwIg00GSi/2vPQkkoRCE2JRkGdK0AWR9uxKi+ObwftrbWWDVvHPLnyw7dND2c976O/iNnwtDQALfuPUD/7m0xvH9HXLp6F407D0ZeO3uZYuLU44dYMm0EKpcvgUUrNmPa4rVwc3bGwJ5tUTh/DgnIOHLiPHYfvYhL125IW6pRxRl1ayYhhTRr1m042oY37kLTMkgib+LqRM+sDNK+xOenMiOk67QvTZHS8jenya/SjpXCUcpHkvBGaeoWBUrlpjSk8XPHsGj/+sQ1SAAYFJmGlPiHePDUFhOnrpRoPBdbU8z9ygzFsumTAEiFLmn/Oux1TiBlM5HeF6+H8Mg0+AQlkWWQhtzmJrAlJZHENVKTSYxz/umbOKpIrAnOv2SGNyWPxOoQTAKm7r07sLC1xakzZyTsM6Pvn5m9Ehigg/tEExvXriVrYb0sK2lDgruNiwtaGprgx9BgnKP67UqKKw9cZStRG6n0OmQ9C0AqMxX+ZM7wrHr+/n7o6pUPPVzYjcNSluqMCHnYfR+cCg5Cuw6dUKhgfpiT9s1lqoUZMdfNv/0mrpyBgwYLY6evpSsZC0R7rJzjOYE8spNJOmUKtpEFkNvTS6IS2Dz18vKEE2n0JrTv4OgIA2oU3NDYIuA89/nmazIDDeQ6M3YbG1vY2dggkDQKX/qG+XN+wReU1wN7dspcL6x5jRszGqXLlkEqEfTxQ4fw86yZYq4P7NsXrdt3RET4M3q2IgxZoNy4ehUzSIjcu38Xzo5OsppY205dKPsK4StCLuP3qchK4Kb2Xb9+WPS/5ajpmRfVXV3haWYFUkKFErXg/cC4OAw9fgg5ybr7plARuBmaCkPn6tU2Wf7JWN0vBICy/6Jpy01CH7z+M8+/w89iiKVN+/uIiS+7dono1gYThvVCs8Y1qLmk4d6Dh6jzxQDkyZ0du9b+TJa2Pu76PUatlt/AmBUma1ucI2t108KfUKxgHiTT88ZNX4JNe49IVBC3Hw7F5vWDmZF5uNticD8LtG3DSk2aeGKY0eswUyRmryPhl5QhOk5nYUDHck42yjefo3QsCOSaCAa6j9LzSF5msPxp7CWQr+dP13wvtyQ9YvjsVeI52tgFpGugEQRGBpSGHmhoAb1sU7D/SCi+Gz4ccTGRWD7MHmU96Z4EKjti5DrE+FPjqawT6PGJpN3H0/tJMKQlavLMEwMz4yfhpkPplUFllAG6ls6/lGepOxZa/Bn0OzMyDAv8/NCqSVPMXbiYLDLNKHACjw86enA/Nv22CUdPnUIEKYiOVK4tiAd0MbVEBH10X7LyHkRGoV7NWiSEV8gSsFwA3JH8JmQJASC+UQJnhYemHybzuP+AAQgm7bcbMf/uzjx3hiQR8O6W0CBMvX4ZTZq3RIVy5WBJzDtjh6s+Sz56Xr/+/WVcQD96nsIcNQ9iAuFNc4YtCJ7CefGCBdj2+3bJE/fIK41K06tO/zjemTtqmSFzZ16+/PnFN3/u7Blh+hy/y6FesTHR0gDYdcPP2L9vn7ip2PfLi2uMHT0GpcuVlXysXb0aK1b+D1ZkTs+ePQcFChdCFFUmC0KuxaSkZKz63//w26ZN0ojq1aqFSdOmwcWVLRMd0vyVeGEVWRsJCYkoQspKEJnpOUjb60vavYexMiMkg38UBk5Mg+hiGtH3JWKu7YoUQ2WyAuz0jSiRQrfvA/zWOKLF+T7XcYuUqYTkZJnXhxWZFvWrY/yIrzFz3mosWrcNq8kyqFutnNwXHh2D6s2+QVhYGEo6OOHYQ3/MHtUfDepUlPbEHNb72h3sPnAcm/Ydkzm0cue0Q69eliRYEmFpyd9H6aiti07GzD6N2i5vEotPJ4SpE6NP4n1iZMw0eSMhwIxU4vXlHD2D02mYPwsUJRMM/kI6oJ90erQUMyVIZ0WJw0GJ8XPYJ1sDEvLJzUg2M+i6rkNgwGPUa9AJxgZ62DfbFOb0AJ1Eyhcx/jQSACCBoEPWQDodsxDg4zRm/rzxlFxJfEz3JJHFQHkWQUbCgPPJmwgAFsD0G0/f0ZHedyXsGbJny4EqlSpKeLj31esIfRZClkYk8Q9d5LC0QmdbOzQ0MoUl8ZPt8VEY++Qx4ogvdG3fAROm/fyX+hGyxDgA0XKJIpjhLZ43F4O/+w6J8fHol7cgOjm5SQVq/giYeKKJUPcF8qhfOyKunBI/qwWRgoS0ZSNt/tb1G7h56yZyUKE6ODnKVQXKO9kHaWtjJQx7wvifcJRMPzs7B5QqUxYVK1dF6dLlyBLII1q/AxE7Nw6mJNaceJI5HunL0zJw3gsXLoIGDRujUKFCKFq0BEqULAl/kupc240aNMCXPXrIGsFDBg1G5WqV5Z4VS1cI8+f+gmUkuXPkyC6T0zHdslvo5o0bGP3jjzh05DAc7e0xYexY/DhuPDUiG8mHDqVRBJuKrAimMW39bF63Fhs3byJl0xBhRDshSYkobueorDuhASfl9LxlN7fEiadP4BcZgWzU8C1I+TDO4C76p+B3/XzjKq48DUC5kkVkosLYeCXYwPvmHUQ8i8Kh05fJkrXGmO96KuNbCKERkVi6ejtSklNQiNqKDzGt3NndlVG//FCid55Di5etXL/jABJJIWrexAmD+qfAgGUYF4cUCf9RuDUrV2IRaKxY9l0TR5BYevbVs2uTmTiRu4zi5dBmHfavs4ZLTJtjNJT4fTo2oOdqNHsdQ/qlJqtryPuajfmj5pevS4goHafTxr65NH2O7DGCjXMb2Jscw7ptd+DubkUWDqXncQEsZSg/Sr7oXfRfBAy/j/NF+wr42+giMfvnJpdmX47oVyvMDaCL+qS1BxsZwic4GBeueMsqYqnxcXA1NkFjB0f86OSK/tZ2KGrI04PrYFJ0GGaQ8DUh3jdh7DgMHv6DorRynt4RH90C4NezORccFIiBffuQ6XUY5qSNjylYHOXMLKTcFM+N5qM02Y1LSUajcyfgki072rdvD1d3d6VQNeDnsksnkiTnN99+I/MIDRo8SJgqg/2avK5uSFAQVhLjveR9STQ0r7z5ifFXFiLkjf2X/G55vaY++dkstHi656ioaJLUcdiz63dUrloN5cqXp2vKyECOlli3+n/SKWZOJtsDfz8M6NufrBayAujaxJ8m4MixIyhXphymTJ9OVog+4kjw8Xs4zG/dqlWyLCOPUq5RuQrmLvgVTi48C6kGRHGcL2l0KrI0mGbakPX3B9F3dmc3xCUmICScGKe9I0YULwNzarjMGxTWwJYwaWdUr1sf+WLd9SvIQbTaMV9BeJqaw1hf/yVa/7vgWT+/PLAT1SuWxepF42R9gEePnuLE2as4d/kWCuXPhVFTF6Bn++YY9/3XZPGy2q2LS1dvo0GH/rA1MUVNt2z47c4tlCbuuHreWCUsklMRbQ7+aR627Dko3/7bmmyoVJkDMYhpytuV5iSqMO1wGw94qofly+k3gGPapamRgpZO7SedtHAdGBCD582QmKypiS4JJC4tEhLE8PTpuWZGOqhNRrWFKTFneqc8XzKjeRczaWbO/DIWFrzPv8wSeNPukyBK03OFgfUGPAvYgOq1J6NUYQssGk/vS6QHxpFmH0/fQZo/NJp/Omn84g5iNxBd5/NpcbSvsRSQQMyeXUEcUcSuLK7sVMUC0OG+AcoSLxjDOQ2ieoniPNKxNZ1xlP4Aeged4/6haOItPUMDcYEEhZubG9asXoOCRYpSGkpFaf8KP/jXBYD2dRLtQxnluNm1/1uBSdOm49mzUBQiU3dy7nywJSGg1J4Gmvsk/I32Dei3pfdZhJJ20b1nL+Tz8oIeU0cG8MAazzx5MeqHETh+4gRatmyF8hXKI5ZM2CskYX18fOBz5zal1BENv1z5SnD38KAqSMeZkydkfd3mLduQRUp5VR4p4G/gf9JYqW5uXbuGI4cPypwf7BqyJ2ntRe91Jma9Ye0aEizxcr5ju/bo/tVXMn/PD9+PwPWbN1C7enXMWbiItK0QcRnxV96/ex9Tp07F7Ts+cLJ3wJhRo8TXr4Zzfnrgjl92awYFPkXFiuVlSUZPV3c42tjiMdW5H89dRRpcvyIlkc+S5+PnOlbaBpM886Op171x7pEfCjq7okluT+QyMYOVgTGlepkuX4eMDEHb/uQv/Rl3+RxuhwTBK2cONK1bGfVqlUe+3NlgQMrIvGVb8dPMxdi6bIpo9+wEZQWqz/BpWLd1Lwq4uKKio5P0H0QkJ2HNnDHUDnOIBnro6Fl8++MMcSm5ONvgzFEj0v5Jz9V7pS1p/jBDPHxYH8N+jEZMdIJ4geQS51f+c0qlTOSI2yCf1/yyQsbWw4zv3NCiVip9sxLVJ6Bf4a0KH32hrfM+tynpFOZz9Cxi/pJBMhn0LTbTgyNRpUpHhIfF4uohC6TGUqsXlw/lRSsASCjwPruHuJ8ApMOlxZApEUvpeCPmz0IjnQSE9AOwEJC+AN7oGfIByrfxq/lX2VPASRSJoQvvlAT0p/IOIAuSlcLFy/8HSysL0vzZl/XX8VEEAL+RG8bFs6cxcuRIXCRmzFpNp9x50NbeGUZUM7pUY+wSfA4uI/oXS/dZ6LIGlI7Jjx7gd9/7aNG6LSpUKCtz9zP4mvJVaXBzdZPppL8mKyCRtC5uDPyPmTpPreDm7oGChYrAlSSpXKNy57VVr1Gejh49gs5dewhBs79fC3q6fAenD3j8CAf275UVyxydnGBNpjqHcEocMDFvXoksJSUFrVu0xDd9+kqn8NixY/HgwQNZHq/fwMGIiAyTNCwU15LWv3HTZonvrUYVPH3mTLFeOGOqAPj0oKWTDatX4uu+fYVROdnYoUguL2FQ/sR87z7yJ21WHw298qJ1tlzCyKSN0EZsA1HERCd7X8A9SpuHGG7jnCQESGjYG/KIcaZGBUy7mSEzAcDg8zGkse949BBHH/oigpiKsZExXJ0cYGlpjvLF8uHAics4vG0ead5kbZISc+joeXTqO1rW6ODO3XqUF87Djnt3kN3NFf27t8KdB4+wbscfMmKdI36GDcmBgX2SkcK8lbKiy0z2FXAwBWu3iQlpSCIGyX0CEu3DSelXon/Yh077yUlkYaekIyU5nZQmXSTEszXOo2fTUdBThyxpFrrEI+g9PG5GGL0OiS96nGIB0Ea6IrtwWBg8FwzSk8z7dKCTAj2jkaRUVkeDunVx3zcat86YITlOD7rs3+eNGLsOM3vW+hOofFggaARAegxZdDG0H61YAiwAWFiks5DQjC/gDmHp/GZz700CQDR/4A9Sloc89EM88YovO3bC6MmTZO1mmcngb/KGf1UAMINjjeCa92VMnjBB1vblYdAlnF0w0CM3aTamVN8kualQmPnzJ7FZxETD5yc9vI/jxEB3lKooIWzniEkOuHAKRYuXxBdt28FalojUQEqTTEVjI+QmrYlj7X/bvEkWcqlStbpE6vD8ODxFgoROSilwvwBkxGPw00Cspkbb7cuvlEUYnheTtmKI6BKTsHH9GiLYRFndq3mbL0hzMiKBEyoLZy8ly4ZdQc2bNkf/gQNw9/ZtfD/iB0THRMmi0Q2aNJOpnJOpDB77+WPylMm45XMLNlbWGDViBNp16Sp9DvxmZhZqiOenB25e3F/Uq1sXbNy2Fe62dgiMCEceEuo5HZyEriNjSLv0uy9KQw47B7T3yo9iZCEwUYqdSQQQSzQy9epF+AQ9hZ2FBVp45kUeshicjM1gyA2EN4WI5a+WShmvEwCSio+JrHhQ2C8+13HO31fScxuYMXoAWahlYcHraFDSQ0fPod+PM6Xztx4pa/se3IOpkSHqZcsJv9gYXHjySJ7Kj+Tw05Q0nhLdHju3GMGCV1thLVZHcV+xfz+duC9PmcBMWsbXcBLalBHE0vrlWD6IGYLsc57plwSANFtinMJAJSE/R9nla/LZzzcqSzohAoAYPz+eS5f3OZ0IAjop+5QonaSNgVE/6Oq3Rbcu9XHqzBNcIQGgm0r510b6iNuH0ktIKD2b9tOIyeuyiyiKnkXMPz1Kj4QBpYmlfbYCSECwBcCdw7ok0CTb/Ln8XVw8vMvnZE8BL+k5PyYS80nz1yf+Mn7MWHTq1o2Yvr4UxT+ZPO/v3/kGsF+LmT2vvMMdnbzxtAo8ordlk8Zo2Kgh/iDtOhsR8ITCJTHHq7AM8OKPoWKkyuC/7N1TioH9eTtDg7HH9wHqksaeJCWkg/zGprAzt4Dv/Xuy9KIyJwcTDZekUoBx9N5wanA85NrDwwOh9BxeEtLS2gYGBlSZTBT0OOWN7FMn64DynT17DmG+vKSkNBomIPoXEREGn1s3cf/ePVy6eEE0/Lat2qBT9x4wMzGRQTjcWcxTSPMHNW7QiJh/f1w4dw5DSEhwZc2eMZOYfxNEhIfIAt7rV67Ct32+hc9tH1SrVBn79+9Dx249JC1Ldv5Vmf+nC54a4dKVKzChxtuaGGd27jj1e0Daf7DQiBVp8xXyF0I2F1dZtGXy2eMY530el4luZYEiqnpT0rZHFy+NWmQlRJC1ufzaZWwlZn2DrMfwlCSxLIRM6X2vUooIIc2WEcIAuZ3QKxbeuYnzpF3myZUTU77vg0ObF6BFkxqwtDBHQlIC5i3eiG4Dx+NpSAjKZc+FLl750DRfAUTFx2Pb/Tvy7Cb0baVd3ZHbzk6eb2FugpHDzNB3gA66dddDv/6G2LZVD0cO6YNlBbdVHdLUtXnn9XOFqZOFL1ogfYkwcj3a00sjZkzp+dcgFTq8mgtr8dKJS23XmNqIMR3z3D8cWCXz//A12jQdvTo8LYQBvYtj/9ntw5FA9Ix06Wjmje5R2Ab9EBNPD6X32sLG1klcUknJ9IfeLc/kaSTY4WBCDN2EeJZpKpIoHyfu6+FeJPE+zTxDMKJf9s7IO+k+Lm72+ztbY6WxATZEx8qzeaOrVAaUgDYeJscbr8EwOjoMM/18YU2W48oVy9H5S41XQsMb/gk+iAXAjJjBHxpKZuvCuXPx++7d8CdTM4XMF0/6kM4eOVDF0hqG3CmrYdZ/ApcXPSuYGHKHS6fgam6JMbnzwp0YP3dYMeMe5Xcb+6khtGjZBpWrVCYTVum0lZLWgMOn2KXDg7tYezG3sCSLob0s6K7Vjpj9M7hRcKHaWFliyqSJKFy0OMqWLy8E7n3pEi5eOCtREiI4KD2P/t2+fTuyZc/+/Dt++XkG5v66ALVr18HQYd/h8oULGDtunEzotmrNGtjb2ZNQCkPI0yBMnDhJOqA5BPRH0vo7du3+fNV/fueHnApWxYcHtwWenI9Xh7MnRv914WKw0TfCpMtnyRKIgBPRQkFWNvTIjCeKYjfMvYAnCCX64Jh9VxsbVHHNhmqOzrAi2ubGepra1LLrV4T5WpEVW5aUovKkdLibmMOcBAUTpkKJbwbTMLf+O9ERGHvquEypPml4L9SrXVHa3oP7fliz5SCOnb+KRwEBotUzs2bYklXsQFsMWb8PyeJlmBgZyXdEx8WTEmSBX6bboXylFMxfoI8TJ5Lh/yQWIcGxwhdMTA1JYTKAi6sxihQ0hbtrOho0SoKdtR4sLVOJ8XPe+Gs5KxruSOA2L/u0CbOUL+W2qLhJePnKFyCmy2WhaHgvNi5p+uXHZIRcygjdHDA024PRP7TA8lWncHy/FZzdiOESt9bhsQjiyqF03CeQpItdB9Lx7cSnVA4GGNLAEd1KkkCLpDKLJCuAA/ti6DdWD6kx6TDq1Q1Dd5/Dvp2/Y1+uPLCmDIn8EQHAbh/+ScNYqps1/n7I5pEd69evg1ee/JJRrrv34RJ+ZwGgTaZlmK+Cr/MgpqCAx/C5eROHDx3CH7TdvX+fyitVpqktSppPJyLmIkQ4UpH0KNbZM3+iogQkkhzse+cG7oY9I2uhGIqbWj4PheMsXSLTqP/lc3DPlh1dunWFk5OzPE9bwRyhs2zJMly/cVXi9Fk7v3vXB65u7mjcpBkxe3axcC40hUn3MTHxegIzZ/wsIaDlK1TEIxJeO7ZvgY21LSqQls4duSdPHkN2ei8PNjPi5fvopRtWrcSEqVNQsXwFjBj9I66S0GC3T9mSpTBt5gyJWAine3du34HFy5ZKKCl35vyy4Fc4uzpT46DykMJRiPR15a3i08GyBfMwaNhwlM+VCy2zecKDmDbP0z/zpjeuUnvRI6ad1z07XGztRFnh2o+Oj8ODp4F4FhkuEWPMEN1IcSpkaw9PKyt4mJhh95OHOPXInzTTJLEuvBydUNLeEQWsrOFgzLOLKu4WLf5ESfwiwgb/+9jucxOGZBHHk3KjBbcvVoa4beckOl+1arWsYTBr5ix4X7smVjdHumkfZGNNQsHeBKVLmeGH71NJ4SFtnVTsNOKSbF2z75+9Nbykx8WLRrh6PYms3kRERCXTs2JJOeTOW8DV1QbWlvooU8oIHm4GKFAgCblzpZM1kgYrEg7SUa7Je1o6WQk6PPMmW8uKcNKCW7TwU9rk20XFV26l4lQ8R5wvpZv1Ofg6WyM6urYkAA5j9tShmDBtGTatdkfZCinKs9jLwGMV6FYe/JWWbEC86iucvwTMnr8Wpy/exKimOdGrBHGXZ0ZI53WbWBCQEEhNIG7j6oJ73QegXqPG6Ovhjj7mvCoxP5faP2UglUpttIb55/H0xPYdOyRQRfgBmUSsWLwP5fCdBABLbHaLHNq7RzRojmjhzHIBspvn8eNHOHPunMwc+MDPTyaR4jU/LUjDzklab017Z1S3soGLEUcuvDuYEa8JDsS8W9fQnkzO9qQFWevzPPlSVAIuiE7XLuJRTDTakFZfplwZxTqgGg57FoYlS5bCnyyEAgWLoGq16tLYft+6GX5kgnPnbxU69yqT5SN3d1fM+2WudORWrVEL27duwhP6Tn6HIzU0nnzt1wVzZf7+1WvX0jN0pS+AB3Dw/D6LFi8iLccY506fI3P3Eb7u1w+R1Jgf3HuAGT//jAuXLkiH8ZABA9Crb39V0/9MwfT53cABWEKme6uCRVGBaMeN2gX79rnp7Qt8gq13b4nmb0HWZDYnFxEErG0zk0pISkYgMdoQsgiiKU1CUpIwCLZ0ebrl5JRkGVjI3JpHl3PbNOeOXBICOciqdDa3gJ2BgWYMgdb/rmnyxGyS0lKw+t4dPAgNRqPcefCEBE8MCQH235sYGCI4NgZPoyIx5+fp6NzjxYyd4aEh8H3wAGdOnsSmzVtwjQQICykvTxs0a2SE9l+kgz1BxPKFSTOYUXOnMJ8VcH8AvZ+aKfEQAzzwTcP583oICE7G9euUj7hkhIdFS9swJq3axsaEBIIJnB10UbmSAWxtUlGubAKdZyHF3IKfKU8WaHfZpy+gE3yO3S0b1htQ+wNZHSxQpPgkfwzlmF1C9jA0/QML50zDD+OmYvmiHKhTmwUkCwd24NMuWwN0m04yWV5GX1HF1EdUDJVBk0Z48OA+1nR1R2kzUjKfUR64PyBahwQA/cbTU1avRrnqteFCZb3J2V3yIFYNPXA9lfvIB3cVBXPnTlnelunlffOJdxIATMS+pMlXr1FdpiN+jgx3GlLGOCrA2dQceYn4ato4II+JMTFsfRiQlOW+GiZ6TTW9E/wS49Dj4lm4cV+BZ364GplwtBZVqLZqlQrd/SwI465dhpdXXnTp2hW2pL3znDlzZs8S4VS9Zm0ZpMWfysyewy3Xrl4pfQEVK1ZB0RIl5FpGuJOEXjB/HsLDw8UlE0cVYsGzj3bsIhYNjxlYvXIZHMiq2b13Lwyp0enr6+KLlq1w7cZ10pJmIi+Z/dwouKGyEN25/XcsWroEUZGRqFSuPGkK88m047BT0rTYdFfxWYLngb9+6xZ6FiuJYjb2sKS6ZrpgmmAmz4Mat5OScvghKU/EgDkSx5k0fQ8HB9HsZZZQohKeg5819HBSdmJJ2eC+BVa0hPETYzU2Ik2TWgRPFcDrWYu7hp7PU0HLYiWvKDpMd5wmiYQIW+921M5qu3nAhNJySl5QfveDO/DM7YmDh488H2zJbYWbCytBzMx5wjif69exdPFi7Nl/gN4fAVMTQ1StbI8e3fRRvGgS6JMopT7lky0GBWncsathukovLDFTYtasXCcn82LxaXjob4jHAcChQ0BQcBqu34wiBTMJiYnJkg9TM7J0yEpp1cwWo0emkgDUPE+Dl1o1PZu/i9cIadYqDcWK2GLcOEtiggFUhiScNMXDFgaXuOTYZDt8bl1EjZr90LWTO8aNTqHrXBuK5cHP5wglnTRSinnSuCgT6Jq2gn90I7qnPvI7m2NDUysYhBLniyRBEEP2BoeQxqfDYM1qlK9VD3Yk1Le6kACg+uHRwddSEtHB9y4MTEywcf1GlCxdVuFdVETve1nId3YBzZk+HSPHjkG7vAXgSgyRiY5qS6a0NdXVQ07SFnKQBqMvkpiKiAqT/VlcqOzPYorhYn3by5Q6IGKnxvGNz1XcJ615bIGiKGVhRe+hwqNnaumYs8AGM7vhOnifxWMSTm3bdkSx4qSVr1oli8PXJOZfqKgySELerslfcHAwtm3ZJMKgarUayFeggKQRULJzZ07h4oXzEtvP4aJhYc9kIXVb0s5YCLJriTV+M/rmPXt2w5krkAjjxJGj6PFVT5QtWxaTp02VzvCngYGi9V+6dEnmRhk2eBC++rYvMQGqTK50LivtR6n4rMD1X6hAPsRHR6NX4aIoYGUHQ2oU2n/CeDScJ4q0/V1PHuIkbaGUnunUijR4Fzt7OJDyYUrCgImFz/O9L34V2laOFETHxyM2MR4RMTEiNJJJaWGGzSPk2ZpnTVxfz0DezYMd2Y0UHhkBE+LUtqam1K6Ap5QHVn4WLlggQQu8ShWDWQZ/l+KO0OSA9+l8QkIs1qz4H9at3yBCj9tIrlwOaNbYDK2bpyBnLnZuKIyYweGaCiMlhitat1Yg8B/ep5ykpxAv0dUcpdE7gJMnDfGQrIbTZ5Pg9zAFJYsbYMIYnjSN71PADJN5hPZlvMtRhbpkQg0dYYDLl81w+MhipCR8IdnnTZuO54VIRyL0jVfQM1xRqWI9xMbGYd9OC9jbK2kk33IP5ZvymJ7EPn7KZQQJB4vO6DPuFn7fuQM72+VGPhZwkfRMFgBxlD6HC4L7/oBqdeqgKZlKE0kx4LwmED10fPoYV0jxnDF5Kjp92Z2+g10+dJEyqKWV94V3dgF1aN0Sfxw+hBUlKyI3EYgWb735LeC3awuewWTMYwBWhQZgwc1rEjXRxclNFrF4FXwbZ5/LZHdYKH66flnCPLnj9o/9e1C8RGlUqVpVk/LP4EVjtm3dJA2jTPmKKF68pAg2P9/72L1zuzD7QoWKyMpjZ06fRGhIiJhg3I/AE8MFPQ1EUFAgpk+egsbNWwgxpJE20L5Na1y7eR2LFi4iC+QxZs2aJf5SbjBFCxbGH0ePUp7ZZ8nNTMXnDP8HDyQ4gTtnexUsAi9SZNhFqbS6P7ceHv0bS9q7d0Q49j/2x92QINHm2UJkF5E9+/ctrWFD2rgoYRkakCICFGj3+C9fVtJycnbK8DnlOlsFTIvRpNAcJyuaBQBP3cA3st+fpyFp2LQZ9CTeXLnnXcBRf96kQK363wrsO3gQwdR2rKzMUJy07h7ddVC7FmvSZBlTfpiBsmcoowtGzAD51WwEebt8A//yEQkf+mH+pGRN0574Xub+AuU5Sr+achtbGZOnGmD1hlhcunwShund6fx9OS9peGNhRPnR0akMPZNZ2LZhBb7qMwKVyrtg7SplChlOx6XJd/GtOhwlFE9CMpKEbLQ1Vp5phe9+HIONrfKjghE9jwRAWqwuDOrVgn7LL/HDT1OwfPVqbMyTH0WJv7HCvDkxGt/dvSMegq07d0mePqR7+N1cQJSkeaMGOHf+PDaXqgBrntDjPSED/Qp493ZcLHpfPoNsROxTvArCkTTwF7rNy+Dq1SUzNoUqeMCdm7j0NICISQ8eRLwtWrSiiqUXCLG8AjrP7w4JDsHWzRulM5ancy5ADPrM6RPE7IPlndyoJDll0tnFDbXr1JOFW7hBPQ18KlM9cD/Apq3bKCVpBHT+/Okz6NGzB0xJUHKHr421Nfr16YO58+fJrKWnzp6DIWlzH7JiVWQNHN6/F63btkMu0uI7580PT3NLhcMwI1KSvARm3KzQMH3xWJdIYsaniRbPhjyFPykRUfFxQmPsbrWiZ1kQjdmRdWCsb0DM21A0e4a2vcireJd36D6mY2GJtK+4lng3XYTMiRtX4Obiiq1Eyyxw3LTTq9CfvzrYiJlyWhpr5HpIoDxv3bQRy1eswC2f24hLiKf3WKNJQ0u0b5uOHGQV8CB+aWkZGT9B+LbsK64hyczza7TD+9rv412+rNnXFIEC3tfeSoz9ylVdNGr9FH/sO4D8+Q4jNWkJMXFm+pxAScfPkdv0WkHXcBBmTPoFs+bNhbmFISmGFmjb0gBNmrD/gdJoBEB6PLVpjvgJN8X+wIHo1vNbrGzkiSpGBmQZ0EfGk8U1bChuG9ujdqPGaOzoiCk2PEcZfSG9r/nTh/CJisa+PbtRpHgpycc/DfV8E97ZBdSicUOcJsa2qXRF2LIpSuDCeaeb3wApZKkYIk5i1Gwgdrt+CQFkfo4pWBSlSWMy5l5vTcX8CUQUItVp91FCHLpePot4ajTNiPlnz5lTpLNWG/oTNMIhODiILIZ9os1zA+FG5OWVj4RBQUm2fx+vjaqL9p06w8SYVwcTg1Uyv2HdWlmveNmSJahYrarM/qmvZ4jhQwdj1549KF+2HH4YNQours6oXLESrCwscPLseRnBp1oAnz/2/r4N7bt0QcXsuVDH3QN5iZ6ZboSeX9N4+DQzA+YqomFquFo0MWmfmChcCQ3FvcgwBEZGIkHTB8D9TOyqNNRYCjzhHI9JsTQxlZluOaRUQM9S2hrxIrqXO59j4uMRFhUpA9FYsBzY/weKFi+h5CODy+GvWAAMdhMxjfMvv5ddL94XL2H1/5Zj1779eErtztTUCEUL26JTW0PUrZsEczPFLSZ9AjL0l3/ph2d2k19+Mj2OBAx3mD7PEZ2Pik7HohXcQUzWi0canJ3oOeJS0qe07Cxmlw0lTNOj701GzYbxpNi2wtiJnZGa0JnSJVB6jSTiIuceR64rLl/9UiQEeuLS+TCcO7uXlLrTpAwmwNKSlTjOL/0k0Z8EEiKh9KYEL9w1HoU6dRtgRa1sqMAL9ERRPhJ04EtW1pc+vrClb1ji7AKLNBY8PDtBKir43YMlCYXjp08rkYWED8kn3lkADO3fD4uXL8OsUuVR3sKaKolO/jV6eC1YkvOjuFHMfuKH9ffuoK1XXnR2cBXXj+Qw03cxKUNG0hroGhCRp2M9aUqzb16DtbUN2rRrj/+3dx4APtf/H3/e3sfdORzucPYWSUIyIwppaKjfr/qnXdpTk9avvRNSSYWkUsqIyF7ZzubcMs65Pb//1/P1+XzP9zicusPdvR987vvZ8/1+jfd6efux4vjUN5ongvvLCeO0Yrh3734abJ73sz8xCd98/SXatm2P7j17iVXDiq+j59uxfTt+/mkaoiRzf/PtdxqOkRmSZXaHDiVrkA1aT5s3rsfQ669HvagoLBRFyh7CrJgzVGy++GwMHnjkYfRq2ATdakSgQWCQbZScGgoFZ/YsInxpgOQ7kClpcWvKEezJSMPfB5NwOCsb+1NTtFWQpkHNV/Kv8FjrXIXX5oxsooKpLl5EnaBgrIzdi5uuuw5vvv++HO9W6l4qG5TwkY6IZ/zLT9MxceJEHQqGQ6hXDw/C5f1CcP21uWjahE1CPa3x/vU4uU99GoHyVs6hJT1cFvgbH++Ofjem4MDBdFEs3ggL8Zf7d8fwYf64Sc6pjUfkf75Dzi3rb73DA+s3O7B0+WIRInfA07FaG4Sy6Icth5znduKmTVqdsOm4taTvkzeTI/d3RBReIhXH+TgcejtevOtOjIz2RkCaDwrS5YzZbvj6cBrS8hy4MSAIfpoaLLJEjnXaEYMaIiMWLVl2RgzEEg0HTXcuV6zr73/8EUFiAV8UHCIvyX7wUoCClh90UVoKPtiyEU3CwnFX7SiEswWEvOYTX8sNB3PzcNPaFTi/aijCRMs2E5d4n5xsfUK8JIgEDelYEkHLUUOXLl6E6OiG6NL1YqYCyRjuOi7/urVr0Kx5C9SMiJD7ZLkgj9A/2uKIlUObt2zCymXL0bNPH/jawRz8AwN1X9bcTxg/Xj7qIlzRrx96y6QZs5QrdAznHtOnTsXipcvQmAMEBgejqpevpCFJzSX49K5Cv4gCoHUsaZMxL2qIgdO0SlX0qhmJXrUj0bNuffSr2wBtw2siMiQMDcWabBBWDZFVqqB2cFVtHtq0WnW0EGXUqkZNdJd8dlOzVhgsx5xfrRrmJsRhV2wsbrv9dsk3XqWeRp3eAIdiadG6lXjVN2PwoEEi6POwe08C5i7Yg0lTsvDHvAB5RV6oFZGHAF+rzoR1g4wXwOEftLqAp+Iv2+PLDkHiPQy7yhdXXeaPAD953pp+6NfNA9cNzpe8LPvxeFFAFOQsbQgIdMPE7+JRp0YttG3XE/m5P2p+tWSNzFj/ZZmtotic1bp3llPQjyqCnM+NI34ekd9kWd6TBK81f6BnoNxbmhzPQeNyZMp3QwsPb7QV696T0o2n4UUESqkv0g7L47hj2H/+ox5dWVMiFUM3kAGGw0PDMF8sbFoe2uPumHfwT+Cz82NkiFZ+Y+smbc52d2Q9VJeMwpdKT+O4y3AdV8qfLxNjkZKVKZ/HgRyZqLnvrVMfgb4+iIvdg5m//qrWNvdnWiHFOT3btsbozTRp1lx++ZH5fAwA46lBYBJEoTAzFMmIAs/FsYXq1InCalEUN11/HTZv2CgfTz6w7M+QlEsWLsRXX38Ff3HH77r3Pj3vMacxVFBoWMgH14zGMn1LajGJWSKEaf9kHJveCIsyKJCsClzLS8jWaCkOBHt4IkQMp5ahoRgYVRdDJS8Nq9cA/9eoOe5q1hIPtGgt801xQ71oXCPKoltELYSx7kAkkY+HFzpE1Mb+AwfwzYTP9f54bhqAxeWZfwJlCZ+Ieck5gmV0o8Z4+c03xTNejPFjxuDC9h2xdkMyHnh8N7pdlo77HvGAOPXa3FKbFNpCX811nWQFS4vyChDgVYAGdRx4+PY8vDAiGzcMFGFd4G4FkuE+epzsL+fqfXGejvP/4ccfIz2zlciOjmrI6yeSSznHJHKTAymH5JZlnu+BxUnOr8p19r2xeWeqA/mpHvIr21Lk5tLkeA4UxwHu7PtV6UKFwZPwYCeSPqLFgI1PTNS+Q3zvZY31BKeAH796eA0MGjAASalHMCExTiteOZreP0UvbB/O84/csRmJaam4rWFTNBBBSUWgaV+mY6/CPMMPsS83GzP27kZ7sXZCxcqns8rhNqYeSEB6djYCgoKwY1sMvp86GekZ6YUPW1ym4tg9rDyuKVaRKyGi9KpWCUHs3j06/v/xFpHYE+ImDx5ylXgJLRGzfRuGXHUlevfsgccffRTDrr8e/73tFg2Jx+vyXrIyM+WZmbgMFR0d50Z+VXhIwnXWR7GIhulR07KkC+dUHMeu12V7nVMwc4nnspbsIlXZxmWdZN51HdF553qdHBgiyoJ9et58511t5aZFNjKVFqxoZdGG85k4r0rBzUP7GQy6+lpt/bJMvKYH7rpLrP+qmPLTPvS5Nh4vv+MhVrrcb67kdBHijLBFoaq9cSncWR/LBky5cv4c2U+VgsgECnxu437cn23UZZUjzx3PPxyIHbt34slHn4Sn39NyHy3U0qeSZQc2K59aXr/TE7AmS5rwvbH3vqcIf6TJUYc94ZCp4IjcoygDjhjqLtdWBcRTWS9ajrbeuytya7gkMFj7d3w38Ut579YIwWWJUyaeEkknePiJpxAu7uTk3duxRgSqWuf29E+wXqq4Pfv3YUncPvSIrIuu4qpW8fQWQX7ik1oVZHJcfKx2YhlYvaZGK+LDHGKnmtjdOtjbgAEDNWxirCiJqd99o8M5EGa+Y3EqHA7OVoisYHMvegVpqalYtmSJfBT74i7wdLT0+/brj36XXY4q4mbHiEfxzbffYMFfC+DnH4BOnbpIAg/Cy6+9jmuuHIxE0fKGio+37cYz2dgyTxGRJ3/drfVlbOkxfWpe09/jlQ2vrssyEyrebu/oRti7bx+G33qL9pPhtpNkx1KHwrd2VCRGjnoFfy5ehDEffojI2nXw0efxmP4r28SLqFRrXu5bfp2Tc51OItyd652xhakEOJKnrtd9CtCrSwGuHVgb306dgqcf+xgO74/g6TNclLXIIAp8d/bvYV8F2V9PchQqAl7LQ4R8fjqHf64KjxpXIDagH+IS5NumeYplKdY/g8iIAmDgF33ZOtnzLtDj6OLtBw69vWXrNlGOvL5euMwosQJwE01dvWYNjHrhBeSIRfDUxtVIyOSgaNRk8iT2g/F2S37LBVibno4vtm9FbRHYN9WsjeoevpZiOclJqJ8Ts7Ixa98etBTPJNLXB8GsMJKEOml/PA6kp6F1qzbw9vVF996XaosejuLJISAW/DlfxzK3zm/dNM/nJ64XW/DES8K38gZvgtuB89q1R6govlUrl+uAcNrUzvIR9WH5DtRikL+NmzTV69GyOq/9BeIZXIsBlw9CwyZN0LN3X22eunDpEvTp2VObCFLDl6aFZTh78FvSbc+zjQguh1cL03SpHb40regmTVsHcrLw0NI/YYUBOh6moZLwb4WzNgflSeTe+HN13QZoLQJ34ZLF6Nu7F5YvWaT3wmfLl6mk9/VPYYczTvQMAgOCMPjaazF+/Dj4+vrh+XdTsG+vCFNbqKuAp1zWSR7AnqziItdtsq+tHLQohoqgQLwPefevPJmHqwdGYuwXE3Bp7yuxbPl5KPAcL9r7IXj5fSXfrK7lybHupVBkyrJ8X7dsB8Z+XgvvfXc5VmU/iUX7u+C2t+bg+b9SgXS5DwaLUetf7oevzVXwy2wR6B3ZG6l4+TEsg7PsKFElMBOwc2rWohVSkw9h4bKlmH1oP5pXDUUtH/YMZnmk3vPxD1YMfK4MeakjRJGw1cIzjZujvl8A/MTitjLJSU4iAvfVPduxI+Uwhou1Ut/HT0PqpcsHeX7jWgQEV9Hu00xALNbhSJ2Mks/mnrt37sDmzZskc+aLpV5FExXfeVBwMFavWiHrHWjavIU+iJVxoV4AI4Vt27YVW7awd2MuatSIgKdYS64PTMXAyE/z583RY7t176nWv7NtNsdpqR/dQK+3Q+5j+o/TJSFm48LOXQv3MZRPKBRpmUou0eHJ33rtFYz59BMsXb4SSQf2az8AVtb6i2BTJMlwDP0/9+xC/3oNtPiypDBtHcuxq5z51bkvkylnXY8tbjtLR9hqrnP1CCRKHlm1LQbfTZ6Cw0kJuOCii+DtYZXbl7Vl6sSqd3NHhCgkX5mfPmMmDiZXRf/OcsO8WRHmljUv+1HoU9gWCnrrgWinyV4yLz+c12Xrl7NsZ9+3Rx6qhYbgj4WJGDv+K8z4eQk2ri9Afs4R/DBtHho3ciCA/V/ZQojH8roM/pLqhq3rMzHq/T8x4evJmDJ1KnzyRLFHV0OdfC8t+2fwF96Higq1PDkdT4Hc6KdpKVienIwhA69A10t66PqyfNclbgbqhBZAjminl559Bh9/9hn8RAgOjW6IW8LryI1a+zgT08lgrf1vhw/i5Y1/4/5mrdApMBDVva0u6Ke6oc2Sce5as0wHmhsZ3QQ1xc32EUE/PjEOn25ajws7dUbjptbQDnw8K6GLQpbj1q5Zgx3iceTl5WqlbPWaEYiuH43akVGYPes3jU18xaAhqjSsCjY+i/UwSYmJmPnrzxq6MliUDMM+1mJ4vxrVtbXQzh3bsWHDOtHemehwQSc0b9lKrcAi35vnkw+6d89uLPxznnbLX7d2vcY0NpRfmM44MOLypUs1RvWhw8naq5eje7KN/mWNm6JvRB1ruGaBQmmt7PPOmuX4uFtP2a/kKsBViNMq5yLTKQ2e4lDlpOm46LGuuO7DdK9DpEnSXZV8EF9u2YDElBQ0b9oUn40bjybNmp3wPGUJY2N369wZ++JisWJiDYQFiBQWK55GGy1zbRHkCvsA8JlFqGi3Apnc5DW7ecqzUtDwlduTBpB3z8WBVE9M+ckLP/6ajYQDWfDx9kCzRoF47+0c+PvzZOLJyWk57IObGPmOg2Ik7nfH7q3uWL7WAzVEAbWANwIzveBg+EgKf/E+9N3KxF+Z45/j2JWbi8u2b4KPGKvz583XEY75QU70XUuD01YAhbvL77cTv8TTI5/FgUMHUVusm6vr1EPvkFCEuIsLJ2+9gIX1fFnywHzPVMzOdMPT8Hul5uUhR/yxUE9fjfN7wpuxr8u/D27bhGVxe/FC63ZoLi5ihHgAWXKeG/5ehlRxtQcMvlrrBCxcLijn5xLH8dm0aQP27N6F1NQUde9UScg/uupVqoZgyFVD5Te48Fhn2qLnMPu3mRoUhu/CaaFoZZFcgmMHscioQcMmuj+f92idg+wr+6enpWH1yuXYIR4FewmvXLUGIWGMAGUoz+RJBr6480XYum0bLpPv31zygqYrmXxl4uicGr1LYJ7empaO5xfPx3OduqJhQDDyJZ0wsx+bJXm86zpX4evaUsRl9T+Hp+N59Jc5woFs8WymSV6ZsX2LFs3cNfx23P/wIwgM4uBwRyt0yxoq2Ifvvx/jv/wC371YC11be9hWvtwq79d+FXxVvCWGoGTbSg7B7qbBZGSbLPNX21x6SP6V3wIucxsrpz3ytS9YgUj5PLHWeR4PLypZ1tfILzttsfgpTSYR/lQAjgOeogQ4yf0ccke+RgETDcOSQBY1ibZhE1bnJ9Rfl1fGxQR5tmHxe7BLDMmnH3sMIx5/Qr95Wb/bEhUBucIbck7NW7bGFZcPQPzevVi/dSsWiFCecSAJS9OPICY7k0kDgfLifNmZRJ5DHkeOs87jIb/MBD5iIQV4emtwHn0/J3heek78TjGZmfgoZj3a1qyFgWHVEeTpJa6hOw7l5uDbfXvg4e2NBvUbwsvbclUL0fPK9eUqnrIPK4dZXh8VVQ+BgUEIkonjnXjLthRxwXbu2IaqVUMRqqH5rCN1zJTUVKxcvkxb8vj5+epY7YR1CBd07ITzZeJ4RNa3tv7yaLWqJCPFiOL4a+F87T3c+cIL8dXEiagVGVnmH9pQtlAQZ2SkYfTo0agmaeHSyLrwl7RZXzzbat6+CPHxlbR+9BuzU1Kwuxc2pB3G7yJcxQxBg6AgMYJomh6F6YICgxOTiPXrch5nEhP+SRJynrcQmXfmb6eBQ2OuVUgYomXaIB7BrPnzsfjPBejdt58OhliWRRSuiN2O2TN/w+q//8YVFwahXhibV8r90spWYUuhK/MsBspz4KVJbIbrjsYR8pDiJbjlUWHIPN8Zn5s/8py8fa7S98rXz+eXGdEHmm9VwVDRynndcwpEuMs+ySLdRNjjkGiLg3JeUQJcV8AmoOkiqbJl36pV4NWtPfJ2xVn3yAsKWgokBiMjH/K6sXk5uDUhFttE7vTvcyleeu117bvk+p3LitNWAK7w5tnj9orBg9Hv0j7ykgo0ctCOgwewThTBbwn7MH1/AhaJlR3m46PxAOgWO48lmnZkgR/3ZA9MZ4IKhC2GYlKScUeDRqgpGSvUy1s2uMFfLP54Rz7WJsRh587tCJLMFCxeCT9mURza65cVwSyqYSB5BoSPqlsPDRs1RmNx1fml9uzeia0xm7F3zx6kpaUiXp5r8+aN+HPeXKQeOYLG0dG46tLeOrrn/kPJ2o0+LZ3BPx2qRJhweB3G/OW5YrZsxoplS1Sx5Iqyeui++/Huhx+jWjVrHJAzlYkMZYMKYsnUn40ZoxHj2lWPQHVfP1QRJUALlH0AnGmeMC17ihXULjQcsWIs7Tx8CB3lGD9nHYGNa55wzhZdZwnrk+WdU3Hsoc5zWcqF56YMdCDCzw89a0Vhb3YWlkt63r01BoOvvuZfXfu0kPuZ8t232CjXfmJwGKrQiqTAZ3GMKgERyKwLYFNR+Z29Fhg7NwVDe7eCT36q1dhChbk+kFjmsq9MDg8/+c2VPEspxCe2rmV1OLMmbVXEazC4uygVCn/HIRH2Ivxp/TuS5ZcB4EX4q1KqFga/Zx5HTEQjbJ8zF7XVU9Mz6w8bkrKCcUZ2Bu7ZuwuxImMu6dwF47+aKPKDo7TS3C17TrsIqDicbijTAcu0d2/fgTm//6bDKvy5cCGWr1qtwpY9EG+JrI+Lgquod8BMoK/Efi8nhdaI/FuWloJtmenoXTVMm6zRKncezoKaL8WynrBjCzLFMq9dJxKRkVHqtnJrjmTMffv2apzfbEnEhJWvLMdvJN5AeHh15IjQ3rRuLbZssYp4eH5tF2y/Jt5DRI0aOK9FU1QJDED1kKqq0Wf9tRw7RFlw+Fv91GrJSYLiu5HtrEhmcU+dmhFYu2kT2rdti5/EmqFw4P2ZmL/lG6YPVgLfcO21mDl7Fs6vUxcZebk6tv7gutFoHFTFKle3kpGmCS0Tll/qfjsLWU2cbWOgFLLmcRwV7ic+t6tAZ95mHknJzRVvW9KpPADrAZ9euRixkr9n/PgjOnTqrOcra0XA4SK6droQcXF7sHJ0bbkfeQZa5bKNj6OlsPLrvIudB4C+78WjW+eL8fHom+G2dzrc0zbLO8+Ew0u+hhzvEd4O6dXuQUDyY3L/+6wiIp6QJ7FPpOdk+XWuzKfKymSZDnqiQCZHkgfyD8p7Yvt/Kod8D3h2uQAeN92JD7/4GmM/G4tnq9VAHzF+LSOWkwPJ+fl46vABzEqI14Ehb7lxGJ4ZNRo+Pt5l/h5dKRUFcCw8JSs/nQ+ydOGf+N8b/8M8UQZM9OeLEHwpuikCPUW4yuezROXJ4Zl4rHxjxbm/810d/fAFWCOW+GvbN2PnoYO6vx4rO3IfWuaB4pZHVA+Hr7z4uMRErcPgcA1sy08rgUE2aogySM/IQLWwMAy7bigOiXvGlkRfffMN4hISECrCvGG9uqghmj7Qzwe1q1XTwbW2792HpOQU7VjGAB3+YjVVDQpAnRrhqMLf2rXw2Tc/YINYT6PE+fq/O++Gu1iJZVnRYyh7mOap7P9etQqDBg/EweRD8JLvyszOAdlGX3ixjmrrDGZkCUydLYJr5i+DrFmi8xfZJ9+B0E5tccsnY9CvZh30iqil6+fEx2HMmuW4/uqr8d6nn+k61+PKAhqRrVu0QDV/B34fEQwPZ3m8tvjh89gGpQ1b1Yxdmofnft2DrhdehLfefRtRNf1FEOeosmYRzM+/LMSbb7+Lb190kzydZQWZp/EtQqnw9fBXrX+RJhzQjZb/AZmSqATckXfEHflp4tHVj4bP9Tdjg8MfTzz5JNauXYeX6zfAFT4c8cdqUcgbjMnPxR2xu7Er5TAa1K+Pl18ajd6XXaYy6ExTJgqAOE/Lihv28uPykr8W4LHHH8dGsYBrV6mCV5u0QrS/n1gZ8uFOkXZ4Ou7i3E1P77KCP3pNnaGwd2BrVgZWpx7GjqwsJInFvzQ+FtF166FjmxaIrh0h17Us+6174rBJvJYs8RCYiGtVr46BvbrhnQmTtLXQuo1b9BokLfWIBnT56ddfVcgHBwWhfmQkalavhvCQKqgeVhU+Wn7HimHeU4G2VmMLBSo6d3Fb2T/h1U/Ga0D52bPnIFLuySiA8g3TkdPoid2zG9tiNms40W++noiPxo7F5U1bYHBkXQSIUtD9KQ2K+eQlEdD/hpKcv4ggl7zU+L9DceUjj6MgIx2vnt9J0zX7At0+7zec17oNZsxis+djjisD2AqoVfNmqB3shV9vC9JiHpb767vUljZFr8+nY94b93cu3v4rHll5BaglxmfzZs00bO2mLZuRnZmOUcOqYfDF4un4iLqWz+PO0COSH3k69dJ4kkz5TRelnWIV+WC//LL454gI9jR3ZDVohJkN22Paz79gybKlqBUQgNeq10Y7Ufp6Dn5s+c+K5KdTD2LSrl246vKBePvDDxAQEKzv70wM/nYsZaYAnGi5m50w+KGoxR994H5MnPwdwsQyeql5G7QNDNLtat3LW+dr4LyWydl3x4/hlJHsRM/b1hcr6+Qh9BrcTItLYdGQrOe3Y5S45LwcXLd6CfLcPXBxh3ZoFl0fHC6XkpnFPDIjk3U0K70YE/jlj8arUti4ZWth4uYPn2PjurV44/XXMHvePKSmpSJIvIMose7rR9ZGzbBQhFYJVm/DPsy6K/sPxxdas3k7fhThf/ftwzHqtddNEVAFwCousT+4zfaYGHS7pJs2GqgfVg0vd+ikrX2c6elU2Y/7sfydu1mFnSffvzRwvTffkKrI7nMJht8/AtV8fDGqfUfdlpydi3sXzEaHtufhx99+1zuzWsQVff7SJFMUUOuWLVE70B0/XlcV7mKVs5OVR76tBCg0XF6PygZmK5m2pTowcUsW1iRmaUB+L093NK3ujf9c7INWdeUNe4oc8HZDvlc+3L3kncuyCiKeME9mRAGAg7qx7J/C/xCHfJDrp8l8tjtmZebioU3bEBkYgKtCwjDE1w8BNHzlzbCcg55fjhgITx05hJ/2xaJF8xaY8fvvagSSsnxvJ6PMpY4VZMFOGDKxjOutDz7Enbf+nwa7eHjdKsxIPqjWODugELWYOSPvXmvKebx8zXxxR3PlJWbl5iAzNxfZ4l3Qr6LspLC3vj2PlMm5zF9ZDBGrvKe4sBTWsYn7cSQtjbejwp+Zy5p4HE9ppSRmZmpslj1ynhOfwyH+ZnNJiGM+n4BZM2fipqHX6bNtiNmK+UuWY/3WHdi+ey9S5Bp6St6ITLweb5ZKMbJWhG7IZZ0BtxvKPcV5cdENG+Ke4cO12HHHwf34dNsWMVYtgc4/dtIoFq6nUqH3yMIBS1lI+uNG4bTSzensa8OnyTmSjm/e+xDBHh64pUkL5DMRyzQ3KU7DSDZv1lT3cx3fp6xgXRlbHcUlpyMjRfJmhuSlNHkfYpnrlCHvS34L0uVxZR785ZQG1JcX+Ewrf0zpF4KfBoZh2pUheKW7H1r6yj0fFgFy2AsFItCR7C3CXc550BMePl3g3vBlOVeoCn1HIot9ZD8K/xQR67x+ttxHngOXuHnj98ZN8H2turjZLwiB+sVEXqj6dsdWkVfXxO/FD7Gx6HB+B3wzebIK/0LZeJYocw/AFQq+fJkodFmR9MVnn+DZF1/UDlpNw6ujf41a6F4lDKEeXpbglJe3VTyG1UdSsC79CHakHsGBjAy1oAhfW1RwFfStEYEecly49/FhIxXuLzsfysnDNSsXwk0S0qXduqCBWPnaRpjX4gW5Kz+XrIiqHYE3xk7EgcPJGginZq3aup1o5y5BrQ4qBjk0PnYfRr/0gg6ZzQrmxpLxG0ZFiqcRKZ/fyhy8a77uoAB/jP/+Z+w/eBAzf52Jpi1bFSs8DOUffm9O7IF+87BhWLdhPeqFheOeVuehtp+fprUTZUGmGab1PPWiLc+UFYnOlMKjmHZPhevpT7X/scKIBpCXXJGGXF6B9uTBX/sT8PGalTp429y5cxFVP1rSb5nbktrA5PEHH8JnE8bj0U71cVcDH62cdWevLt6aWI6aJ+28LNJNNvJXNnkwvoAIcLs/APsAuHvJ+/SS7+MpStarAAW+HnCvWhUe9TsAjfohzbcBpn01DgMwAwHpOcARyccycchnR7ooAY7xkyuXtuxQNVL5UbT7E68rK4/Iz1eZqfhk7x5tqcrK3mdHjRJD2E8NzbMdE+SMKgBXtOWQXHrZooV47rnnsXLNah0FL1QSVaRMNcSF2pKSggSx2GnxM3A1raiG9eujSnCwJsj09HSsWb8OGekZCAkIQPdadXBXjUgEeXmq3mVCYHoufESZf3XPTvywfQvaigV/8fmt4e/jL4mXmVQ2chdJNGwqTAXw1riJOHQ4BYuXLNEew6fS1PniWv4y/Xvc88ADSDlyBC2bNEH/bp1VQfDiPJz3lZGViw+/nITuXbti0pTJcn0THawiw/THtMP+JY+MGIEp06chwNsHVzdrgX41aViwkECTp6Y/jjGzWwyfWWIxrk9K0oDuTMIsYqkuVuOAqGh0CA2VY0QY6ZElQ3MBz8NyEfVyAS9Jd8nZOcgSJZMk+Wlzeop64h3Dw1HLN0DjF6sAlX1TxROeHrsHP8ds1D4zb7zyCq6/+b+aF88ENLz2Sv4dcFl/JCQmoFOdcAys6Y9IEeTr0vIRK8L4QGY24tKyUNWXfTD8cXW4D5oEMq6BvFd5f/z14JDBFPhUBHLvnm3awKtNDzjC6yM+yxtTxTj7488F2LJtKy6p5Y9XO/nDg95FhhwgHgejfmVkumGOXGduSjo2iQGbKx+otsioKDHuAtytsoyDeblYKN88XmQBRxl+4dlnMeTaoXC3hf6p5MmZ4KwqAHoEauXIi9qyeTM+/uA9LPhrMRL3J6mnwArWJg0aon+/fug/aCBqRERoG3t+NOYI3voBySCffzYGX349CXHx8RoH4GLJVM2DgtFChHuwt1UOl56bjw1Z6ZizPxErE+J0vP6bBg1AtapVVChL0rDuS+aZLmrXqok3x32Nw6KElq1YidBq1U75wTgIGM8z6vnn8MY7b6PT+efjkg5t7TNbeIpy+nHuQmzcug2TJ01C1+7d5bynF2/VUD5hNDkK9y/HjcULo0cjWbzLGlVC0L1uPVQV4UEhu08MnmWSPpMOH9ZoXNWrBaJqECuOJZ9IntmzLwU54sn2bdAENzVsImlHT10imNFpFPOQTMlff4olP2v3TsTJfeTls5Gqpaic6bym3BuHeiEcr+sAjTG2kKteA2+8+hr6XjFQthQUjut/JmCjku1bt+L+e+9VozE7h20zRRWK0OVYW7So2fqOdXcsonLIffeIjMCL0WGo4e2uwl/1FUWITAVVfLFnyEN4fPRb2LlnD5JE9rDjatuIUNzXLAgXhHnCLVtkiCgAhnPMyALGJ6Xhi32J2J+RoeE2g0XWEFYs5+blye3wXVJMuSMsJBRXDRqER59+VgxYlvfLvbLZ9+l8uDLk7CkAyQi8NAUf74AFJPzNzsnC7h07dWTOcElo4TVrWMJej7KsaHXzdJELliJg65zxYz7FuAkTEBu3T4PAeMmLdgZUZh0D2/g7h21o17o1+lzYXj+S5ohCtxFaRPPrgqVYvHIV+vbshQlff60Wz6lg4qRiGzSgvwa36N/jErRuXF+28B7kHiWB/LZohSa0lk2bYfb8PwufwQSIr/gwnTpbCu3asR1PP/E4FixehCOpqfYexErjl15cCzcNLsCFbTIRGGQFV2cd2PJ1fnji9QJsjDmI61q2xRV1ouzjToxcVuF5mf7XJB/EhM3rsS/5kK4PCwlAz4uqIiRIFE5ojnji7liwugA79mQiLSMb2dl5IkzzECFW7KW9euOxp59B9Rrhmmf4LGfKeLEMLMkn8hzsVb9u5UrMnTsbqalpqFevPtq2P09HD+XAjuyUuWXjBnz88SdYtHQJmodWxfct6sBblAQ9fp6D8YELRCH8me2OMVvi0DwkCA0CPdAlzB21fTwlL0vOzRF5kUsj1Q2/HMzC27FJ2ClWfa2IWhgiRinjgHDMHsoRjhGWkZaOHTu26XAvzZu3RL3oaFQVb83qF0SZZ72vSq8ATgZvyfUFHbt8MlKPpGLzhvX4e9VKrJIpW9xbfmy28a8lHsSYz8frusF9eiE6sqaVOTQ9yDVEYYSFBOPzqTOwfssW9Lj4Yu2Zx6EiStLCgZn7iHgMnTp20Kg+DHvn4+0l5wzR69CzyczK1vv57OOPMWTo9faRhspIXl4+9u7cgQ3r1mLD+nXaq/zw4RS8+f57aNYgDB88V4CmDXMlubCeQA6wi26Skh3oPQw4ciQbz3fsgrqBgZRmmq6cSZT7q0XPlUzg8j9XJNrEXdswZ8dWPdeAvv0w9895yMhIx5V9wnH/rTmIisjRFjJiKyE9wx2HjxRg3VYf3PHUIdx03Q147e235VgKUftCZ5FTyQWWMHDk3hH33IVJkyfj3kb18GCNqqJM5c3Q7qM7RLksp+DYP4wJosfJeSn8xYaEe4E7krLyMXLfQcyOS9DRg+/8v9tw9/0PVojxu85JBVAaOB+L3gJd7xRxqS/t3Qvbd+3U9dFRUejXtZN20mJFG8M+BkoGHPPdD9i2cyf6iaXz6fjP4e/vzzwnHsCpLXTWAaz/ew269+qBunXrw0cUAAPJZGVnqevP4CDx8fvQKLqBdooLCOBgWobKjmtT6eysTIx+9ll8ypCMkm4v7lgd1w/IRbtWuagRLp6A7uWG6bN8MPzpg4gIqoJRHTsXDiHhlIesE2VQJbZA4YgJMakp+GDdGsSK9R9VJxJvvf46evS9DIsWzMcDIx7Ajl271IqNjAhCh9YBYrRYBk92VgEWrsxEzI5D2v/l0adG6jXKQ7Nl5ke+jmTxdHp0vwTJYoBNb94Q0RwnjM/AjTrZioDILIviOLx9dk4BJhxOxyexcTgihlvnjh3xxltvoUHjxnrwmRquoSypsAqARTH8wHw6NuP87w1DMXPOHLRs1UaXY7Zs0iZlUbUitEdvRLVQzFywGHv2xeKqKwbinY8+LowVwGxUkiIaZuSXRj6NN957D126dkdDSSh8vazP4I2sXbMa6/5ejeeeehL3PvSoKfc3KEyrTB9WemUxQT7mz56DV159DSvXrNH1IVX8UaO6L7zFOmeaOpyai917D2srneiwcDzUuj3C/Rhw3jonPVpKtV3pqZiyayv+jo9Dnhgh/fv0wSv/ewPVa9aU8zL9FYiRkoYfpkzBt99+g+27dyMpyaqDY8pniz32hmc42OdGv6xjZ5WX4kpnMTMV2Vefj8N9D47AoKhIvF2jmi34rR/rj6BelOR2efQ5IvDfikvC+gMHRPGG47GHH8F1N98shqKP7q5NwsuBEjwVFdoDoAXAbzTi7rsxYdIk1ImMEuu8j37AvZLQ161dLS53sg7axkTCcdtvvWkYnpeE7ikf+nQTOq/Zr1dPzbRXDL4KgUFBmiHZVoODxf384w+oGhyMBQv/KlGlsqFywwELd4s3+uX4cVi6fAV2SZrNzctVS71qlSq47T//wZJlyzD9lxnw9fTChZF10al6hBbhxKen46+EOGxOiGfJs1j9dfDKqNHo0//yExoeFJiZWRk4tP+Aes2UjBRyIaIAOLhiecSpAFjc1rNbV6zfsB4PN4jGrVWC4CU5U4uBJBuyFCBFlN7yrDy8L57CxgOH4CsK9ZrBV+KZF15A1ZAwPV9FM9oqpALgI9GKohH0xdixePjxxzUR9+nTDx5eHGxJNonVxY/JMfk5PDPbYz/31NMYfu99st36yKerAFjM1LZ1K71GvwGXy3l4vJUA165ehdWrV+CR+x/AE8+9oN6Cqfg1nAwKZE3EFMRMszLH+itPsT61UYKkczZuYHHOuM/HIz4xQRs/ML0xV7MOqk2Llrj2mqtx7Y03aTPqyup10hjcunkThlw1BHGiFNuJAdY0MECbvLJjXlxWFtanHMH+tDTt39Dj4m54+JGH0abd+ZaHJvDdVTSjrcIqAGae32f8iNvuuIMiGJf2G4Cg4CrOPWRyw4H9ifhj7mwUiAfw0rMjcesdd+m+1n/rQ59Ohpn50w+4/qabdUjpjhd10fvgmdjbd/q0Kdo8be269epGM0c7WygZDMVBI6Ewd6oGkNQpwp/Gi/5yG9O6GDsph5Ixa+Yv2LxpszYvbdKoEc67oCPOa99Be99bRaJnrsXOuYazOGh7zBY88dijWMSYHlkcuZc53k28Jk80iI7GpT174cqrr0LzVq3lXVmjn/I9WzGd3Svc+6uwRUAMvNK/f3+kpB5Bz159EV6jpr2F5ZpuGr5x8aKF8BFL6n+vvoprh91kbz89rEzKyQ0P3DUcX303Gd2790KduvW4Vd31NatWyrQCTzz0EB5+8hk4dPwh0/bfYDgb0GtKTUnBQTEAWfzrHxCEwKBgVA0NsfeoPFRYCfT+229j/8EDOK9dB1v4q7mkwj9m82YsXDBfW/188tGH/1j4E6pP6lB6E/MX/qWtiWrWsobM5SUZ3X/zpg1a3LNZrI/Dhw+JVWEEv8Fw1pB8GVy1Kuo1bIzGzVuidlRUpRT+pMJKopYtW6p1zp7D9J6tQh03rF+3DosXL0DN8HBMnTwZl/a/wi5r/WdQrbCsf8HcudqCiNHFPL28VSnQTae1ESTWRXj1mvhhxgz0uKQb/hZvgF3SDQbDmcfpeWsnUKGileufDhVSAVD4duvRU5txMng7K8YoqilyneXuzZs2Reu27bVs9d98f56P12vWsgX8/fyRlZllCX+ryBZ+fn7o238ALu3XHxd1vhhxiQm4cdgw7Nm5S8tlue+/UUAGg+H0qcxC35UK6wFEN2qETh06YP/+RB07hEU/lMgMBM9AHQuXLMHfq8US5/p/kRgovHmOxs1a4KILOiIhIU5j/xJxAFQJsMMIBX2DRk3QpeslSEhKxBOPPip72F6ASYsGg+EsUCEVgFO7v/zKqzoY0/Jli7Bn9y4tkmHYtRat2mi7/GlTp8peIoQppf8hPCfhQFSfjB2L5qJgNm1chz9m/45UHePFakXgJKpefUTUqoO/li5FTnaOKgZjjRgMhrNBhfUAaHU3adESL7/0klji7lrpG7N5kxYHhYZW0/K/1atXFxrh/xQKb5YpUrGEhIZh6vfT0Fk8gdjYPZjx0w9Y/NcCJMTH62iLefl5yMrM1uD0FPnsq8DjCwe3MxgMhjNIhW0Gyo4fTiZ+Pg5PPTsSaYwbIB6Bl7cXEhPicdXAgfh0/Bel1hzTKsvnAFQ5+HrC53jz7Xd0UDhtQywKhz2NqQRYMXzdlUPwwdhxehy/gAkIYzAYzjQVWgGodW0XsaxYuhgjn34Gazdu0KaZkbVr48svv0TLNufRjC8VAcxWR+xCz1ZBckqkZ2Rgzq8zNOpXbFwcDiUnI6JGDfS45BLcds+92mTUiSkGMhgMZ5oKqwCKg0UvMZs2ISE+Dued3wFh4eH2lrKH3gEjnlHomw5gBoPhXKBSKQA+qpa329a2KXYxGAyVmcppimqxkD1vMBgMlZRK5QEYDAaD4SimMNpgMBgqKUYBGAwGQyXFKACDwWCopBgFYDAYDJUUowAMBoOhkmIUgMFgMFRSKpQC2LBhA1atWmUvnZy5c+ciNjbWXjIYDMfy119/Yfv27fbSqYmJicGSJdZQ6KfC5L9zg3KlAJKSkvDAAw8UmUaMGKFxPcnixYs1YR3L8OHDcfDgQXvJ4rvvvsO2bdvsJYOhcsL8c8899xSZEhMTddtPP/2EdevW6TzZvHkzBg0aZC9ZdOnSBYcPH9Z5Gl8zZ87UeVdM/jt3KVcKoGrVqrjjjjsKp9tvvx2//PILPD097T2KZ8uWLToOj8FgKArzj6vw37p1K5KTk+2txxMfH48ffvihcDp06JC95cSY/HfuUq4UAOP7Nm3atHBiomrVqpW99cQwkTqtFIPBcBQOTuiap4KCguwtxcOhzg8cOFA4MQ/SK+jVqxdGjRpl71UUk//OXcp1HcCUKVPQv39/e+nE7N69W6djYZHRzz//bBKnwXACVqxYUSSP1K1bF7fddlvhVKNGDfUEZs+ejaeeekr3ORaT/85dyq0CYIL67bffcNNNN9lrimf+/Pnw8fFRZXEsa9aswbx583DkyBF7jcFgcGXTpk1YuHChHd7UyjOuCuBU5fgm/53jcDC48kZGRoajZ8+ejrlz59prLMaMGeN4/fXX7SWLvn37OiQROs477zzHli1b7LUOx/Dhwx1//PGHvWQwVE5atGhhz1kMGTLEIUJf5x977DHHtGnTdJ7k5uY69u7de9xUUFCg22NjYwuPdWLy37lNufMAMjMzIYkUN998M7p3726vLZ63334bkZGRuPjiizF27Fhcf/31J63gMhgMJ4aNLerUqaPFPQsWLNB5Ts5odrTof//9d50nJv+d+5QrBcAyw27dumHYsGE6nQzxBrRs8t1339VlsUDw/PPPo0+fPhAPQtcZDJUdNvkcOnRo4bR06VJ7y4lhmf2nn35apPUQJ+Y1Z6sgk//KB+VKAbAske2Hr7vuOnvNiWnYsKE2cfP19bXXQCuMZ8yYAX9/f3uNwVC5Ydv+999/v3BavXo1GjVqZG89MT169DiuT85ll11mbzX5r7xQrhRAu3btUK9ePXvp5LB4qLiEVr16dXvOYDCEhYWhWrVqRSYPDw9764lh3mK/HNfJNb+Z/Fc+KLetgIojIiJCyxxLQuPGjTXRGgyG4omOjlaFcCzNmjVTT+FYD4Atflq3bm3vdXJM/js3MCEhDQaDoZJSoTwAg8FgMJQcowAMBoOhkmIUgMFgMFRSjAIwGAyGSopRAAaDwVBJqZQKgOOTE/YsLmlQitOJdmQwVCZSUlKQkJDAccXw1Vdf2WtPzRdffGHPGc4WFboZKLu1O4eojYqKwrhx43S+ZcuWWL9+PZ5++mm0bdsWV111FbKysvTXFXZZd0YY++abb7TX5HPPPafLZxoqH3ar58iJHTt2xOOPP65juTvh+CwfffQRQkJC8Nhjj5WoN6fBcLrcfffdhQYU888ll1yiI3265ifOE+a377//XucJ0y6HjLjmmmt0mfEHmKfONLyPBx980F46SpUqVfDGG2/oPPP+Cy+8gLVr12LAgAG46667dH2FgwqgsuEcAVGUg2Py5Mk6XxxNmjRxrF692nHppZc62rRp43j22WftLWeWlStXOi666CLHvn37dCRUEfSOoUOH2lsdjgULFjguv/xyR2Jioo7G2KlTJ0dSUpK91WAoW5iHmDc4Wuixo4u68tZbb2nafeihhzRPBQQE2FvOLHl5eY6dO3cWmX7++WdH79697T0cjiuuuMIxdepUR1pamkMUm2P06NH2lopFhfUA5syZg5dfflkjGHFMcxHgquHloxbrAXA/+cj20Raff/45du3apfNn0wO44YYbcP/99+OCCy6w1wA9e/bExx9/rJZ+v379dLTFWrVq6bavv/5a7/vJJ5/UZYOhNOAIvGKEaHEoA8EwP917770aFaw4D4Ajgy5atEjnCb1YRg9jOFdytjyA4rj11ltVDjAvsWh4woQJmr+c0Ov+448/Ktw4RuW6DoDFNoxRWhwUkCwWYZmkWPI6T+F/IqgAONAc3T3nNH36dB3itm/fvnjllVfsPc88fEZGYnKFw14sW7ZM3wFD8zmFPxHrBT/++KO9ZDCUnD179qCgoMBeKgqFIvMRwz/SuOL8wIED7a3HQwXA4R6c+emll17SodwffvhhzVOxsbH2nmcXjojKoS14T4TB8I+NNMhRiDnURUWj3CoAfjQKRZbt0zo/EQxyTYuFifrVV19Fly5dIC6fvbUo1O7nn3++WjEczTA0NFTjEFNxsMz9bHHhhRdi5syZ9hI043A8dlpjzLC1a9e2t1gEBgZqxZzBcDo8++yzmqc4dPOJlABhnqLlvn//fs1PzzzzjL3leJiPmKeaN2+ueZXl7yxPZ3pmLIFzgQ8++AB33nlnYVwDes/HjinGZWdpQEWi3CoACrikpCTk5eWdUKCT8ePHq3XMsclZOcrwdvXr17e3HoXBLmrWrKmWCl1BVnbRYmHRCi3sswkrsidNmqT3xMxGV5xjtwcEBOjzl2T0RoPhVFCwEwo6esTFQWOK8QBYPMqB4pifXnzxRXtrUSj0WYxy+eWXa5pl/mOQGGfDinMBetA08FzjixSXpygfWNRV4dCagHKKJELHk08+6UhOTrbXFGXOnDlamRMXF+do2bKlQxK2ri9pJbArrHwVpWMvnXkYdm/VqlWOpUuXOrKzs/W5p0+frpVU4iHYe1lwu1hd9pLBUDKYP0aMGOH47bff7DVFyc/P14rSJUuWaN5hyEhS0krgY0lISLDnzh6ffPKJY+TIkfaSxSOPPOL49ddf7SULVgQzv1U0KmwlMF1UVp4yKAUrrFge+cQTT+DPP//UCp1jK4GdsBnYrFmz7KWj0Au48sorz0rFKivPOAQvK90I3XNWCEsiRXh4uI69zqZ4HNudsO6CTWCPrdQ2GP4Nohy0WJReKK1klpMzOBOLHIurBCYsqqX1Xxxi0KgXf7ag6GOMEVF4ReIUsAHJzz//jLfeesteAy3q4roKN4Q1FUBFhBp848aN9pLFtm3b9PefeACTJk06a81AxW3WpnP0AggD33PZiSg5xzXXXONIT093xMfHOySxaoBug6G0YNqitexKZmamprN/6gGwmfXZhE0/b7nlFnupKD179nTMmzdPvZ5333230NupaFTYnsCs0afV7EqDBg3sufLFfffdpxVmrJ9gqwtaX6IE7K3Qpmv0YtjEjhVs77333nEVwwbDv4ENJG6//XZ7yYLhHstzOlu3bh3EkLKXiiJKTXsqszUh6zzY6qkiUqF7Ap8IunIUpqzgZSsFNvE6FWwatn37do18ZDAYjsKWaBSSYv3jtttu04YXJYHClcUthrNHpVQABoPBYDCjgRoMBkOlxSgAg8FgqKQYBWAwGAyVFKMADAaDoZJSoRUA67fZZPJE0+nUf3OwKDYbKylsQmYwVDTy8/OLzUucuO10OJ08YgIylQ0VuhUQhfbzzz9vLxWFTTo5to5zaFrCtvRpaWn2kjXeEBMph1zmGCZs9+zc/0wHu2Cvyddee02vw/thr0v2AnZiAsIYzgRMW86AMMeycuVK7N27116Cjr/lOqQyx9Jhz1tnHxbXPHKmAzLxesxPHFGXeYZ5lyMEODEBYSo4r776qmP8+PH20vHk5OQ4RMA6rr/+esett96q4+0wmMWJKMtgF7t379brMyAM+eOPP7S3rxMTEMZwLtCsWTN7rnjefPNNR/PmzTU/cYqKirK3FE9ZBmQSZeMYM2aM9q4Xhab5iWNtOaksAWEqjQKYOXOmQ7S9veRw3HnnnY5Zs2bZS8cjlovjvvvuc+zfv1+nl156qYgC4IBZTJDOiYnUdXtpdnP/7LPPHKNGjbKXLLp37144uF3fvn0LlQOZOHHicfsbDKXNiy++aM851Pjo3LmzvXQ84rmqEI+JiSnMU40bN7a3WgMYuuYnTnXr1rW3lu5QLLyHfv362UsWHPbhxhtv1PlFixY5hg8frvNOLrjgAh0Oo6JRrusAThYQ5liWL19exHXlWPrHBllxwl6/jKrFweNWrFihk6trS85ksAu6zQxGId9LlzmAFp+bQWFMQBhDaXKygDDH4hoAXrzUEw61wqJU8aR1WPPU1NTCPOVaZ3AmAzIVF2CJQ1o46xhMQJhywKkCwjDRUTA6J5bpsXzfucxhIFj2x3knDHDBEHccH5wBKzgm+LZt23Ry3c/JmQp2wQAdTJD85eiLHJmQdRMMVmMCwhhKC7GwTxgQhuX3zrzjnCjAnfOMscGRdDnPvOaEeaFPnz465s7VV1+twteZp469xpkKyMSQsCz7F6/DXgOVB8nJyTrPeAiVJSBMua0EZquAJk2a6DyHPaa17sqoUaM0FnBJ4Mf/9ttvdUhlCnBnaDhX3n//fa0E5lgnxFkJzChCXE+hy4mxh7lPaVYC81lZ+ca4wKzcZYUvh7mmEmBlNofnZSZxhQPhlfT5DQZCK52Bh4KDg9XAYrp2wrTEPFUSaKxwYEJOjGbHClbXBgtOmFf+/vtvnXetBGbwFQY7cuYpDobIOL2lWQk8efJkHTSxd+/eWtHbvn17DXnJ52RDDuapVq1a2XtDG1hQCfJeKhLluhUQPxiF4yOPPHLScbppqXA/WidMULQugoKC7K1FYUJkk7biYIZg4iwJzECMQ1AasGiJFlCHDh3sNdAoTDw/Yx4wRisziBO60507d9ZiL4OhpLAY55133lEDiFb7yaC3TIuYaY2R9E5U/EMr39UjcMXd3b3EQdYzMzNVAFM5lRYHDx7Upt2UB4wH0KlTJ23J9Oijj6JHjx5FDEEqBOY/Fq9WJCp0M1A+Gpt6MXAKXVsmUgrmHTt2aDi7d999V4uBXGHTLza5PJbimo3yXGci2EXXrl21TsLVLaXXwnqMkSNHmoAwhjMGw0YyMAxp3LixGlSsW0tISNCRcgcPHqzbnNDwokAtjmObjZIzEZCJI5fynl2bfbIYmffDJqomIEwFgc0jGSilOL766isN/VZSnM08S0pptgISV1UDV7ClBGGIS3FZHeI+67IJCGM4UzBQyoYNG+ylo4jn7GjXrt0Jw7MWx+nkkdJsBcR8whZJzgBRzCti3RfJMyYgTAWArWTo1tLid4UtERYtWoTo6Gh7zbkNy1AZApLBtRn8Zfjw4WqdtG7dWrebgDCGM0W9evUggrFIBarIES3LZ3EPPYJzHRY7scURO1OySIcV1Axy75pnWEfAOjYTEKacw4T5v//9Tyt36L6J9tfYuv/9739x7bXX2nudGlb6+vj4aJl7STDBLgwVEdaPsZ5g2rRpusxWOmz9dtFFF2nxDOsDSsrp5BETkKlsqPAKwGAwGAzFY0YDNRgMhkqKUQAGg8FQSTEKwGAwGCopRgEYDAZDJcUoAIPBYKikGAVwhmGPxpKOtmgwGAxliVEAZxiOnTJp4kRtO20wVGQ4dg/H8DGcuxgFcIbhuP3de/bE+LFjSzVkpMFwLkFP9/Nx47TjpeHcxXQEO0ssXbIESxYv1gHeLh84EF5eXvYWg6H8wuLN5cuWadq++tpriwQqMpx7GAVwFqES2BoTI1/BDT3EKzCZxVCeYXHPr7/8gr179hjhX04wCuAsQyXAGASE8QY6XHCBjpNuMJQn4uLisGTRIjVmLuzUyQj/coJRAOcAVAKEAV5Wr1qFvpddBj8/P11nMJzLOIt8XI2YjhdeqPOGcx9jap4DODMM4/hS+P86Y4apIDac87DI54dp09RwoeA3wr/8YRTAOQIzDq0oBqa+8qqrkC3zM3/5RZvSGQznGrt27lRDpZ8YLDRciBH+5Q9TBHSOwUq0Nm3bahkqm9LN/PVX9O3XT0NY/hvoqjM8X2J8PA4dOgRfU8RUKcgSK71W7dqIjIrSwOz/trUZ09GC+fM1/bC+iqEgWelrhH/5xCiAcwxmsB++/x4XXnSRKgEu/zZzps63at36H1UQU5H8JoqE/Q9KQwgYyhcsqkkUQc0g7m6y3K17d2vDacLz0CvtaFfyOit+B115pWm4UE4xCuAc5FglQOhyM9A8Xe7TqSCm8Gcl3aV9+5pMasDfa9ZoUePpWuya/lauRL/+/TX9GeFfMTAK4ByFSmD6tGmF1hbRdtYzZqBd+/aoV7++rjsVbGHUuk0b06rIUMj8efPQomXLEhUrMh3+Lh5oSGhoYRNlGhUsBho4eLAR/uUc8/XOUZixmMGWLl6s1hahEKfFxUo3uuLMnKdi3759RvgbinBeu3bYFxtrL50YjlfFcavOF8FPj4FpkkbICvEojfCvGJgveA7jqgSY8ZzrWEnMTHmqQeW4rUGDBvaSwWARHBxcaFScCDZDnj1rFq4ZOrTQU2Aa/H7KFK1DMMK/YmC+4jmOUwnQ4ncqAcJMycz518KFWq57Itg222AoKfQqmdbYDPnKIUMKGww4hT+bKBuPsuJgFEA5gEqAHcSYAV2VADMnK4Up5L+fOrXINoPhZBSXVlyLfOhlOqFSMMK/YmIUQDmBGY8Z8FglQJo0baqKgBXEbK1xxsjJtmdKmZwcwLVtQl4u8v5eZS+4cDY7yeXlIX/DWnuheBzJh5C//m/kr12t9895R7Y1ZAIpiNuHzNdftJcsMl97Ho5DB+0lF/Lz5QCZSoljBTm9SHqTrkU+hMKfLdKM8K+YmFZA5QwK/6miBIYUkyGZWXVcFtmna7duSEtLQ3xcnCqI0saRegTp9/8fAt74CG4hoSLgViL7k/ckRblZk4eHNYn34nvLnfBo3so+Esj+ejwcSUlw2ALNzT8APjfeArfAIF2mUPRs1RZefS/X5bzVK+Tc7yLg4y90mRTs24vMl0ci4P3x9hqLzNEjURC7W68LN5k8PXXeI7IufB943N7r35O3Rp73U7mnDyfYa44nZ8ok5C1bRFdN34XjQBK8+g+Cd//Buj1/+1a532cQOPYbXSZpt14H/+degbvcrys5P01FgexfWs/ADoc0GtjT/Kfp07VV0LHpxCn8XZsjGyoWxgMoZ1DoU/gX5wmwqIitNRo1aaKuPIX/v0Jsg+yxHyFt+I3I31rM2ESy3SHWOfFo2gK+d9wPR0Y6fIbdCr8Rj8Pvvkfgd8/Dus0Vj7rR8GjWAp5t2sPzvPORt3wJHAcP2FsFRwEcueIF2DhSU1iZYS/ZyHZH9tF9nPhQ2TRtKQK0HvweehJ+9z8Kv3sfhs/N/2fvUTpQAcLn5PUr3leJMH/tPfiPehP+L7wO9waNVSnlb1yHrLdfQc63RxUavYmcqZPUys+dPRO5M3/S91tIgbzrUva42Jzz22++Qa8+fYoX/tOmGeFfwTEKoBziWhxU3FhBzLB05Tds2GCv+WfQ8s5bvhheHTsjd8YP9lobWvnEllFuIgzpCZD89WuRu3QR8lYsFUt5hRbhuOLZuRu8Lh0Ar56XwqtrdxV68Pa2twq03LXPqoUjPR2OIylIv+tmpN9zC9JHDEfm26/aW4viXjNC/rjBkXLYugdRLnkrlqFg7x57j+Ip2LUDeUv/Qt5f85G7cJ5OBbtPUpyWmQE3sewLkhKQv2ObvKvlyP19Bgr27LJ3EESIOrIyVSk60lL1GejluNeJgudF3eDRkuXs1nM65DsWiBL07NQVBckHkf3tl3AcclGK8kzOd11a0Fu8/oYbtFXQsbD3uRnWueJjFEA5xakE5syapdbasbCCmK04ov9FM9A8EYKe3XvD85JeyNu03hLUci0Ky0JB51QEgkOEouLjo2XWDpbls+yaxTAnwJFhHeMs/imEAs+JnNc9Siz6x5+H36Mjxbt4Aj5Db7I3Ho+ek9Y570EEq1rOLIY5CTk/TEb2d18hZ7oo1Z+mWtNf8+ytx+MWEIiC/UnIeOw+ZL76PHK++QJ5LON3sdKz3n0d6XeK0rr3VqQ/dBccSYladKWIl6OT/ZiebdvD9/Z7dXIPDYNHwyZwCwu3Njpxedf/FnbqYhFQcc052XmwWbNmRvhXAkwdQDmHbvyf8+aVSZf8jEfuhvf1/4F77SgRdPdqeXvB3l3I/mqcVsDS+g3434ciqKxKQ1Z2Zr71MgLHfWsJKxGGBYkJWlxSWAcgyS13wVxWZug8reKcX39Uoe7R+jzdhXUAHi1aw/uygbrMOoP8zRvh1ae/LGSrNV0QF6tWd+CnE3UfVzJeeAKerdvBe9DV1jUOH0JBfBzcI2qJlxJm7/Xvcci9uFG5sa7jBGS+8iw8u1wCry5Hx99hEVDurF/kOdKQv2s7Asd8bW+Rcx7cj3RRKr633wfPCzrZa606gPwtm+D38NP2mrLBGZvCDO5WOTAKoAJQVuOyZDw5Ah6t2sK9WnUV2izHdsIilvQHbkfAW5/ArWqIrstftwaZb44WQVtbt7Pog5ayR5Nm8L33Ed2HiiN70gTk/vG7FgW5+ftLKnSHR3RDeHbsrLvQoqYy8O53hS7nrVxqlYl7eMLN1w+QY9xDQtUrcB7jSuaLT6HgQJLu7zhyWJWAe81a8L7mRni2aWfvVRQW/eRvi5GHyLOUhkwe9RtqMZUr2V98pgqF+zj3o1ekyy6/nhd2hlf3Psh86SlA3gGvz5ZDVIpuNSO0Ijh/6xZkvvaCKICjSox1LrmL5mtRlu/9j8G9ek1dnzN9slYa+z34pC6XBUb4Vz6MAqggqBJYvBiDSrGLPi3V7M8/1fJ5Frl4tGxjbxE5xzJ5tgJ6+1O4ValqrRThnidKgFaxW3AV9Qzcgo4vX2ZRUfpd/ymiPFyhAqCg1lZALMah4KRwtYugXOcd+daye7XwwqKmgr271Tuh8mG9BBXYyax0QgWTz2IteXduWtTiJgqmLrx6X2btYJM7Z6bcv3gvfMeynxt/i0xWyyePxk3hXiNClNcyFOzcztOpQmJRFFskUcHRM2KRE1tAERarZTz/uBZz5S1brHUSvvc8pJXoVAA8T2m2ZHKFzYcTExON8K9kGAVQgSgLJXAiChUAhbh/API3bxBhLILaFsiFwlqSl0N/ZRJL36vLJZYCuPu/8HtGvIXQMGsfUR606ikg2RaeFaRUAhkjH7XOdTJEEPs99JQqk4KkxKLXtycHr19gWece9RvAvW7JBtM7FXkrliB33mwtrvG6uKe99gRQQbI/Q3aWpdTknjyatxYrv4ZupjdAheX7f/foMs9bkBgPn2uHqaLI3yEewIgndFtpwnTDfgCsEzBULowCqGCcMSUgAjbnhynwvmII8mM2adGIWrm8JlvxqDVszbt5WPNu/oFq0ZKMJ+7XVi9aZEKLWwS/zzU3wqtnX+TMmKbFL6w3sJqHioLIykLG0w9pMRSFJCtW/Z99WesnoOf3QNa7r2nnKj2f8/r2dNRS94BXjz7FFh2dLmwllDF6JLz7D9Iy+oBX34MbFdoJYAVw9uefiKfipfdSEL9PFMdFhRXaLBpjvUehR+UC61dY7+HsG1FalFXxoaF8YBRABYSZutxEaaKFXgLB40hP0yagAe+M0eKltFuHwn+kKIBSsuT/CbTKC3Zt17L6jOceg/flQ+DZ/gJ766nJ+uwDbf10shZNZQnTCQcaNCN7Vl7MV6+AsPkeA3U7K/XOaUoqeJx2ir2/m7ePVYxyFqGlTi+GLXfYxNPdbg1VYsSr4XOcDdh/xAh/g/nyFRRnwJgzOjZQGaLDRQy7VSt2ifd1N8MjMkrnzxasz+D9pD96LzzadYB7vWh7y2lwloQve5E3b9HCCP9KjikCqsBwdMeyGgvI4AI9kZN0djsR2lJJFNtxneDOACz+ycnOLnFkOUPFxKh/g+Hf8g+EP2Eb/7Mh/EmqGAehYaXXKc5QPjEKwGCohDAwvMFgFIDBUAlhEVBxg8AZKhdGARgMBkMlxSiACgxHDI2Pj7eXDIajFBcS0lD5MAqgAsMhoQ8dPKhtvg0GJxxBtsG/GCbcUHEwCqCCw4hOO7Zvt5cMBmD7tm1o3KSJvWSozBgFUMGpWbMmNqxfr5V+BgOLfrZt3XpcPGlD5cR0BKsEOIN7t2vfHlF165ren5UU9gpftWqVjvppFICBGAVQSaASiImJwc4dO9QKZBlw7Tp14O0ai9dQ4WBP8MOHD2Pfvn36zVu1bm0MAEMhRgFUUpzDRBgqNmHVqiEgIMBY/IZiMQrAYDAYKinGFzQYDIZKilEABoPBUEkxCsBgMBgqKUYBGAwGQyXFKACDwWCopBgFYDAYDJUUowAMBoOhkmIUgMFgMFRSjAIwGAyGSopRAAaDwVApAf4fIyfvJbaup1wAAAAASUVORK5CYII=)"
      ],
      "metadata": {
        "id": "IKFLKbDhfBb7"
      },
      "id": "IKFLKbDhfBb7"
    },
    {
      "cell_type": "markdown",
      "id": "412b64b1",
      "metadata": {
        "id": "412b64b1"
      },
      "source": [
        "## 변수명 바꾸기"
      ]
    },
    {
      "cell_type": "markdown",
      "id": "bd15a1c9",
      "metadata": {
        "id": "bd15a1c9"
      },
      "source": [
        "#### 1. 데이터 프레임 만들기"
      ]
    },
    {
      "cell_type": "code",
      "execution_count": null,
      "id": "b1e812e6",
      "metadata": {
        "id": "b1e812e6"
      },
      "outputs": [],
      "source": [
        "df_raw = pd.DataFrame({'var1' : [1, 2, 1],\n",
        "                       'var2' : [2, 3, 2]})\n",
        "df_raw"
      ]
    },
    {
      "cell_type": "markdown",
      "id": "9b9cca08",
      "metadata": {
        "id": "9b9cca08"
      },
      "source": [
        "#### 2. 데이터 프레임 복사본 만들기\n",
        "\n"
      ]
    },
    {
      "cell_type": "code",
      "execution_count": null,
      "id": "d8978669",
      "metadata": {
        "lines_to_next_cell": 0,
        "id": "d8978669"
      },
      "outputs": [],
      "source": [
        "df_new = df_raw.copy()  # 복사본 만들기\n",
        "df_new                  # 출력 "
      ]
    },
    {
      "cell_type": "markdown",
      "id": "ebe976a9",
      "metadata": {
        "id": "ebe976a9"
      },
      "source": [
        "#### 3. 변수명 바꾸기"
      ]
    },
    {
      "cell_type": "code",
      "execution_count": null,
      "id": "c471f082",
      "metadata": {
        "id": "c471f082"
      },
      "outputs": [],
      "source": [
        "df_new = df_new.rename(columns = {'var2' : 'v2'})  # var2를 v2로 수정\n",
        "df_new"
      ]
    },
    {
      "cell_type": "code",
      "execution_count": null,
      "id": "73018f60",
      "metadata": {
        "lines_to_next_cell": 0,
        "id": "73018f60"
      },
      "outputs": [],
      "source": [
        "df_raw"
      ]
    },
    {
      "cell_type": "markdown",
      "id": "e2ef630a",
      "metadata": {
        "id": "e2ef630a"
      },
      "source": [
        "## 파생변수 만들기"
      ]
    },
    {
      "cell_type": "markdown",
      "source": [
        "**파생 변수(derivated variable)**: 기존의 변수를 조합하여 만든 변수\n",
        "\n",
        "![image.png](data:image/png;base64,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)"
      ],
      "metadata": {
        "id": "YZaWNc_0fY8Y"
      },
      "id": "YZaWNc_0fY8Y"
    },
    {
      "cell_type": "markdown",
      "id": "dae9d6dc",
      "metadata": {
        "id": "dae9d6dc"
      },
      "source": [
        "### 변수 조합해 파생변수 만들기"
      ]
    },
    {
      "cell_type": "code",
      "execution_count": null,
      "id": "f95b0650",
      "metadata": {
        "lines_to_next_cell": 0,
        "id": "f95b0650"
      },
      "outputs": [],
      "source": [
        "df = pd.DataFrame({'var1' : [4, 3, 8],\n",
        "                   'var2' : [2, 6, 1]})\n",
        "df"
      ]
    },
    {
      "cell_type": "code",
      "execution_count": null,
      "id": "54f79965",
      "metadata": {
        "lines_to_next_cell": 0,
        "id": "54f79965"
      },
      "outputs": [],
      "source": [
        "# var_sum 파생변수 만들기\n",
        "df['var_sum'] = df['var1'] + df['var2']  \n",
        "df"
      ]
    },
    {
      "cell_type": "code",
      "execution_count": null,
      "id": "d5aec89d",
      "metadata": {
        "id": "d5aec89d"
      },
      "outputs": [],
      "source": [
        "# var_mean 파생변수 만들기\n",
        "df['var_mean'] = (df['var1'] + df['var2']) / 2  \n",
        "df"
      ]
    },
    {
      "cell_type": "markdown",
      "id": "7ee6bbdc",
      "metadata": {
        "id": "7ee6bbdc"
      },
      "source": [
        "### mpg 통합 연비 변수 만들기\n"
      ]
    },
    {
      "cell_type": "code",
      "execution_count": null,
      "id": "2e25e5f5",
      "metadata": {
        "lines_to_next_cell": 0,
        "id": "2e25e5f5"
      },
      "outputs": [],
      "source": [
        "mpg['total'] = (mpg['cty'] + mpg['hwy']) / 2\n",
        "mpg.head()"
      ]
    },
    {
      "cell_type": "code",
      "execution_count": null,
      "id": "bb6c6467",
      "metadata": {
        "lines_to_next_cell": 0,
        "id": "bb6c6467"
      },
      "outputs": [],
      "source": [
        "# 통합 연비 변수 평균\n",
        "\n",
        "sum(mpg['total']) / len(mpg)"
      ]
    },
    {
      "cell_type": "code",
      "execution_count": null,
      "id": "dcd6ab97",
      "metadata": {
        "id": "dcd6ab97"
      },
      "outputs": [],
      "source": [
        "# 통합 연비 변수 평균: Series 객체의 mean() 메서드 사용\n",
        "\n",
        "mpg['total'].mean()  "
      ]
    },
    {
      "cell_type": "markdown",
      "id": "766328a3",
      "metadata": {
        "id": "766328a3"
      },
      "source": [
        "### 조건문을 활용해 파생변수 만들기"
      ]
    },
    {
      "cell_type": "markdown",
      "id": "d2112ec8",
      "metadata": {
        "id": "d2112ec8"
      },
      "source": [
        "#### 1. 기준값 정하기"
      ]
    },
    {
      "cell_type": "code",
      "execution_count": null,
      "id": "cffbeb5d",
      "metadata": {
        "lines_to_next_cell": 0,
        "id": "cffbeb5d"
      },
      "outputs": [],
      "source": [
        "mpg['total'].describe()  # 요약 통계량 출력"
      ]
    },
    {
      "cell_type": "code",
      "execution_count": null,
      "id": "068b1c96",
      "metadata": {
        "name": "eval F",
        "id": "068b1c96"
      },
      "outputs": [],
      "source": [
        "# 히스토그램 그리기\n",
        "mpg['total'].plot.hist()"
      ]
    },
    {
      "cell_type": "markdown",
      "id": "c0af4967",
      "metadata": {
        "id": "c0af4967"
      },
      "source": [
        "#### 2. 합격 판정 변수 만들기"
      ]
    },
    {
      "cell_type": "code",
      "execution_count": null,
      "id": "c804243d",
      "metadata": {
        "lines_to_next_cell": 0,
        "id": "c804243d"
      },
      "outputs": [],
      "source": [
        "import numpy as np"
      ]
    },
    {
      "cell_type": "code",
      "execution_count": null,
      "id": "2f3e2c7c",
      "metadata": {
        "lines_to_next_cell": 0,
        "id": "2f3e2c7c"
      },
      "outputs": [],
      "source": [
        "# 20 이상이면 pass, 그렇지 않으면 fail 부여\n",
        "mpg['test'] = np.where(mpg['total'] >= 20, 'pass', 'fail')\n",
        "mpg.head()"
      ]
    },
    {
      "cell_type": "markdown",
      "id": "e69930ce",
      "metadata": {
        "id": "e69930ce"
      },
      "source": [
        "#### 3. 빈도표(frequency)로 합격 판정 자동차 수 살펴보기"
      ]
    },
    {
      "cell_type": "code",
      "execution_count": null,
      "id": "032fe9d4",
      "metadata": {
        "lines_to_next_cell": 0,
        "id": "032fe9d4"
      },
      "outputs": [],
      "source": [
        "mpg['test'].value_counts()  # 연비 합격 빈도표 만들기"
      ]
    },
    {
      "cell_type": "markdown",
      "id": "cb86739e",
      "metadata": {
        "id": "cb86739e"
      },
      "source": [
        "#### 4. 막대 그래프로 빈도 표현하기"
      ]
    },
    {
      "cell_type": "code",
      "execution_count": null,
      "id": "c793dc91",
      "metadata": {
        "lines_to_next_cell": 0,
        "id": "c793dc91"
      },
      "outputs": [],
      "source": [
        "count_test = mpg['test'].value_counts()  # 연비 합격 빈도표를 변수에 할당"
      ]
    },
    {
      "cell_type": "code",
      "execution_count": null,
      "id": "fa827880",
      "metadata": {
        "eval": false,
        "id": "fa827880"
      },
      "outputs": [],
      "source": [
        "count_test.plot.bar()  # 연비 합격 빈도 막대 그래프 만들기"
      ]
    },
    {
      "cell_type": "markdown",
      "id": "59e32c3c",
      "metadata": {
        "id": "59e32c3c"
      },
      "source": [
        "#### 축 이름 회전하기"
      ]
    },
    {
      "cell_type": "code",
      "execution_count": null,
      "id": "616bb7af",
      "metadata": {
        "eval": false,
        "id": "616bb7af"
      },
      "outputs": [],
      "source": [
        "count_test.plot.bar(rot = 0)  # 축 이름 수평으로 만들기"
      ]
    },
    {
      "cell_type": "markdown",
      "id": "12d499eb",
      "metadata": {
        "id": "12d499eb"
      },
      "source": [
        "### 중첩 조건문 활용하기\n"
      ]
    },
    {
      "cell_type": "markdown",
      "id": "5da18289",
      "metadata": {
        "id": "5da18289"
      },
      "source": [
        "#### 1. 연비 등급 변수 만들기\n",
        "\n"
      ]
    },
    {
      "cell_type": "code",
      "execution_count": null,
      "id": "f38d9925",
      "metadata": {
        "lines_to_next_cell": 0,
        "id": "f38d9925"
      },
      "outputs": [],
      "source": [
        "# total 기준으로 A, B, C 등급 부여\n",
        "mpg['grade'] = np.where(mpg['total'] >= 30, 'A',\n",
        "               np.where(mpg['total'] >= 20, 'B', 'C'))\n",
        "\n",
        "# 데이터 확인\n",
        "mpg.head()"
      ]
    },
    {
      "cell_type": "markdown",
      "id": "802d289c",
      "metadata": {
        "id": "802d289c"
      },
      "source": [
        "#### 2. 빈도표와 막대 그래프로 연비 등급 살펴보기\n",
        "\n"
      ]
    },
    {
      "cell_type": "code",
      "execution_count": null,
      "id": "f50654e8",
      "metadata": {
        "lines_to_next_cell": 0,
        "id": "f50654e8"
      },
      "outputs": [],
      "source": [
        "count_grade = mpg['grade'].value_counts()  # 등급 빈도표 만들기\n",
        "count_grade"
      ]
    },
    {
      "cell_type": "code",
      "execution_count": null,
      "id": "7f502c35",
      "metadata": {
        "eval": false,
        "id": "7f502c35"
      },
      "outputs": [],
      "source": [
        "count_grade.plot.bar(rot = 0)  # 등급 빈도 막대 그래프 만들기"
      ]
    },
    {
      "cell_type": "markdown",
      "id": "6b826f69",
      "metadata": {
        "id": "6b826f69"
      },
      "source": [
        "#### 알파벳순으로 막대 정렬하기\n",
        "\n",
        "\n",
        "\n"
      ]
    },
    {
      "cell_type": "code",
      "execution_count": null,
      "id": "a4e9edfe",
      "metadata": {
        "lines_to_next_cell": 0,
        "id": "a4e9edfe"
      },
      "outputs": [],
      "source": [
        "# 등급 빈도표 알파벳순 정렬\n",
        "count_grade = mpg['grade'].value_counts().sort_index()\n",
        "count_grade"
      ]
    },
    {
      "cell_type": "code",
      "execution_count": null,
      "id": "b914b345",
      "metadata": {
        "eval": false,
        "id": "b914b345"
      },
      "outputs": [],
      "source": [
        "# 등급 빈도 막대 그래프 만들기\n",
        "count_grade.plot.bar(rot = 0)"
      ]
    },
    {
      "cell_type": "markdown",
      "id": "d8cd29ec",
      "metadata": {
        "id": "d8cd29ec"
      },
      "source": [
        "#### [꿀팁] 메서드 체이닝"
      ]
    },
    {
      "cell_type": "markdown",
      "source": [
        "**메서드 체이닝(method chaining):** 점(.)을 이용해 메서드를 계속 이어서 작성하는 방법"
      ],
      "metadata": {
        "id": "CEjrBUsSqNxO"
      },
      "id": "CEjrBUsSqNxO"
    },
    {
      "cell_type": "code",
      "execution_count": null,
      "id": "c9cdf560",
      "metadata": {
        "eva": false,
        "lines_to_next_cell": 2,
        "id": "c9cdf560"
      },
      "outputs": [],
      "source": [
        "# 출력 결과를 변수에 할당하는 방법\n",
        "df = mpg['grade']\n",
        "df = df.value_counts()\n",
        "df = df.sort_index()"
      ]
    },
    {
      "cell_type": "code",
      "execution_count": null,
      "id": "c52318ba",
      "metadata": {
        "eval": false,
        "id": "c52318ba"
      },
      "outputs": [],
      "source": [
        "# 메서드 체이닝\n",
        "df = mpg['grade'].value_counts().sort_index()"
      ]
    },
    {
      "cell_type": "markdown",
      "id": "c9588813",
      "metadata": {
        "id": "c9588813"
      },
      "source": [
        "#### 필요한 만큼 범주 만들기\n",
        "\n"
      ]
    },
    {
      "cell_type": "code",
      "execution_count": null,
      "id": "a0d3a116",
      "metadata": {
        "lines_to_next_cell": 0,
        "id": "a0d3a116"
      },
      "outputs": [],
      "source": [
        "# A, B, C, D 등급 변수 만들기\n",
        "mpg['grade2'] = np.where(mpg['total'] >= 30, 'A',\n",
        "                np.where(mpg['total'] >= 25, 'B',\n",
        "                np.where(mpg['total'] >= 20, 'C', 'D')))"
      ]
    },
    {
      "cell_type": "markdown",
      "id": "7bc61868",
      "metadata": {
        "id": "7bc61868"
      },
      "source": [
        "### 목록에 해당하는 행으로 변수 만들기\n",
        "\n"
      ]
    },
    {
      "cell_type": "code",
      "execution_count": null,
      "id": "070abb9a",
      "metadata": {
        "lines_to_next_cell": 0,
        "id": "070abb9a"
      },
      "outputs": [],
      "source": [
        "mpg['size'] = np.where((mpg['category'] == 'compact') |\n",
        "                       (mpg['category'] == 'subcompact') |\n",
        "                       (mpg['category'] == '2seater'), \n",
        "                       'small', 'large')\n",
        "\n",
        "mpg['size'].value_counts()"
      ]
    },
    {
      "cell_type": "code",
      "execution_count": null,
      "id": "4e713b98",
      "metadata": {
        "eval": false,
        "lines_to_next_cell": 0,
        "id": "4e713b98"
      },
      "outputs": [],
      "source": [
        "mpg['size'] = np.where(mpg['category'].isin(['compact', 'subcompact', '2seater']), 'small', 'large')\n",
        "\n",
        "mpg['size'].value_counts()"
      ]
    },
    {
      "cell_type": "markdown",
      "id": "b2b8efb5",
      "metadata": {
        "id": "b2b8efb5"
      },
      "source": [
        "### 정리하기"
      ]
    },
    {
      "cell_type": "code",
      "execution_count": null,
      "id": "ec6e2bd9",
      "metadata": {
        "eval": false,
        "id": "ec6e2bd9"
      },
      "outputs": [],
      "source": [
        "# 1. 패키지 로드\n",
        "from google.colab import drive\n",
        "import pandas as pd\n",
        "import numpy as np\n",
        "\n",
        "# 2. 데이터 불러오기\n",
        "drive.mount('/content/gdrive')\n",
        "path = '/content/gdrive/MyDrive/data-analytics-101/data/'\n",
        "mpg = pd.read_csv(path + 'mpg.csv')\n",
        "\n",
        "# 3. 데이터 파악하기\n",
        "mpg.head()      # 데이터 앞부분\n",
        "mpg.tail()      # 데이터 뒷부분\n",
        "mpg.shape       # 행, 열 수\n",
        "mpg.info()      # 속성\n",
        "mpg.describe()  # 요약 통계량\n",
        "\n",
        "# 4. 변수명 바꾸기\n",
        "mpg = mpg.rename(columns = {'manufacturer' : 'company'})\n",
        "\n",
        "# 5. 파생변수 만들기\n",
        "mpg['total'] = (mpg['cty'] + mpg['hwy']) / 2                # 변수 조합\n",
        "mpg['test'] = np.where(mpg['total'] >= 20, 'pass', 'fail')  # 조건문 활용\n",
        "\n",
        "# 6. 빈도 확인하기\n",
        "count_test = mpg['test'].value_counts()  # 빈도표 만들기\n",
        "count_test.plot.bar(rot = 0)             # 막대 그래프 만들기"
      ]
    }
  ],
  "metadata": {
    "jupytext": {
      "cell_metadata_filter": "eval,echo,name,eva,error,-all",
      "notebook_metadata_filter": "-all"
    },
    "kernelspec": {
      "display_name": "Python 3 (ipykernel)",
      "language": "python",
      "name": "python3"
    },
    "language_info": {
      "codemirror_mode": {
        "name": "ipython",
        "version": 3
      },
      "file_extension": ".py",
      "mimetype": "text/x-python",
      "name": "python",
      "nbconvert_exporter": "python",
      "pygments_lexer": "ipython3",
      "version": "3.9.11"
    },
    "colab": {
      "provenance": []
    }
  },
  "nbformat": 4,
  "nbformat_minor": 5
}