{
  "cells": [
    {
      "cell_type": "markdown",
      "id": "4f279bc9",
      "metadata": {
        "id": "4f279bc9"
      },
      "source": [
        "# 셋째 마당. 데이터 분석 기초"
      ]
    },
    {
      "cell_type": "markdown",
      "id": "eb0cf719",
      "metadata": {
        "id": "eb0cf719"
      },
      "source": [
        "## 데이터 파악하기"
      ]
    },
    {
      "cell_type": "markdown",
      "id": "b3492134",
      "metadata": {
        "id": "b3492134"
      },
      "source": [
        "#### 데이터를 파악하는데 사용하는 DataFrame 객체의 메서드와 속성"
      ]
    },
    {
      "cell_type": "markdown",
      "id": "8c24d560",
      "metadata": {
        "id": "8c24d560"
      },
      "source": [
        "\n",
        "| 함수       | 기능               |\n",
        "|------------|--------------------|\n",
        "| head()     | 앞부분 출력        |\n",
        "| tail()     | 뒷부분 출력        |\n",
        "| shape      | 행, 열 개수 출력   |\n",
        "| info()     | 변수 속성 출력     |\n",
        "| describe() | 요약 통계량 출력   |\n"
      ]
    },
    {
      "cell_type": "code",
      "source": [
        "from google.colab import drive\n",
        "drive.mount('/content/gdrive')\n",
        "path = '/content/gdrive/MyDrive/data-analytics-101/data/'"
      ],
      "metadata": {
        "id": "sphhosDKZgb-"
      },
      "id": "sphhosDKZgb-",
      "execution_count": null,
      "outputs": []
    },
    {
      "cell_type": "code",
      "execution_count": null,
      "id": "85461ab5",
      "metadata": {
        "eval": false,
        "id": "85461ab5"
      },
      "outputs": [],
      "source": [
        "import pandas as pd\n",
        "\n",
        "exam = pd.read_csv(path + 'exam.csv')"
      ]
    },
    {
      "cell_type": "markdown",
      "id": "c53bf631-d9ca-4bf5-850a-b2713713825a",
      "metadata": {
        "id": "c53bf631-d9ca-4bf5-850a-b2713713825a"
      },
      "source": [
        "### exam 데이터 파악하기"
      ]
    },
    {
      "cell_type": "markdown",
      "id": "d9e7d9b1-f243-40cc-bf2c-c5e608f683f9",
      "metadata": {
        "id": "d9e7d9b1-f243-40cc-bf2c-c5e608f683f9"
      },
      "source": [
        "#### `head()` - 데이터 앞부분 확인하기"
      ]
    },
    {
      "cell_type": "code",
      "execution_count": null,
      "id": "94b614ff",
      "metadata": {
        "lines_to_next_cell": 0,
        "id": "94b614ff"
      },
      "outputs": [],
      "source": [
        "exam.head()  # 앞에서부터 5행까지 출력"
      ]
    },
    {
      "cell_type": "code",
      "execution_count": null,
      "id": "d1c94595",
      "metadata": {
        "lines_to_next_cell": 0,
        "id": "d1c94595"
      },
      "outputs": [],
      "source": [
        "exam.head(10)  # 앞에서부터 10행까지 출력"
      ]
    },
    {
      "cell_type": "markdown",
      "id": "9e06c6e2",
      "metadata": {
        "id": "9e06c6e2"
      },
      "source": [
        "#### `tail()` - 데이터 뒷부분 확인하기\n",
        "\n"
      ]
    },
    {
      "cell_type": "code",
      "execution_count": null,
      "id": "62233158",
      "metadata": {
        "lines_to_next_cell": 0,
        "id": "62233158"
      },
      "outputs": [],
      "source": [
        "exam.tail()  # 뒤에서부터 5행까지 출력"
      ]
    },
    {
      "cell_type": "code",
      "execution_count": null,
      "id": "e5d65ebb",
      "metadata": {
        "lines_to_next_cell": 0,
        "id": "e5d65ebb"
      },
      "outputs": [],
      "source": [
        "exam.tail(10)  # 뒤에서부터 10행까지 출력"
      ]
    },
    {
      "cell_type": "markdown",
      "id": "28a37e48",
      "metadata": {
        "id": "28a37e48"
      },
      "source": [
        "#### `shape` - 데이터가 몇 행, 몇 열로 구성되는지 알아보기"
      ]
    },
    {
      "cell_type": "code",
      "execution_count": null,
      "id": "15372227",
      "metadata": {
        "lines_to_next_cell": 0,
        "id": "15372227"
      },
      "outputs": [],
      "source": [
        "exam.shape"
      ]
    },
    {
      "cell_type": "markdown",
      "id": "aa9c2857",
      "metadata": {
        "id": "aa9c2857"
      },
      "source": [
        "#### `info()` - 속성 파악하기"
      ]
    },
    {
      "cell_type": "code",
      "execution_count": null,
      "id": "f331493d",
      "metadata": {
        "lines_to_next_cell": 0,
        "id": "f331493d"
      },
      "outputs": [],
      "source": [
        "exam.info()"
      ]
    },
    {
      "cell_type": "markdown",
      "id": "2f1e859d",
      "metadata": {
        "id": "2f1e859d"
      },
      "source": [
        "#### `describe()` - 요약 통계량 구하기"
      ]
    },
    {
      "cell_type": "code",
      "execution_count": null,
      "id": "a2c066a7",
      "metadata": {
        "lines_to_next_cell": 0,
        "id": "a2c066a7"
      },
      "outputs": [],
      "source": [
        "exam.describe()"
      ]
    },
    {
      "cell_type": "markdown",
      "source": [
        "**숫자 변수의 요약 통계량**\n",
        "\n",
        "| 출력값 | 통계량 | 설명 |\n",
        "|-|-|-|\n",
        "| count | 빈도 | 데이터의 개수 | \n",
        "| mean | 뒷부분 출력 | 모든 값을 더해 데이터의 개수로 나눈 값 |\n",
        "| std | 표준편차 | 변수의 값들이 평균에서 떨어진 정도를 나타내는 값 |\n",
        "| min | 최솟값 | 가장 작은 값 |\n",
        "| 25% | 1사분위수 | 하위 25% 지점에 위치한 값 |\n",
        "| 50% | 중앙값 | 하위 50% 지점에 위치한 값 |\n",
        "| 75% | 3사분위수 | 하위 75% 지점에 위치한 값 |\n",
        "| max | 최댓값 | 가장 큰 값 |"
      ],
      "metadata": {
        "id": "l8oV6XJSeafj"
      },
      "id": "l8oV6XJSeafj"
    },
    {
      "cell_type": "markdown",
      "id": "667b8e48",
      "metadata": {
        "id": "667b8e48"
      },
      "source": [
        "### mpg 데이터 파악하기\n"
      ]
    },
    {
      "cell_type": "markdown",
      "source": [
        "`mpg(mile per gallon)`는 미국 환경 보호국(US Environmental Protection Agency)에서 공개한 데이터로 1999~2008년 미국에서 출시한 자동차 234종의 정보를 담고 잇음"
      ],
      "metadata": {
        "id": "Pszs-o1Sf9FC"
      },
      "id": "Pszs-o1Sf9FC"
    },
    {
      "cell_type": "code",
      "execution_count": null,
      "id": "483d25a6",
      "metadata": {
        "eval": false,
        "id": "483d25a6"
      },
      "outputs": [],
      "source": [
        "# mpg 데이터 불러오기\n",
        "mpg = pd.read_csv(path + 'mpg.csv')"
      ]
    },
    {
      "cell_type": "code",
      "execution_count": null,
      "id": "131c7530",
      "metadata": {
        "lines_to_next_cell": 0,
        "id": "131c7530"
      },
      "outputs": [],
      "source": [
        "mpg.head()  # mpg 앞부분 확인"
      ]
    },
    {
      "cell_type": "code",
      "execution_count": null,
      "id": "ce12b1cd",
      "metadata": {
        "id": "ce12b1cd"
      },
      "outputs": [],
      "source": [
        "mpg.tail()  # mpg 뒷부분 확인"
      ]
    },
    {
      "cell_type": "code",
      "execution_count": null,
      "id": "90807449",
      "metadata": {
        "lines_to_next_cell": 0,
        "id": "90807449"
      },
      "outputs": [],
      "source": [
        "mpg.shape  # 행, 열 출력"
      ]
    },
    {
      "cell_type": "code",
      "execution_count": null,
      "id": "52e54496",
      "metadata": {
        "lines_to_next_cell": 0,
        "id": "52e54496"
      },
      "outputs": [],
      "source": [
        "mpg.info()  # 데이터 속성 확인"
      ]
    },
    {
      "cell_type": "code",
      "execution_count": null,
      "id": "55836172",
      "metadata": {
        "lines_to_next_cell": 0,
        "id": "55836172"
      },
      "outputs": [],
      "source": [
        "mpg.describe()  # 요약 통계량 출력"
      ]
    },
    {
      "cell_type": "code",
      "execution_count": null,
      "id": "b9a3c426",
      "metadata": {
        "lines_to_next_cell": 0,
        "id": "b9a3c426"
      },
      "outputs": [],
      "source": [
        "mpg.describe(include = 'all')  # 문자 변수 요약 통계량 함께 출력"
      ]
    },
    {
      "cell_type": "markdown",
      "source": [
        "**문자 변수의 요약 통계량**\n",
        "\n",
        "| 출력값 | 통계량 | 설명 |\n",
        "|-|-|-|\n",
        "| unique | 고유값 개수 | 중복 데이터를 제거한 범주의 개수 |\n",
        "| top | 최빈값 | 개수가 가장 많은 값 |\n",
        "| freq | 최빈값 빈도 | 개수가 가장 많은 값의 개수 |"
      ],
      "metadata": {
        "id": "Q2RYuOYphlwm"
      },
      "id": "Q2RYuOYphlwm"
    },
    {
      "cell_type": "markdown",
      "id": "89b110bb-1fc0-47ab-a2b8-2370f551f670",
      "metadata": {
        "id": "89b110bb-1fc0-47ab-a2b8-2370f551f670"
      },
      "source": [
        "### 함수, 메서드, 속성 구분하기"
      ]
    },
    {
      "cell_type": "markdown",
      "id": "551d46d1",
      "metadata": {
        "id": "551d46d1"
      },
      "source": [
        "**(1) 내장 함수**"
      ]
    },
    {
      "cell_type": "code",
      "execution_count": null,
      "id": "eb4655ca",
      "metadata": {
        "eval": false,
        "tags": [
          "raises-exception"
        ],
        "id": "eb4655ca"
      },
      "outputs": [],
      "source": [
        "var = [1, 2, 3]\n",
        "\n",
        "sum(var)"
      ]
    },
    {
      "cell_type": "code",
      "source": [
        "max(var)"
      ],
      "metadata": {
        "id": "efVS_qfUjFAm"
      },
      "id": "efVS_qfUjFAm",
      "execution_count": null,
      "outputs": []
    },
    {
      "cell_type": "markdown",
      "id": "21881465",
      "metadata": {
        "id": "21881465"
      },
      "source": [
        "**(2) 패키지 함수**\n",
        "\n"
      ]
    },
    {
      "cell_type": "code",
      "execution_count": null,
      "id": "86212f36",
      "metadata": {
        "eval": false,
        "id": "86212f36"
      },
      "outputs": [],
      "source": [
        "import pandas as pd"
      ]
    },
    {
      "cell_type": "code",
      "source": [
        "pd.read_csv(path + 'exam.csv')"
      ],
      "metadata": {
        "id": "YVGn5QhOjMHL"
      },
      "id": "YVGn5QhOjMHL",
      "execution_count": null,
      "outputs": []
    },
    {
      "cell_type": "code",
      "source": [
        "pd.DataFrame({'x' : [1, 2, 3]})"
      ],
      "metadata": {
        "id": "2TCmJIsMjKy4"
      },
      "id": "2TCmJIsMjKy4",
      "execution_count": null,
      "outputs": []
    },
    {
      "cell_type": "markdown",
      "id": "acb345bd",
      "metadata": {
        "id": "acb345bd"
      },
      "source": [
        "**(3) 메서드**"
      ]
    },
    {
      "cell_type": "code",
      "execution_count": null,
      "id": "c6858272",
      "metadata": {
        "eval": false,
        "id": "c6858272"
      },
      "outputs": [],
      "source": [
        "df = pd.read_csv(path + 'exam.csv')\n",
        "df.head()"
      ]
    },
    {
      "cell_type": "code",
      "execution_count": null,
      "id": "6ab06347",
      "metadata": {
        "error": true,
        "lines_to_next_cell": 0,
        "tags": [
          "raises-exception"
        ],
        "id": "6ab06347"
      },
      "outputs": [],
      "source": [
        "var = [1, 2, 3]\n",
        "var.head()"
      ]
    },
    {
      "cell_type": "code",
      "execution_count": null,
      "id": "ac72b6b5",
      "metadata": {
        "eval": false,
        "id": "ac72b6b5"
      },
      "outputs": [],
      "source": [
        "type(df)"
      ]
    },
    {
      "cell_type": "code",
      "execution_count": null,
      "id": "3a5ed91f",
      "metadata": {
        "eval": false,
        "id": "3a5ed91f"
      },
      "outputs": [],
      "source": [
        "type(var)"
      ]
    },
    {
      "cell_type": "markdown",
      "id": "1fce7a47",
      "metadata": {
        "id": "1fce7a47"
      },
      "source": [
        "### 속성: 객체가 지니고 있는 값"
      ]
    },
    {
      "cell_type": "code",
      "execution_count": null,
      "id": "75273fa9",
      "metadata": {
        "lines_to_next_cell": 0,
        "id": "75273fa9"
      },
      "outputs": [],
      "source": [
        "df.head()  # 메서드"
      ]
    },
    {
      "cell_type": "code",
      "execution_count": null,
      "id": "6be21ba2",
      "metadata": {
        "lines_to_next_cell": 0,
        "id": "6be21ba2"
      },
      "outputs": [],
      "source": [
        "df.shape   # 속성"
      ]
    },
    {
      "cell_type": "code",
      "execution_count": null,
      "id": "f0daaced",
      "metadata": {
        "error": true,
        "tags": [
          "raises-exception"
        ],
        "id": "f0daaced"
      },
      "outputs": [],
      "source": [
        "var.shape"
      ]
    },
    {
      "cell_type": "markdown",
      "id": "412b64b1",
      "metadata": {
        "id": "412b64b1"
      },
      "source": [
        "## 변수명 바꾸기"
      ]
    },
    {
      "cell_type": "markdown",
      "id": "bd15a1c9",
      "metadata": {
        "id": "bd15a1c9"
      },
      "source": [
        "#### 1. 데이터 프레임 만들기"
      ]
    },
    {
      "cell_type": "code",
      "execution_count": null,
      "id": "b1e812e6",
      "metadata": {
        "id": "b1e812e6"
      },
      "outputs": [],
      "source": [
        "df_raw = pd.DataFrame({'var1' : [1, 2, 1],\n",
        "                       'var2' : [2, 3, 2]})\n",
        "df_raw"
      ]
    },
    {
      "cell_type": "markdown",
      "id": "9b9cca08",
      "metadata": {
        "id": "9b9cca08"
      },
      "source": [
        "#### 2. 데이터 프레임 복사본 만들기\n",
        "\n"
      ]
    },
    {
      "cell_type": "code",
      "execution_count": null,
      "id": "d8978669",
      "metadata": {
        "lines_to_next_cell": 0,
        "id": "d8978669"
      },
      "outputs": [],
      "source": [
        "df_new = df_raw.copy()  # 복사본 만들기\n",
        "df_new                  # 출력 "
      ]
    },
    {
      "cell_type": "markdown",
      "id": "ebe976a9",
      "metadata": {
        "id": "ebe976a9"
      },
      "source": [
        "#### 3. 변수명 바꾸기"
      ]
    },
    {
      "cell_type": "code",
      "execution_count": null,
      "id": "c471f082",
      "metadata": {
        "id": "c471f082"
      },
      "outputs": [],
      "source": [
        "df_new = df_new.rename(columns = {'var2' : 'v2'})  # var2를 v2로 수정\n",
        "df_new"
      ]
    },
    {
      "cell_type": "code",
      "execution_count": null,
      "id": "73018f60",
      "metadata": {
        "lines_to_next_cell": 0,
        "id": "73018f60"
      },
      "outputs": [],
      "source": [
        "df_raw"
      ]
    },
    {
      "cell_type": "markdown",
      "id": "e2ef630a",
      "metadata": {
        "id": "e2ef630a"
      },
      "source": [
        "## 파생변수 만들기"
      ]
    },
    {
      "cell_type": "markdown",
      "id": "dae9d6dc",
      "metadata": {
        "id": "dae9d6dc"
      },
      "source": [
        "### 변수 조합해 파생변수 만들기"
      ]
    },
    {
      "cell_type": "code",
      "execution_count": null,
      "id": "f95b0650",
      "metadata": {
        "lines_to_next_cell": 0,
        "id": "f95b0650"
      },
      "outputs": [],
      "source": [
        "df = pd.DataFrame({'var1' : [4, 3, 8],\n",
        "                   'var2' : [2, 6, 1]})\n",
        "df"
      ]
    },
    {
      "cell_type": "code",
      "execution_count": null,
      "id": "54f79965",
      "metadata": {
        "lines_to_next_cell": 0,
        "id": "54f79965"
      },
      "outputs": [],
      "source": [
        "# var_sum 파생변수 만들기\n",
        "df['var_sum'] = df['var1'] + df['var2']  \n",
        "df"
      ]
    },
    {
      "cell_type": "code",
      "execution_count": null,
      "id": "d5aec89d",
      "metadata": {
        "id": "d5aec89d"
      },
      "outputs": [],
      "source": [
        "# var_mean 파생변수 만들기\n",
        "df['var_mean'] = (df['var1'] + df['var2']) / 2  \n",
        "df"
      ]
    },
    {
      "cell_type": "markdown",
      "id": "7ee6bbdc",
      "metadata": {
        "id": "7ee6bbdc"
      },
      "source": [
        "### mpg 통합 연비 변수 만들기\n"
      ]
    },
    {
      "cell_type": "code",
      "execution_count": null,
      "id": "2e25e5f5",
      "metadata": {
        "lines_to_next_cell": 0,
        "id": "2e25e5f5"
      },
      "outputs": [],
      "source": [
        "mpg['total'] = (mpg['cty'] + mpg['hwy']) / 2\n",
        "mpg.head()"
      ]
    },
    {
      "cell_type": "code",
      "execution_count": null,
      "id": "bb6c6467",
      "metadata": {
        "lines_to_next_cell": 0,
        "id": "bb6c6467"
      },
      "outputs": [],
      "source": [
        "# 통합 연비 변수 평균\n",
        "\n",
        "sum(mpg['total']) / len(mpg)"
      ]
    },
    {
      "cell_type": "code",
      "execution_count": null,
      "id": "dcd6ab97",
      "metadata": {
        "id": "dcd6ab97"
      },
      "outputs": [],
      "source": [
        "# 통합 연비 변수 평균: Series 객체의 mean() 메서드 사용\n",
        "\n",
        "mpg['total'].mean()  "
      ]
    },
    {
      "cell_type": "markdown",
      "id": "766328a3",
      "metadata": {
        "id": "766328a3"
      },
      "source": [
        "### 조건문을 활용해 파생변수 만들기"
      ]
    },
    {
      "cell_type": "markdown",
      "id": "d2112ec8",
      "metadata": {
        "id": "d2112ec8"
      },
      "source": [
        "#### 1. 기준값 정하기"
      ]
    },
    {
      "cell_type": "code",
      "execution_count": null,
      "id": "cffbeb5d",
      "metadata": {
        "lines_to_next_cell": 0,
        "id": "cffbeb5d"
      },
      "outputs": [],
      "source": [
        "mpg['total'].describe()  # 요약 통계량 출력"
      ]
    },
    {
      "cell_type": "code",
      "execution_count": null,
      "id": "068b1c96",
      "metadata": {
        "name": "eval F",
        "id": "068b1c96"
      },
      "outputs": [],
      "source": [
        "# 히스토그램 그리기\n",
        "mpg['total'].plot.hist()"
      ]
    },
    {
      "cell_type": "markdown",
      "id": "c0af4967",
      "metadata": {
        "id": "c0af4967"
      },
      "source": [
        "#### 2. 합격 판정 변수 만들기"
      ]
    },
    {
      "cell_type": "code",
      "execution_count": null,
      "id": "c804243d",
      "metadata": {
        "lines_to_next_cell": 0,
        "id": "c804243d"
      },
      "outputs": [],
      "source": [
        "import numpy as np"
      ]
    },
    {
      "cell_type": "code",
      "execution_count": null,
      "id": "2f3e2c7c",
      "metadata": {
        "lines_to_next_cell": 0,
        "id": "2f3e2c7c"
      },
      "outputs": [],
      "source": [
        "# 20 이상이면 pass, 그렇지 않으면 fail 부여\n",
        "mpg['test'] = np.where(mpg['total'] >= 20, 'pass', 'fail')\n",
        "mpg.head()"
      ]
    },
    {
      "cell_type": "markdown",
      "id": "e69930ce",
      "metadata": {
        "id": "e69930ce"
      },
      "source": [
        "#### 3. 빈도표(frequency)로 합격 판정 자동차 수 살펴보기"
      ]
    },
    {
      "cell_type": "code",
      "execution_count": null,
      "id": "032fe9d4",
      "metadata": {
        "lines_to_next_cell": 0,
        "id": "032fe9d4"
      },
      "outputs": [],
      "source": [
        "mpg['test'].value_counts()  # 연비 합격 빈도표 만들기"
      ]
    },
    {
      "cell_type": "markdown",
      "id": "cb86739e",
      "metadata": {
        "id": "cb86739e"
      },
      "source": [
        "#### 4. 막대 그래프로 빈도 표현하기"
      ]
    },
    {
      "cell_type": "code",
      "execution_count": null,
      "id": "c793dc91",
      "metadata": {
        "lines_to_next_cell": 0,
        "id": "c793dc91"
      },
      "outputs": [],
      "source": [
        "count_test = mpg['test'].value_counts()  # 연비 합격 빈도표를 변수에 할당"
      ]
    },
    {
      "cell_type": "code",
      "execution_count": null,
      "id": "fa827880",
      "metadata": {
        "eval": false,
        "id": "fa827880"
      },
      "outputs": [],
      "source": [
        "count_test.plot.bar()  # 연비 합격 빈도 막대 그래프 만들기"
      ]
    },
    {
      "cell_type": "markdown",
      "id": "59e32c3c",
      "metadata": {
        "id": "59e32c3c"
      },
      "source": [
        "#### 축 이름 회전하기"
      ]
    },
    {
      "cell_type": "code",
      "execution_count": null,
      "id": "616bb7af",
      "metadata": {
        "eval": false,
        "id": "616bb7af"
      },
      "outputs": [],
      "source": [
        "count_test.plot.bar(rot = 0)  # 축 이름 수평으로 만들기"
      ]
    },
    {
      "cell_type": "markdown",
      "id": "12d499eb",
      "metadata": {
        "id": "12d499eb"
      },
      "source": [
        "### 중첩 조건문 활용하기\n"
      ]
    },
    {
      "cell_type": "markdown",
      "id": "5da18289",
      "metadata": {
        "id": "5da18289"
      },
      "source": [
        "#### 1. 연비 등급 변수 만들기\n",
        "\n"
      ]
    },
    {
      "cell_type": "code",
      "execution_count": null,
      "id": "f38d9925",
      "metadata": {
        "lines_to_next_cell": 0,
        "id": "f38d9925"
      },
      "outputs": [],
      "source": [
        "# total 기준으로 A, B, C 등급 부여\n",
        "mpg['grade'] = np.where(mpg['total'] >= 30, 'A',\n",
        "               np.where(mpg['total'] >= 20, 'B', 'C'))\n",
        "\n",
        "# 데이터 확인\n",
        "mpg.head()"
      ]
    },
    {
      "cell_type": "markdown",
      "id": "802d289c",
      "metadata": {
        "id": "802d289c"
      },
      "source": [
        "#### 2. 빈도표와 막대 그래프로 연비 등급 살펴보기\n",
        "\n"
      ]
    },
    {
      "cell_type": "code",
      "execution_count": null,
      "id": "f50654e8",
      "metadata": {
        "lines_to_next_cell": 0,
        "id": "f50654e8"
      },
      "outputs": [],
      "source": [
        "count_grade = mpg['grade'].value_counts()  # 등급 빈도표 만들기\n",
        "count_grade"
      ]
    },
    {
      "cell_type": "code",
      "execution_count": null,
      "id": "7f502c35",
      "metadata": {
        "eval": false,
        "id": "7f502c35"
      },
      "outputs": [],
      "source": [
        "count_grade.plot.bar(rot = 0)  # 등급 빈도 막대 그래프 만들기"
      ]
    },
    {
      "cell_type": "markdown",
      "id": "6b826f69",
      "metadata": {
        "id": "6b826f69"
      },
      "source": [
        "#### 알파벳순으로 막대 정렬하기\n",
        "\n",
        "\n",
        "\n"
      ]
    },
    {
      "cell_type": "code",
      "execution_count": null,
      "id": "a4e9edfe",
      "metadata": {
        "lines_to_next_cell": 0,
        "id": "a4e9edfe"
      },
      "outputs": [],
      "source": [
        "# 등급 빈도표 알파벳순 정렬\n",
        "count_grade = mpg['grade'].value_counts().sort_index()\n",
        "count_grade"
      ]
    },
    {
      "cell_type": "code",
      "execution_count": null,
      "id": "b914b345",
      "metadata": {
        "eval": false,
        "id": "b914b345"
      },
      "outputs": [],
      "source": [
        "# 등급 빈도 막대 그래프 만들기\n",
        "count_grade.plot.bar(rot = 0)"
      ]
    },
    {
      "cell_type": "markdown",
      "id": "d8cd29ec",
      "metadata": {
        "id": "d8cd29ec"
      },
      "source": [
        "#### [꿀팁] 메서드 체이닝"
      ]
    },
    {
      "cell_type": "markdown",
      "source": [
        "**메서드 체이닝(method chaining):** 점(.)을 이용해 메서드를 계속 이어서 작성하는 방법"
      ],
      "metadata": {
        "id": "CEjrBUsSqNxO"
      },
      "id": "CEjrBUsSqNxO"
    },
    {
      "cell_type": "code",
      "execution_count": null,
      "id": "c9cdf560",
      "metadata": {
        "eva": false,
        "lines_to_next_cell": 2,
        "id": "c9cdf560"
      },
      "outputs": [],
      "source": [
        "# 출력 결과를 변수에 할당하는 방법\n",
        "df = mpg['grade']\n",
        "df = df.value_counts()\n",
        "df = df.sort_index()"
      ]
    },
    {
      "cell_type": "code",
      "execution_count": null,
      "id": "c52318ba",
      "metadata": {
        "eval": false,
        "id": "c52318ba"
      },
      "outputs": [],
      "source": [
        "# 메서드 체이닝\n",
        "df = mpg['grade'].value_counts().sort_index()"
      ]
    },
    {
      "cell_type": "markdown",
      "id": "c9588813",
      "metadata": {
        "id": "c9588813"
      },
      "source": [
        "#### 필요한 만큼 범주 만들기\n",
        "\n"
      ]
    },
    {
      "cell_type": "code",
      "execution_count": null,
      "id": "a0d3a116",
      "metadata": {
        "lines_to_next_cell": 0,
        "id": "a0d3a116"
      },
      "outputs": [],
      "source": [
        "# A, B, C, D 등급 변수 만들기\n",
        "mpg['grade2'] = np.where(mpg['total'] >= 30, 'A',\n",
        "                np.where(mpg['total'] >= 25, 'B',\n",
        "                np.where(mpg['total'] >= 20, 'C', 'D')))"
      ]
    },
    {
      "cell_type": "markdown",
      "id": "7bc61868",
      "metadata": {
        "id": "7bc61868"
      },
      "source": [
        "### 목록에 해당하는 행으로 변수 만들기\n",
        "\n"
      ]
    },
    {
      "cell_type": "code",
      "execution_count": null,
      "id": "070abb9a",
      "metadata": {
        "lines_to_next_cell": 0,
        "id": "070abb9a"
      },
      "outputs": [],
      "source": [
        "mpg['size'] = np.where((mpg['category'] == 'compact') |\n",
        "                       (mpg['category'] == 'subcompact') |\n",
        "                       (mpg['category'] == '2seater'), \n",
        "                       'small', 'large')\n",
        "\n",
        "mpg['size'].value_counts()"
      ]
    },
    {
      "cell_type": "code",
      "execution_count": null,
      "id": "4e713b98",
      "metadata": {
        "eval": false,
        "lines_to_next_cell": 0,
        "id": "4e713b98"
      },
      "outputs": [],
      "source": [
        "mpg['size'] = np.where(mpg['category'].isin(['compact', 'subcompact', '2seater']), 'small', 'large')\n",
        "\n",
        "mpg['size'].value_counts()"
      ]
    },
    {
      "cell_type": "markdown",
      "id": "b2b8efb5",
      "metadata": {
        "id": "b2b8efb5"
      },
      "source": [
        "--- \n",
        "### 정리하기"
      ]
    },
    {
      "cell_type": "code",
      "execution_count": null,
      "id": "ec6e2bd9",
      "metadata": {
        "eval": false,
        "id": "ec6e2bd9"
      },
      "outputs": [],
      "source": [
        "# 1. 패키지 로드\n",
        "from google.colab import drive\n",
        "import pandas as pd\n",
        "import numpy as np\n",
        "\n",
        "# 2. 데이터 불러오기\n",
        "drive.mount('/content/gdrive')\n",
        "path = '/content/gdrive/MyDrive/data-analytics-101/data/'\n",
        "mpg = pd.read_csv(path + 'mpg.csv')\n",
        "\n",
        "# 3. 데이터 파악하기\n",
        "mpg.head()      # 데이터 앞부분\n",
        "mpg.tail()      # 데이터 뒷부분\n",
        "mpg.shape       # 행, 열 수\n",
        "mpg.info()      # 속성\n",
        "mpg.describe()  # 요약 통계량\n",
        "\n",
        "# 4. 변수명 바꾸기\n",
        "mpg = mpg.rename(columns = {'manufacturer' : 'company'})\n",
        "\n",
        "# 5. 파생변수 만들기\n",
        "mpg['total'] = (mpg['cty'] + mpg['hwy']) / 2                # 변수 조합\n",
        "mpg['test'] = np.where(mpg['total'] >= 20, 'pass', 'fail')  # 조건문 활용\n",
        "\n",
        "# 6. 빈도 확인하기\n",
        "count_test = mpg['test'].value_counts()  # 빈도표 만들기\n",
        "count_test.plot.bar(rot = 0)             # 막대 그래프 만들기"
      ]
    },
    {
      "cell_type": "code",
      "source": [],
      "metadata": {
        "id": "Frw0D1vVsqC_"
      },
      "id": "Frw0D1vVsqC_",
      "execution_count": null,
      "outputs": []
    }
  ],
  "metadata": {
    "jupytext": {
      "cell_metadata_filter": "eval,echo,name,eva,error,-all",
      "notebook_metadata_filter": "-all"
    },
    "kernelspec": {
      "display_name": "Python 3 (ipykernel)",
      "language": "python",
      "name": "python3"
    },
    "language_info": {
      "codemirror_mode": {
        "name": "ipython",
        "version": 3
      },
      "file_extension": ".py",
      "mimetype": "text/x-python",
      "name": "python",
      "nbconvert_exporter": "python",
      "pygments_lexer": "ipython3",
      "version": "3.9.11"
    },
    "colab": {
      "provenance": []
    }
  },
  "nbformat": 4,
  "nbformat_minor": 5
}