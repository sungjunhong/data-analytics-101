{
  "cells": [
    {
      "cell_type": "code",
      "execution_count": null,
      "id": "c416bbf6-c925-427d-9b7d-0a8e5acc1382",
      "metadata": {
        "id": "c416bbf6-c925-427d-9b7d-0a8e5acc1382"
      },
      "outputs": [],
      "source": [
        "import matplotlib.pyplot as plt\n",
        "plt.rcParams.update({'figure.dpi' : '100'})\n",
        "%config InlineBackend.figure_format = 'retina'"
      ]
    },
    {
      "cell_type": "markdown",
      "id": "e1d727dd-d4f3-4409-9d0a-0cd49f970c04",
      "metadata": {
        "id": "e1d727dd-d4f3-4409-9d0a-0cd49f970c04"
      },
      "source": [
        "# **첫째마당. 파이썬과 친해지기**"
      ]
    },
    {
      "cell_type": "markdown",
      "id": "c3fa5ca6",
      "metadata": {
        "id": "c3fa5ca6"
      },
      "source": [
        "##**'변수' 이해하기**\n",
        "\n",
        "\n",
        "\n"
      ]
    },
    {
      "cell_type": "markdown",
      "source": [
        "* **변수(Variable)** : 다양한 값을 가진 하나의 속성 (소득, 성별, 학점, 국적 등)\n",
        "* 변수는 데이터 분석의 대상이자 데이터는 변수들의 덩어리라고 볼 수 있음\n",
        "* 변수명은 문자, 숫자, 언더바(_)를 조합하여 정할 수 있으며 반드시 문자로 시작해야함"
      ],
      "metadata": {
        "id": "kxyMgM45NlWk"
      },
      "id": "kxyMgM45NlWk"
    },
    {
      "cell_type": "markdown",
      "source": [
        "###변수 만들기"
      ],
      "metadata": {
        "id": "wzD1REpUG6L6"
      },
      "id": "wzD1REpUG6L6"
    },
    {
      "cell_type": "code",
      "execution_count": null,
      "id": "9f82a4d3",
      "metadata": {
        "id": "9f82a4d3"
      },
      "outputs": [],
      "source": [
        "a = 1  # a에 1 할당\n",
        "a      # a 를 참조"
      ]
    },
    {
      "cell_type": "code",
      "execution_count": null,
      "id": "72c77416",
      "metadata": {
        "lines_to_next_cell": 0,
        "id": "72c77416"
      },
      "outputs": [],
      "source": [
        "b = 2\n",
        "b"
      ]
    },
    {
      "cell_type": "code",
      "execution_count": null,
      "id": "9d601513",
      "metadata": {
        "lines_to_next_cell": 0,
        "id": "9d601513"
      },
      "outputs": [],
      "source": [
        "c = 3\n",
        "c"
      ]
    },
    {
      "cell_type": "code",
      "execution_count": null,
      "id": "0ea42be0",
      "metadata": {
        "id": "0ea42be0"
      },
      "outputs": [],
      "source": [
        "d = 3.5\n",
        "d"
      ]
    },
    {
      "cell_type": "code",
      "execution_count": null,
      "id": "f04cfb8f",
      "metadata": {
        "lines_to_next_cell": 0,
        "id": "f04cfb8f"
      },
      "outputs": [],
      "source": [
        "a + b"
      ]
    },
    {
      "cell_type": "code",
      "execution_count": null,
      "id": "0f7bffdb",
      "metadata": {
        "lines_to_next_cell": 0,
        "id": "0f7bffdb"
      },
      "outputs": [],
      "source": [
        "a + b + c"
      ]
    },
    {
      "cell_type": "code",
      "execution_count": null,
      "id": "4b8b0d7d",
      "metadata": {
        "lines_to_next_cell": 0,
        "id": "4b8b0d7d"
      },
      "outputs": [],
      "source": [
        "4 / b"
      ]
    },
    {
      "cell_type": "code",
      "execution_count": null,
      "id": "5ade2836",
      "metadata": {
        "id": "5ade2836"
      },
      "outputs": [],
      "source": [
        "5 * b"
      ]
    },
    {
      "cell_type": "code",
      "source": [
        "10 ** b"
      ],
      "metadata": {
        "id": "ef89XV-pNeog"
      },
      "id": "ef89XV-pNeog",
      "execution_count": null,
      "outputs": []
    },
    {
      "cell_type": "markdown",
      "id": "004a89fd",
      "metadata": {
        "id": "004a89fd"
      },
      "source": [
        "### 여러 값으로 구성된 변수 만들기"
      ]
    },
    {
      "cell_type": "code",
      "execution_count": null,
      "id": "4fce1cbd",
      "metadata": {
        "lines_to_next_cell": 0,
        "id": "4fce1cbd"
      },
      "outputs": [],
      "source": [
        "var1 = [1, 2, 3]\n",
        "var1"
      ]
    },
    {
      "cell_type": "code",
      "execution_count": null,
      "id": "dbf43697",
      "metadata": {
        "id": "dbf43697"
      },
      "outputs": [],
      "source": [
        "var2 = [4, 5, 6]\n",
        "var2"
      ]
    },
    {
      "cell_type": "code",
      "execution_count": null,
      "id": "510235da",
      "metadata": {
        "lines_to_next_cell": 2,
        "id": "510235da"
      },
      "outputs": [],
      "source": [
        "var1 + var2"
      ]
    },
    {
      "cell_type": "markdown",
      "id": "e3c13367",
      "metadata": {
        "id": "e3c13367"
      },
      "source": [
        "### 문자로 된 변수 만들기"
      ]
    },
    {
      "cell_type": "code",
      "execution_count": null,
      "id": "76be27ae",
      "metadata": {
        "id": "76be27ae"
      },
      "outputs": [],
      "source": [
        "str1 = 'a'\n",
        "str1"
      ]
    },
    {
      "cell_type": "code",
      "execution_count": null,
      "id": "07e242cc",
      "metadata": {
        "lines_to_next_cell": 0,
        "id": "07e242cc"
      },
      "outputs": [],
      "source": [
        "str2 = 'text'\n",
        "str2"
      ]
    },
    {
      "cell_type": "code",
      "execution_count": null,
      "id": "808c3791",
      "metadata": {
        "id": "808c3791"
      },
      "outputs": [],
      "source": [
        "str3 = 'Hello World!'\n",
        "str3"
      ]
    },
    {
      "cell_type": "code",
      "execution_count": null,
      "id": "58dd0c42",
      "metadata": {
        "lines_to_next_cell": 0,
        "id": "58dd0c42"
      },
      "outputs": [],
      "source": [
        "str4 = ['a', 'b', 'c']\n",
        "str4"
      ]
    },
    {
      "cell_type": "code",
      "execution_count": null,
      "id": "bbb7704f",
      "metadata": {
        "id": "bbb7704f"
      },
      "outputs": [],
      "source": [
        "str5 = ['Hello!', 'World', 'is', 'good!']\n",
        "str5"
      ]
    },
    {
      "cell_type": "code",
      "source": [
        "str6 = '5'"
      ],
      "metadata": {
        "id": "HQ0k03JlPJB0"
      },
      "id": "HQ0k03JlPJB0",
      "execution_count": null,
      "outputs": []
    },
    {
      "cell_type": "code",
      "execution_count": null,
      "id": "09e475d4",
      "metadata": {
        "id": "09e475d4"
      },
      "outputs": [],
      "source": [
        "str2 + str3"
      ]
    },
    {
      "cell_type": "code",
      "execution_count": null,
      "id": "b463b383",
      "metadata": {
        "id": "b463b383"
      },
      "outputs": [],
      "source": [
        "str2 + ' ' + str3"
      ]
    },
    {
      "cell_type": "code",
      "execution_count": null,
      "id": "2ea5b717",
      "metadata": {
        "error": true,
        "tags": [
          "raises-exception"
        ],
        "id": "2ea5b717"
      },
      "outputs": [],
      "source": [
        "str1 + 2"
      ]
    },
    {
      "cell_type": "code",
      "source": [
        "str1 + str(2)"
      ],
      "metadata": {
        "id": "D1XlSVUWO-Cs"
      },
      "id": "D1XlSVUWO-Cs",
      "execution_count": null,
      "outputs": []
    },
    {
      "cell_type": "code",
      "source": [
        "str6 + 3"
      ],
      "metadata": {
        "id": "xMxFTPkqPT2f"
      },
      "id": "xMxFTPkqPT2f",
      "execution_count": null,
      "outputs": []
    },
    {
      "cell_type": "code",
      "source": [
        "int(str6) + 3"
      ],
      "metadata": {
        "id": "nThgBcclPCOa"
      },
      "id": "nThgBcclPCOa",
      "execution_count": null,
      "outputs": []
    },
    {
      "cell_type": "markdown",
      "id": "c4579443",
      "metadata": {
        "id": "c4579443"
      },
      "source": [
        "##**'함수' 이해하기**"
      ]
    },
    {
      "cell_type": "markdown",
      "id": "41b26dc5",
      "metadata": {
        "id": "41b26dc5"
      },
      "source": [
        "### 함수 이용하기"
      ]
    },
    {
      "cell_type": "code",
      "execution_count": null,
      "id": "0784ece8",
      "metadata": {
        "lines_to_next_cell": 0,
        "id": "0784ece8"
      },
      "outputs": [],
      "source": [
        "# 변수 만들기\n",
        "x = [1, 2, 3]\n",
        "x"
      ]
    },
    {
      "cell_type": "code",
      "execution_count": null,
      "id": "67869bd8",
      "metadata": {
        "id": "67869bd8"
      },
      "outputs": [],
      "source": [
        "# 함수 적용하기\n",
        "sum(x)"
      ]
    },
    {
      "cell_type": "code",
      "execution_count": null,
      "id": "f5eb5748",
      "metadata": {
        "lines_to_next_cell": 0,
        "id": "f5eb5748"
      },
      "outputs": [],
      "source": [
        "max(x)"
      ]
    },
    {
      "cell_type": "code",
      "execution_count": null,
      "id": "c9fd3ad4",
      "metadata": {
        "id": "c9fd3ad4"
      },
      "outputs": [],
      "source": [
        "min(x)"
      ]
    },
    {
      "cell_type": "markdown",
      "id": "2effad6a",
      "metadata": {
        "id": "2effad6a"
      },
      "source": [
        "### 함수의 결과물로 새 변수 만들기"
      ]
    },
    {
      "cell_type": "code",
      "execution_count": null,
      "id": "008084c2",
      "metadata": {
        "lines_to_next_cell": 0,
        "id": "008084c2"
      },
      "outputs": [],
      "source": [
        "x_sum = sum(x)\n",
        "x_sum"
      ]
    },
    {
      "cell_type": "code",
      "execution_count": null,
      "id": "97365aff",
      "metadata": {
        "lines_to_next_cell": 2,
        "id": "97365aff"
      },
      "outputs": [],
      "source": [
        "x_max = max(x)\n",
        "x_max"
      ]
    },
    {
      "cell_type": "markdown",
      "id": "935d15f9",
      "metadata": {
        "id": "935d15f9"
      },
      "source": [
        "## **함수 꾸러미, '패키지' 이해하기**"
      ]
    },
    {
      "cell_type": "markdown",
      "id": "bb69a746",
      "metadata": {
        "id": "bb69a746"
      },
      "source": [
        "### 패키지 로드하기"
      ]
    },
    {
      "cell_type": "code",
      "execution_count": null,
      "id": "c41b442a",
      "metadata": {
        "id": "c41b442a"
      },
      "outputs": [],
      "source": [
        "import seaborn"
      ]
    },
    {
      "cell_type": "markdown",
      "id": "54cb252c",
      "metadata": {
        "id": "54cb252c"
      },
      "source": [
        "### 패키지 함수 사용하기"
      ]
    },
    {
      "cell_type": "code",
      "execution_count": null,
      "id": "4003f302",
      "metadata": {
        "id": "4003f302"
      },
      "outputs": [],
      "source": [
        "var = ['a', 'a', 'b', 'c']\n",
        "var"
      ]
    },
    {
      "cell_type": "code",
      "execution_count": null,
      "id": "527d846d",
      "metadata": {
        "eval": false,
        "id": "527d846d"
      },
      "outputs": [],
      "source": [
        "seaborn.countplot(x = var)"
      ]
    },
    {
      "cell_type": "markdown",
      "id": "9484c78c",
      "metadata": {
        "id": "9484c78c"
      },
      "source": [
        "### 패키지 약어 활용하기"
      ]
    },
    {
      "cell_type": "code",
      "execution_count": null,
      "id": "db6ed1a2",
      "metadata": {
        "id": "db6ed1a2"
      },
      "outputs": [],
      "source": [
        "import seaborn as sns"
      ]
    },
    {
      "cell_type": "code",
      "execution_count": null,
      "id": "047b555c",
      "metadata": {
        "eval": false,
        "id": "047b555c"
      },
      "outputs": [],
      "source": [
        "sns.countplot(x = var)"
      ]
    },
    {
      "cell_type": "markdown",
      "id": "26110084",
      "metadata": {
        "id": "26110084"
      },
      "source": [
        "###**`seaborn`의 `titanic` 데이터로 그래프 그리기**"
      ]
    },
    {
      "cell_type": "markdown",
      "id": "d370481d",
      "metadata": {
        "id": "d370481d"
      },
      "source": [
        "#### `seaborn`의 `load_dataset()`로 `titanic` 데이터 불러오기"
      ]
    },
    {
      "cell_type": "code",
      "execution_count": null,
      "id": "d58034ae",
      "metadata": {
        "id": "d58034ae"
      },
      "outputs": [],
      "source": [
        "df = sns.load_dataset('titanic')\n",
        "df"
      ]
    },
    {
      "cell_type": "markdown",
      "id": "38089847",
      "metadata": {
        "id": "38089847"
      },
      "source": [
        "#### 함수의 다양한 기능 이용하기"
      ]
    },
    {
      "cell_type": "code",
      "execution_count": null,
      "id": "5427b772",
      "metadata": {
        "eval": false,
        "id": "5427b772"
      },
      "outputs": [],
      "source": [
        "sns.countplot(data = df, x = 'sex')"
      ]
    },
    {
      "cell_type": "code",
      "execution_count": null,
      "id": "a2b1c556",
      "metadata": {
        "eval": false,
        "id": "a2b1c556"
      },
      "outputs": [],
      "source": [
        "sns.countplot(data = df, x = 'class')                 # x축 class"
      ]
    },
    {
      "cell_type": "code",
      "execution_count": null,
      "id": "30a21a07",
      "metadata": {
        "eval": false,
        "id": "30a21a07"
      },
      "outputs": [],
      "source": [
        "sns.countplot(data = df, x = 'class', hue = 'alive')  # x축 class, alive별 색 표현"
      ]
    },
    {
      "cell_type": "code",
      "execution_count": null,
      "id": "7268de5c",
      "metadata": {
        "eval": false,
        "id": "7268de5c"
      },
      "outputs": [],
      "source": [
        "sns.countplot(data = df, y = 'class', hue = 'alive')  # y축 class, alive별 색 표현"
      ]
    },
    {
      "cell_type": "markdown",
      "id": "82210caa-0b19-4d2e-94d1-f4af6fd3b12a",
      "metadata": {
        "id": "82210caa-0b19-4d2e-94d1-f4af6fd3b12a"
      },
      "source": [
        "**함수 사용법이 궁금할 땐 Help 함수를 활용**"
      ]
    },
    {
      "cell_type": "code",
      "execution_count": null,
      "id": "ab493210-7bfb-4786-8256-8f399d224835",
      "metadata": {
        "id": "ab493210-7bfb-4786-8256-8f399d224835"
      },
      "outputs": [],
      "source": [
        "sns.countplot?"
      ]
    },
    {
      "cell_type": "markdown",
      "id": "3dedc039",
      "metadata": {
        "id": "3dedc039"
      },
      "source": [
        "### 모듈"
      ]
    },
    {
      "cell_type": "markdown",
      "source": [
        "####**`패키지명.모듈명.함수명()`으로 함수 사용하기**\n",
        "\n",
        "```\n",
        "import sklearn.metrics\n",
        "sklearn.metrics.accuracy_score()\n",
        "```\n",
        "\n",
        "\n"
      ],
      "metadata": {
        "id": "qSpFv3uLRXkP"
      },
      "id": "qSpFv3uLRXkP"
    },
    {
      "cell_type": "markdown",
      "id": "c5fc35ed",
      "metadata": {
        "id": "c5fc35ed"
      },
      "source": [
        "####**`모듈명.함수명()`으로 함수 사용하기**\n",
        "\n",
        "```\n",
        "from sklearn import metrics\n",
        "metrics.accuracy_score()\n",
        "```"
      ]
    },
    {
      "cell_type": "markdown",
      "metadata": {
        "id": "ZihPPKjMR9GY"
      },
      "source": [
        "####**`함수명()`으로 함수 사용하기**\n",
        "\n",
        "```\n",
        "from sklearn.metrics import accuracy_score\n",
        "accuracy_score()\n",
        "```"
      ],
      "id": "ZihPPKjMR9GY"
    },
    {
      "cell_type": "markdown",
      "id": "6334b19f-d973-4c98-b835-d16198c956b5",
      "metadata": {
        "id": "6334b19f-d973-4c98-b835-d16198c956b5"
      },
      "source": [
        "### (알아 두면 좋아요) as로 약어 지정하기"
      ]
    },
    {
      "cell_type": "code",
      "execution_count": null,
      "id": "7e9e607e-3f27-4865-859d-4472805efc6b",
      "metadata": {
        "tags": [
          "raises-exception"
        ],
        "id": "7e9e607e-3f27-4865-859d-4472805efc6b"
      },
      "outputs": [],
      "source": [
        "import sklearn.metrics as met \n",
        "met.accuracy_score()"
      ]
    },
    {
      "cell_type": "code",
      "execution_count": null,
      "id": "7f58b486-c4ed-40e4-b95b-29a520c29821",
      "metadata": {
        "tags": [
          "raises-exception"
        ],
        "id": "7f58b486-c4ed-40e4-b95b-29a520c29821"
      },
      "outputs": [],
      "source": [
        "from sklearn import metrics as met \n",
        "met.accuracy_score()"
      ]
    },
    {
      "cell_type": "code",
      "execution_count": null,
      "id": "32714a60-c7f0-454a-b4f6-8c18605f8dfc",
      "metadata": {
        "tags": [
          "raises-exception"
        ],
        "id": "32714a60-c7f0-454a-b4f6-8c18605f8dfc"
      },
      "outputs": [],
      "source": [
        "from sklearn.metrics import accuracy_score as accuracy \n",
        "accuracy()"
      ]
    },
    {
      "cell_type": "markdown",
      "id": "59e73841-dc45-4cac-9ea3-50aedc5437cb",
      "metadata": {
        "id": "59e73841-dc45-4cac-9ea3-50aedc5437cb"
      },
      "source": [
        "---"
      ]
    },
    {
      "cell_type": "markdown",
      "source": [
        "### 패키지 설치하기"
      ],
      "metadata": {
        "id": "VlN_NjxuTDFR"
      },
      "id": "VlN_NjxuTDFR"
    },
    {
      "cell_type": "code",
      "execution_count": null,
      "id": "94d46ec6",
      "metadata": {
        "error": true,
        "eval": false,
        "id": "94d46ec6"
      },
      "outputs": [],
      "source": [
        "pip install pydataset"
      ]
    },
    {
      "cell_type": "markdown",
      "id": "5ce60f2b",
      "metadata": {
        "id": "5ce60f2b"
      },
      "source": [
        "**패키지 함수 사용하기**"
      ]
    },
    {
      "cell_type": "code",
      "execution_count": null,
      "id": "97c0051a",
      "metadata": {
        "id": "97c0051a"
      },
      "outputs": [],
      "source": [
        "import pydataset"
      ]
    },
    {
      "cell_type": "code",
      "source": [
        "pydataset.data()"
      ],
      "metadata": {
        "id": "msUEVdw0MNuP"
      },
      "id": "msUEVdw0MNuP",
      "execution_count": null,
      "outputs": []
    },
    {
      "cell_type": "code",
      "execution_count": null,
      "id": "599edfc2",
      "metadata": {
        "id": "599edfc2"
      },
      "outputs": [],
      "source": [
        "df = pydataset.data('mtcars')  # mtcars 데이터를 df에 할당\n",
        "df                             # df 출력"
      ]
    },
    {
      "cell_type": "code",
      "source": [],
      "metadata": {
        "id": "BVbovfpyTPMD"
      },
      "id": "BVbovfpyTPMD",
      "execution_count": null,
      "outputs": []
    }
  ],
  "metadata": {
    "jupytext": {
      "cell_metadata_filter": "error,eval,-all",
      "notebook_metadata_filter": "-all"
    },
    "kernelspec": {
      "display_name": "Python 3 (ipykernel)",
      "language": "python",
      "name": "python3"
    },
    "language_info": {
      "codemirror_mode": {
        "name": "ipython",
        "version": 3
      },
      "file_extension": ".py",
      "mimetype": "text/x-python",
      "name": "python",
      "nbconvert_exporter": "python",
      "pygments_lexer": "ipython3",
      "version": "3.9.11"
    },
    "colab": {
      "provenance": []
    }
  },
  "nbformat": 4,
  "nbformat_minor": 5
}