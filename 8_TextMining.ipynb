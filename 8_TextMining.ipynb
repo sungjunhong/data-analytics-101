{
  "cells": [
    {
      "cell_type": "markdown",
      "id": "da8d21be-8131-4f55-896d-5de3e8eaacca",
      "metadata": {
        "id": "da8d21be-8131-4f55-896d-5de3e8eaacca"
      },
      "source": [
        "# 여덟째마당. 텍스트 마이닝"
      ]
    },
    {
      "cell_type": "markdown",
      "id": "58d73751-7356-496f-a3f3-21e11f286530",
      "metadata": {
        "id": "58d73751-7356-496f-a3f3-21e11f286530"
      },
      "source": [
        "## 대통령 후보자 연설문 텍스트 마이닝\n",
        "\n",
        "### `KoNLPy` 패키지 설치하기\n",
        "\n",
        "#### 1. 자바 설치하기\n",
        "\n",
        "#### 2. `KoNLPy` 의존성 패키지 설치하기"
      ]
    },
    {
      "cell_type": "code",
      "source": [
        "!pip install jpype1"
      ],
      "metadata": {
        "id": "f4bea35c-f36d-4791-90f5-3876b90a8f77"
      },
      "id": "f4bea35c-f36d-4791-90f5-3876b90a8f77",
      "execution_count": null,
      "outputs": []
    },
    {
      "cell_type": "markdown",
      "id": "f4054f3c",
      "metadata": {
        "id": "f4054f3c"
      },
      "source": [
        "#### 3. `KoNLPy` 설치하기"
      ]
    },
    {
      "cell_type": "code",
      "source": [
        "!pip install konlpy"
      ],
      "metadata": {
        "id": "aaf81e91-723c-4fab-b1b2-dae79e203c61"
      },
      "id": "aaf81e91-723c-4fab-b1b2-dae79e203c61",
      "execution_count": null,
      "outputs": []
    },
    {
      "cell_type": "markdown",
      "id": "a22e9920",
      "metadata": {
        "id": "a22e9920"
      },
      "source": [
        "### 가장 많이 사용된 단어 알아보기\n",
        "\n",
        "#### 1. 연설문 불러오기"
      ]
    },
    {
      "cell_type": "code",
      "source": [
        "from google.colab import drive\n",
        "\n",
        "drive.mount('/content/gdrive')\n",
        "path = '/content/gdrive/MyDrive/data-analytics-101/data/'"
      ],
      "metadata": {
        "id": "qc2uNCWDnnCo"
      },
      "id": "qc2uNCWDnnCo",
      "execution_count": null,
      "outputs": []
    },
    {
      "cell_type": "code",
      "execution_count": null,
      "id": "36d2de2f",
      "metadata": {
        "eval": false,
        "id": "36d2de2f"
      },
      "outputs": [],
      "source": [
        "speech = open(path + 'speech_moon.txt', encoding = 'UTF-8').read()\n",
        "speech"
      ]
    },
    {
      "cell_type": "markdown",
      "id": "86d0499e",
      "metadata": {
        "id": "86d0499e"
      },
      "source": [
        "#### 2. 불필요한 문자 제거하기"
      ]
    },
    {
      "cell_type": "code",
      "execution_count": null,
      "id": "2d2597e1",
      "metadata": {
        "eval": false,
        "id": "2d2597e1"
      },
      "outputs": [],
      "source": [
        "# 불필요한 문자 제거하기\n",
        "import re\n",
        "speech = re.sub('[^가-힣]', ' ', speech)\n",
        "speech"
      ]
    },
    {
      "cell_type": "markdown",
      "id": "171c4f3e",
      "metadata": {
        "id": "171c4f3e"
      },
      "source": [
        "#### 3. 명사 추출하기"
      ]
    },
    {
      "cell_type": "code",
      "execution_count": null,
      "id": "c95d2f84-1bc3-4160-8872-61bf7dd4985e",
      "metadata": {
        "id": "c95d2f84-1bc3-4160-8872-61bf7dd4985e"
      },
      "outputs": [],
      "source": [
        "# hannanum 만들기\n",
        "import konlpy\n",
        "hannanum = konlpy.tag.Hannanum()"
      ]
    },
    {
      "cell_type": "code",
      "execution_count": null,
      "id": "aa51ab3c-4b18-4855-ade3-41efd1cbad5d",
      "metadata": {
        "id": "aa51ab3c-4b18-4855-ade3-41efd1cbad5d"
      },
      "outputs": [],
      "source": [
        "# 명사 추출하기\n",
        "hannanum.nouns(\"대한민국의 영토는 한반도와 그 부속도서로 한다\")"
      ]
    },
    {
      "cell_type": "code",
      "execution_count": null,
      "id": "ba21a16e",
      "metadata": {
        "eval": false,
        "id": "ba21a16e"
      },
      "outputs": [],
      "source": [
        "# 연설문에서 명사 추출하기\n",
        "nouns = hannanum.nouns(speech)\n",
        "nouns"
      ]
    },
    {
      "cell_type": "code",
      "execution_count": null,
      "id": "57adc72a",
      "metadata": {
        "id": "57adc72a"
      },
      "outputs": [],
      "source": [
        "# 데이터 프레임으로 변환\n",
        "import pandas as pd\n",
        "df_word = pd.DataFrame({'word' : nouns})\n",
        "df_word"
      ]
    },
    {
      "cell_type": "markdown",
      "id": "e1e75a87",
      "metadata": {
        "id": "e1e75a87"
      },
      "source": [
        "#### 4. 단어 빈도표 만들기"
      ]
    },
    {
      "cell_type": "code",
      "execution_count": null,
      "id": "b2d1aa62",
      "metadata": {
        "id": "b2d1aa62"
      },
      "outputs": [],
      "source": [
        "# 글자 수 추가\n",
        "df_word['count'] = df_word['word'].str.len()\n",
        "df_word"
      ]
    },
    {
      "cell_type": "code",
      "execution_count": null,
      "id": "07532be0",
      "metadata": {
        "id": "07532be0"
      },
      "outputs": [],
      "source": [
        "# 두 글자 이상 단어만 남기기\n",
        "df_word = df_word.query('count >= 2')\n",
        "df_word.sort_values('count')"
      ]
    },
    {
      "cell_type": "code",
      "execution_count": null,
      "id": "4d2b81bc",
      "metadata": {
        "id": "4d2b81bc"
      },
      "outputs": [],
      "source": [
        "## 단어 빈도 구하기\n",
        "\n",
        "# 단어별 분리\n",
        "# 빈도 구하기\n",
        "# 내림차순 정렬\n",
        "df_word = df_word.groupby('word', as_index = False) \\\n",
        "                 .agg(n = ('word', 'count')) \\\n",
        "                 .sort_values('n', ascending = False)\n",
        "df_word"
      ]
    },
    {
      "cell_type": "markdown",
      "id": "695b1542",
      "metadata": {
        "id": "695b1542"
      },
      "source": [
        "#### 5. 단어 빈도 막대 그래프 만들기"
      ]
    },
    {
      "cell_type": "code",
      "execution_count": null,
      "id": "4743cb1e",
      "metadata": {
        "id": "4743cb1e"
      },
      "outputs": [],
      "source": [
        "# 단어 빈도 상위 20개 추출\n",
        "top20 = df_word.head(20)\n",
        "top20"
      ]
    },
    {
      "cell_type": "code",
      "execution_count": null,
      "id": "9fb21fb9",
      "metadata": {
        "eval": false,
        "fig.show": "hide",
        "id": "9fb21fb9"
      },
      "outputs": [],
      "source": [
        "import seaborn as sns\n",
        "import matplotlib.pyplot as plt\n",
        "\n",
        "plt.rcParams.update({'font.family'    : 'Malgun Gothic',  # 한글 폰트 설정\n",
        "                     'figure.dpi'     : '120',            # 해상도 설정\n",
        "                     'figure.figsize' : [6.5, 6]})        # 가로 세로 크기 설정\n",
        "\n",
        "# 막대 그래프 만들기\n",
        "sns.barplot(data = top20, y = 'word', x = 'n')"
      ]
    },
    {
      "cell_type": "code",
      "source": [
        "!sudo apt-get install -y fonts-nanum\n",
        "!sudo fc-cache -fv\n",
        "!rm ~/.cache/matplotlib -rf"
      ],
      "metadata": {
        "id": "s6eEPPc7mA4M"
      },
      "id": "s6eEPPc7mA4M",
      "execution_count": null,
      "outputs": []
    },
    {
      "cell_type": "code",
      "source": [
        "font = 'NanumBarunGothic'"
      ],
      "metadata": {
        "id": "gxQewNSxpMNO"
      },
      "id": "gxQewNSxpMNO",
      "execution_count": null,
      "outputs": []
    },
    {
      "cell_type": "code",
      "source": [
        "plt.rcParams.update({'font.family'    : font,  # 한글 폰트 설정\n",
        "                     'figure.dpi'     : '120',            # 해상도 설정\n",
        "                     'figure.figsize' : [6.5, 6]})        # 가로 세로 크기 설정\n",
        "sns.barplot(data = top20, y = 'word', x = 'n')"
      ],
      "metadata": {
        "id": "zh_uKqxlmMC4"
      },
      "id": "zh_uKqxlmMC4",
      "execution_count": null,
      "outputs": []
    },
    {
      "cell_type": "markdown",
      "id": "4c696e34",
      "metadata": {
        "id": "4c696e34"
      },
      "source": [
        "### 워드 클라우드 만들기\n",
        "\n",
        "#### 1. `wordcloud` 패키지 설치하기"
      ]
    },
    {
      "cell_type": "code",
      "source": [
        "!pip install wordcloud"
      ],
      "metadata": {
        "id": "2e6b25a2-e391-48bd-8dd6-0dc5c897a7d4"
      },
      "id": "2e6b25a2-e391-48bd-8dd6-0dc5c897a7d4",
      "execution_count": null,
      "outputs": []
    },
    {
      "cell_type": "markdown",
      "id": "a7487435",
      "metadata": {
        "id": "a7487435"
      },
      "source": [
        "#### 2. 단어와 빈도를 담은 딕셔너리 만들기"
      ]
    },
    {
      "cell_type": "code",
      "execution_count": null,
      "id": "ee259c9f",
      "metadata": {
        "eval": false,
        "id": "ee259c9f"
      },
      "outputs": [],
      "source": [
        "# 데이터 프레임을 딕셔너리로 변환\n",
        "dic_word = df_word.set_index('word').to_dict()['n']\n",
        "dic_word"
      ]
    },
    {
      "cell_type": "markdown",
      "id": "d5323799",
      "metadata": {
        "id": "d5323799"
      },
      "source": [
        "#### 3. 워드 클라우드 만들기"
      ]
    },
    {
      "cell_type": "code",
      "execution_count": null,
      "id": "2dddc92e",
      "metadata": {
        "eval": false,
        "id": "2dddc92e"
      },
      "outputs": [],
      "source": [
        "# wc 만들기\n",
        "from wordcloud import WordCloud\n",
        "wc = WordCloud(random_state = 1234,         # 난수 고정\n",
        "               font_path = font,            # 폰트 설정\n",
        "               width = 400,                 # 가로 크기\n",
        "               height = 400,                # 세로 크기\n",
        "               background_color = 'white')  # 배경색"
      ]
    },
    {
      "cell_type": "code",
      "execution_count": null,
      "id": "f2409c9b",
      "metadata": {
        "eval": false,
        "id": "f2409c9b"
      },
      "outputs": [],
      "source": [
        "# 워드 클라우드 만들기\n",
        "img_wordcloud = wc.generate_from_frequencies(dic_word)\n",
        "\n",
        "# 워드 클라우드 출력하기\n",
        "plt.figure(figsize = (10, 10))  # 가로, 세로 크기 설정\n",
        "plt.axis('off')                 # 테두리 선 없애기\n",
        "plt.imshow(img_wordcloud)       # 워드 클라우드 출력\n",
        "plt.show()"
      ]
    },
    {
      "cell_type": "markdown",
      "id": "b07d465f",
      "metadata": {
        "id": "b07d465f"
      },
      "source": [
        "### 워드 클라우드 모양 바꾸기\n",
        "\n",
        "#### 1. mask 만들기\n"
      ]
    },
    {
      "cell_type": "code",
      "execution_count": null,
      "id": "15e290ff",
      "metadata": {
        "eval": false,
        "id": "15e290ff"
      },
      "outputs": [],
      "source": [
        "import PIL\n",
        "icon = PIL.Image.open(path + 'cloud.png')"
      ]
    },
    {
      "cell_type": "code",
      "execution_count": null,
      "id": "163b33d5",
      "metadata": {
        "id": "163b33d5"
      },
      "outputs": [],
      "source": [
        "import numpy as np\n",
        "img = PIL.Image.new('RGB', icon.size, (255, 255, 255))\n",
        "img.paste(icon, icon)\n",
        "img = np.array(img)"
      ]
    },
    {
      "cell_type": "markdown",
      "id": "4ae0db2b",
      "metadata": {
        "id": "4ae0db2b"
      },
      "source": [
        "#### 2. 워드 클라우드 만들기"
      ]
    },
    {
      "cell_type": "code",
      "execution_count": null,
      "id": "fb9f4cc8",
      "metadata": {
        "eval": false,
        "id": "fb9f4cc8"
      },
      "outputs": [],
      "source": [
        "# wc 만들기\n",
        "wc = WordCloud(random_state = 1234,         # 난수 고정\n",
        "               font_path = font,            # 폰트 설정\n",
        "               width = 400,                 # 가로 크기\n",
        "               height = 400,                # 세로 크기\n",
        "               background_color = 'white',  # 배경색\n",
        "               mask = img)                  # mask 설정"
      ]
    },
    {
      "cell_type": "code",
      "execution_count": null,
      "id": "e74ff966",
      "metadata": {
        "eval": false,
        "id": "e74ff966"
      },
      "outputs": [],
      "source": [
        "# 워드 클라우드 만들기\n",
        "img_wordcloud = wc.generate_from_frequencies(dic_word)\n",
        "\n",
        "# 워드 클라우드 출력하기\n",
        "plt.figure(figsize = (10, 10))  # 가로, 세로 크기 설정\n",
        "plt.axis('off')                 # 테두리 선 없애기\n",
        "plt.imshow(img_wordcloud)       # 워드 클라우드 출력\n",
        "plt.show()"
      ]
    },
    {
      "cell_type": "markdown",
      "id": "b7d3670c",
      "metadata": {
        "id": "b7d3670c"
      },
      "source": [
        "### 워드 클라우드 색깔 바꾸기"
      ]
    },
    {
      "cell_type": "code",
      "execution_count": null,
      "id": "cff6c077",
      "metadata": {
        "eval": false,
        "id": "cff6c077"
      },
      "outputs": [],
      "source": [
        "# wc 만들기\n",
        "wc = WordCloud(random_state = 1234,         # 난수 고정\n",
        "               font_path = font,            # 폰트 설정\n",
        "               width = 400,                 # 가로 크기\n",
        "               height = 400,                # 세로 크기\n",
        "               background_color = 'white',  # 배경색\n",
        "               mask = img,                  # mask 설정\n",
        "               colormap = 'inferno')        # 컬러맵 설정"
      ]
    },
    {
      "cell_type": "code",
      "execution_count": null,
      "id": "bac0956d",
      "metadata": {
        "eval": false,
        "id": "bac0956d"
      },
      "outputs": [],
      "source": [
        "# 워드 클라우드 만들기\n",
        "img_wordcloud = wc.generate_from_frequencies(dic_word)\n",
        "\n",
        "# 워드 클라우드 출력하기\n",
        "plt.figure(figsize = (10, 10))  # 가로, 세로 크기 설정\n",
        "plt.axis('off')                 # 테두리 선 없애기\n",
        "plt.imshow(img_wordcloud)       # 워드 클라우드 출력\n",
        "plt.show()"
      ]
    },
    {
      "cell_type": "markdown",
      "id": "32fe431f",
      "metadata": {
        "id": "32fe431f"
      },
      "source": [
        "## 기사 댓글 텍스트 마이닝\n",
        "\n",
        "### 가장 많이 사용된 단어 알아보기\n",
        "\n",
        "#### 1. 기사 댓글 불러오기"
      ]
    },
    {
      "cell_type": "code",
      "execution_count": null,
      "id": "1a31587b-7351-4889-9d7d-45f71a701203",
      "metadata": {
        "eval": false,
        "id": "1a31587b-7351-4889-9d7d-45f71a701203"
      },
      "outputs": [],
      "source": [
        "# 데이터 불러오기\n",
        "df = pd.read_csv(path + 'news_comment_BTS.csv', encoding = 'UTF-8')"
      ]
    },
    {
      "cell_type": "code",
      "execution_count": null,
      "id": "eee88d91-73d2-4bdb-a04f-f0d0b56b57f1",
      "metadata": {
        "eval": false,
        "id": "eee88d91-73d2-4bdb-a04f-f0d0b56b57f1"
      },
      "outputs": [],
      "source": [
        "# 데이터 살펴보기\n",
        "df.info()"
      ]
    },
    {
      "cell_type": "markdown",
      "id": "daf09af3",
      "metadata": {
        "id": "daf09af3"
      },
      "source": [
        "#### 2. 불필요한 문자 제거하기"
      ]
    },
    {
      "cell_type": "code",
      "execution_count": null,
      "id": "071e9d30",
      "metadata": {
        "id": "071e9d30"
      },
      "outputs": [],
      "source": [
        "# 불필요한 문자 제거하기\n",
        "df['reply'] = df['reply'].str.replace('[^가-힣]', ' ', regex = True)\n",
        "df['reply'].head()"
      ]
    },
    {
      "cell_type": "markdown",
      "id": "682c429f",
      "metadata": {
        "id": "682c429f"
      },
      "source": [
        "#### 3. 명사 추출하기"
      ]
    },
    {
      "cell_type": "code",
      "execution_count": null,
      "id": "80019af0",
      "metadata": {
        "id": "80019af0"
      },
      "outputs": [],
      "source": [
        "# kkma 만들기\n",
        "import konlpy\n",
        "kkma = konlpy.tag.Kkma()"
      ]
    },
    {
      "cell_type": "code",
      "execution_count": null,
      "id": "769625bf",
      "metadata": {
        "id": "769625bf"
      },
      "outputs": [],
      "source": [
        "# 명사 추출 - apply() 활용\n",
        "nouns = df['reply'].apply(kkma.nouns)\n",
        "nouns"
      ]
    },
    {
      "cell_type": "markdown",
      "id": "b360e085",
      "metadata": {
        "id": "b360e085"
      },
      "source": [
        "#### 4. 단어 빈도표 만들기"
      ]
    },
    {
      "cell_type": "code",
      "execution_count": null,
      "id": "c64962ad",
      "metadata": {
        "id": "c64962ad"
      },
      "outputs": [],
      "source": [
        "# 한 행에 한 단어가 들어가도록 구성\n",
        "nouns = nouns.explode()\n",
        "nouns"
      ]
    },
    {
      "cell_type": "code",
      "execution_count": null,
      "id": "d3bb218b",
      "metadata": {
        "id": "d3bb218b"
      },
      "outputs": [],
      "source": [
        "# 데이터 프레임 만들기\n",
        "df_word = pd.DataFrame({'word' : nouns})\n",
        "\n",
        "# 글자 수 추가\n",
        "df_word['count'] = df_word['word'].str.len()\n",
        "\n",
        "# 두 글자 이상 단어만 남기기\n",
        "df_word = df_word.query('count >= 2')\n",
        "df_word"
      ]
    },
    {
      "cell_type": "code",
      "execution_count": null,
      "id": "d46e9b9a",
      "metadata": {
        "id": "d46e9b9a"
      },
      "outputs": [],
      "source": [
        "## 빈도표 만들기\n",
        "\n",
        "# 단어별 분리\n",
        "# 빈도 구하기\n",
        "# 내림차순 정렬\n",
        "df_word = df_word.groupby('word', as_index = False) \\\n",
        "                 .agg(n = ('word', 'count')) \\\n",
        "                 .sort_values('n', ascending = False)\n",
        "df_word"
      ]
    },
    {
      "cell_type": "markdown",
      "id": "4309bccc",
      "metadata": {
        "id": "4309bccc"
      },
      "source": [
        "#### 5. 단어 빈도 막대 그래프 만들기"
      ]
    },
    {
      "cell_type": "code",
      "execution_count": null,
      "id": "cfaecbde",
      "metadata": {
        "id": "cfaecbde"
      },
      "outputs": [],
      "source": [
        "# 단어 빈도 상위 20개 추출\n",
        "top20 = df_word.head(20)\n",
        "top20"
      ]
    },
    {
      "cell_type": "code",
      "execution_count": null,
      "id": "d9c2976d",
      "metadata": {
        "eval": false,
        "fig.show": "hide",
        "id": "d9c2976d"
      },
      "outputs": [],
      "source": [
        "# 가로 세로 크기 설정\n",
        "plt.rcParams.update({'figure.figsize': [6.5, 6]})\n",
        "\n",
        "# 막대 그래프 만들기\n",
        "sns.barplot(data = top20, y = 'word', x = 'n')"
      ]
    },
    {
      "cell_type": "markdown",
      "id": "312114f4",
      "metadata": {
        "id": "312114f4"
      },
      "source": [
        "### 워드 클라우드 만들기"
      ]
    },
    {
      "cell_type": "code",
      "execution_count": null,
      "id": "4e4b772c",
      "metadata": {
        "id": "4e4b772c"
      },
      "outputs": [],
      "source": [
        "# 데이터 프레임을 딕셔너리로 변환\n",
        "dic_word = df_word.set_index('word').to_dict()['n']"
      ]
    },
    {
      "cell_type": "code",
      "execution_count": null,
      "id": "b32ff7cc",
      "metadata": {
        "eval": false,
        "id": "b32ff7cc"
      },
      "outputs": [],
      "source": [
        "# wc 만들기\n",
        "wc = WordCloud(random_state = 1234,         # 난수 고정\n",
        "               font_path = font,            # 폰트 설정\n",
        "               width = 400,                 # 가로 크기\n",
        "               height = 400,                # 세로 크기\n",
        "               background_color = 'white',  # 배경색\n",
        "               mask = img)                  # mask 설정"
      ]
    },
    {
      "cell_type": "code",
      "execution_count": null,
      "id": "2b14db49",
      "metadata": {
        "eval": false,
        "id": "2b14db49"
      },
      "outputs": [],
      "source": [
        "# 워드 클라우드 만들기\n",
        "img_wordcloud = wc.generate_from_frequencies(dic_word)\n",
        "\n",
        "# 워드 클라우드 출력하기\n",
        "plt.figure(figsize = (10, 10))  # 가로, 세로 크기 설정\n",
        "plt.axis('off')                 # 테두리 선 없애기\n",
        "plt.imshow(img_wordcloud)       # 워드 클라우드 출력\n",
        "plt.show()"
      ]
    }
  ],
  "metadata": {
    "jupytext": {
      "cell_metadata_filter": "eval,name,error,fig.show,tags,echo,-all",
      "notebook_metadata_filter": "-all"
    },
    "kernelspec": {
      "display_name": "Python 3 (ipykernel)",
      "language": "python",
      "name": "python3"
    },
    "language_info": {
      "codemirror_mode": {
        "name": "ipython",
        "version": 3
      },
      "file_extension": ".py",
      "mimetype": "text/x-python",
      "name": "python",
      "nbconvert_exporter": "python",
      "pygments_lexer": "ipython3",
      "version": "3.9.11"
    },
    "colab": {
      "provenance": []
    }
  },
  "nbformat": 4,
  "nbformat_minor": 5
}