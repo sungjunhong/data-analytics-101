{
  "nbformat": 4,
  "nbformat_minor": 0,
  "metadata": {
    "colab": {
      "provenance": []
    },
    "kernelspec": {
      "name": "python3",
      "display_name": "Python 3"
    },
    "language_info": {
      "name": "python"
    }
  },
  "cells": [
    {
      "cell_type": "code",
      "source": [
        "# 나눔글꼴 설치\n",
        "!sudo apt-get install -y fonts-nanum\n",
        "!sudo fc-cache -fv\n",
        "!rm ~/.cache/matplotlib -rf"
      ],
      "metadata": {
        "id": "zUSoj-MIupD_"
      },
      "execution_count": null,
      "outputs": []
    },
    {
      "cell_type": "code",
      "source": [
        "# 그래프 기본 글꼴 설정\n",
        "import matplotlib.pyplot as plt\n",
        "\n",
        "plt.rc('font', family='NanumBarunGothic')"
      ],
      "metadata": {
        "id": "XIGu00emu9zZ"
      },
      "execution_count": null,
      "outputs": []
    },
    {
      "cell_type": "code",
      "source": [
        "# pandas 패키지 업데이트\n",
        "!pip install --upgrade 'pandas>=1.4.0'"
      ],
      "metadata": {
        "id": "-muTZCDJ6USf"
      },
      "execution_count": null,
      "outputs": []
    },
    {
      "cell_type": "markdown",
      "metadata": {
        "tags": [],
        "id": "84557add-2955-4498-b97a-fab479205142"
      },
      "source": [
        "# 일곱째마당. 실전 데이터 분석 프로젝트"
      ]
    },
    {
      "cell_type": "markdown",
      "source": [
        "## 한국인의 삶 분석하기 (feat. 한국복지패널 데이터)"
      ],
      "metadata": {
        "id": "AUUo_4083Uy9"
      }
    },
    {
      "cell_type": "markdown",
      "metadata": {
        "id": "440f9faf-b566-48ea-92d4-68da91c884e0"
      },
      "source": [
        "### '한국복지패널 데이터' 준비하기"
      ]
    },
    {
      "cell_type": "markdown",
      "source": [
        "* **'[한국복지패널 데이터](https://www.koweps.re.kr:442/data/data/list.do)'**는 한국보건사회연구원에서 우리나라 가구의 경제활동을 연구해 복지정책에 반영할 목적으로 발간하는 조사 자료\n",
        "* 전국에서 7,000여 가구를 선정해 2006년부터 매년 추적 조사한 자료로, 경제활동, 생활실태, 복지욕구 등 천여 개의 변수로 구성되어 있음\n",
        "* 다양한 분야의 연구자와 정책전문가들이 한국복지패널 데이터를 분석하여 논문과 연구보고서를 발표함"
      ],
      "metadata": {
        "id": "CG2BwdvH3qw2"
      }
    },
    {
      "cell_type": "markdown",
      "metadata": {
        "id": "ba00bbc8-e705-4a60-8e6a-ff5d842c5538"
      },
      "source": [
        "#### 데이터 분석 준비하기"
      ]
    },
    {
      "cell_type": "markdown",
      "source": [
        "##### 1. 데이터 준비하기"
      ],
      "metadata": {
        "id": "LpyoiyZs4aZQ"
      }
    },
    {
      "cell_type": "markdown",
      "source": [
        "* [Koweps_hpwc14_2019_beta2.sav](https://bit.ly/Koweps_hpwc14_2019_beta2) 다운로드\n",
        "* 실습용 데이터 폴더(`/data`)에 업로드를 진행"
      ],
      "metadata": {
        "id": "0DjIsV9M4hy9"
      }
    },
    {
      "cell_type": "markdown",
      "metadata": {
        "id": "3fa6ca30-2495-41ca-a399-1c226b4fc111"
      },
      "source": [
        "##### 2. 추가 패키지 설치"
      ]
    },
    {
      "cell_type": "markdown",
      "source": [
        "`.sav` 파일은 통계 분석 소프트웨어 SPSS 전용 파일로 pandas 기본 패키지에서는 불러올 수 없어 `pyreadstat` 모듈이 추가로 필요"
      ],
      "metadata": {
        "id": "ot-fS4AP6hXR"
      }
    },
    {
      "cell_type": "code",
      "source": [
        "!pip install pyreadstat"
      ],
      "metadata": {
        "id": "9ac6d93a-979a-44d9-9bbb-70716c7531df"
      },
      "execution_count": null,
      "outputs": []
    },
    {
      "cell_type": "markdown",
      "metadata": {
        "id": "c553ee15"
      },
      "source": [
        "##### 3. 데이터 불러오기"
      ]
    },
    {
      "cell_type": "code",
      "source": [
        "from google.colab import drive\n",
        "\n",
        "drive.mount('/content/gdrive')\n",
        "path = '/content/gdrive/MyDrive/data-analytics-101/data/'"
      ],
      "metadata": {
        "id": "9VVoFqKR6V36"
      },
      "execution_count": null,
      "outputs": []
    },
    {
      "cell_type": "code",
      "execution_count": null,
      "metadata": {
        "id": "d79d23d4"
      },
      "outputs": [],
      "source": [
        "import pandas as pd\n",
        "import numpy as np\n",
        "import seaborn as sns"
      ]
    },
    {
      "cell_type": "code",
      "execution_count": null,
      "metadata": {
        "eval": false,
        "id": "2f2bc49f"
      },
      "outputs": [],
      "source": [
        "welfare_raw = pd.read_spss(path + 'Koweps_hpwc14_2019_beta2.sav')"
      ]
    },
    {
      "cell_type": "code",
      "source": [
        "welfare = welfare_raw.copy()"
      ],
      "metadata": {
        "id": "tl9OZ7hp7p-j"
      },
      "execution_count": null,
      "outputs": []
    },
    {
      "cell_type": "markdown",
      "metadata": {
        "id": "d3653496"
      },
      "source": [
        "##### 4. 전체 데이터 검토하기"
      ]
    },
    {
      "cell_type": "code",
      "execution_count": null,
      "metadata": {
        "eval": false,
        "id": "4e362c2e-b484-4f8c-925e-275f3389daa6"
      },
      "outputs": [],
      "source": [
        "welfare.head()"
      ]
    },
    {
      "cell_type": "code",
      "source": [
        "welfare.tail()"
      ],
      "metadata": {
        "id": "ABq9coPJ7zT9"
      },
      "execution_count": null,
      "outputs": []
    },
    {
      "cell_type": "code",
      "execution_count": null,
      "metadata": {
        "eval": false,
        "id": "bc164146-4793-458d-9882-8da8190cf68f"
      },
      "outputs": [],
      "source": [
        "welfare.shape"
      ]
    },
    {
      "cell_type": "code",
      "execution_count": null,
      "metadata": {
        "eval": false,
        "id": "872665e6-1dca-4339-8309-ef7c5ff423e9"
      },
      "outputs": [],
      "source": [
        "welfare.info()"
      ]
    },
    {
      "cell_type": "code",
      "execution_count": null,
      "metadata": {
        "eval": false,
        "id": "d382ce64-310b-4910-84a9-41af3c710dad"
      },
      "outputs": [],
      "source": [
        "welfare.describe()"
      ]
    },
    {
      "cell_type": "markdown",
      "metadata": {
        "id": "3c72cb13"
      },
      "source": [
        "##### 5. 변수명 바꾸기"
      ]
    },
    {
      "cell_type": "markdown",
      "source": [
        "- 규모가 큰 조사 자료는 코드로 된 변수명과 값의 의미를 놓은 코드북(codebook)을 함께 제공\n",
        "- 코드북을 활용하면 분석에 어떤 변수를 사용할지 등의 분석 방향에 대한 아이디어를 얻을 수 있음"
      ],
      "metadata": {
        "id": "uYtv0sj99KpF"
      }
    },
    {
      "cell_type": "markdown",
      "source": [
        "![image.png](data:image/png;base64,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)"
      ],
      "metadata": {
        "id": "qMc1QD_2-K52"
      }
    },
    {
      "cell_type": "markdown",
      "source": [
        "코드북을 참고하여 분석 프로젝트에 사용할 7개의 변수명을 쉬운 단어로 변경"
      ],
      "metadata": {
        "id": "Vp_9xTbp-URd"
      }
    },
    {
      "cell_type": "code",
      "execution_count": null,
      "metadata": {
        "id": "1b17969d"
      },
      "outputs": [],
      "source": [
        "welfare = welfare.rename(columns = {'h14_g3'     : 'sex',            #  성별\n",
        "                                    'h14_g4'     : 'birth',          #  태어난 연도\n",
        "                                    'h14_g10'    : 'marriage_type',  #  혼인 상태\n",
        "                                    'h14_g11'    : 'religion',       #  종교 \n",
        "                                    'p1402_8aq1' : 'income',         #  월급 \n",
        "                                    'h14_eco9'   : 'code_job',       #  직업 코드\n",
        "                                    'h14_reg7'   : 'code_region'})   #  지역 코드"
      ]
    },
    {
      "cell_type": "code",
      "source": [
        "welfare.info()  # 변수가 많아 자료 유형의 확인이 어려움"
      ],
      "metadata": {
        "id": "OAHyLlRNAq5Q"
      },
      "execution_count": null,
      "outputs": []
    },
    {
      "cell_type": "code",
      "source": [
        "welfare[['sex', 'birth', 'marriage_type', 'religion', 'income', 'code_job', 'code_region']].info()"
      ],
      "metadata": {
        "id": "yO3Krv4CZcxg"
      },
      "execution_count": null,
      "outputs": []
    },
    {
      "cell_type": "markdown",
      "source": [
        "##### 데이터 분석 절차"
      ],
      "metadata": {
        "id": "VOjLgBKy-fhe"
      }
    },
    {
      "cell_type": "markdown",
      "source": [
        "![image.png](data:image/png;base64,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)"
      ],
      "metadata": {
        "id": "vsvM5hcR-uK1"
      }
    },
    {
      "cell_type": "markdown",
      "source": [
        "**1단계. 변수 검토 및 전처리**\n",
        "\n",
        "- 변수의 특징을 파악하고 이상치와 결측치를 정제한 다음 변수의 값을 다루기 쉽게 변환\n",
        "\n",
        "**2단계. 변수 간 관계 분석**\n",
        "\n",
        "- 데이터를 요약한 표와 데이터의 특징을 쉽게 이해할 수 있는 그래프를 만든 다음 분석 결과를 해석"
      ],
      "metadata": {
        "id": "mTttlggv-lA-"
      }
    },
    {
      "cell_type": "markdown",
      "metadata": {
        "id": "4973e90e-181a-496c-a1ce-c42419ae51a3"
      },
      "source": [
        "### 1) 성별에 따른 월급 차이 분석 - 성별에 따라 월급이 정말 다를까?"
      ]
    },
    {
      "cell_type": "markdown",
      "source": [
        "![image.png](data:image/png;base64,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)"
      ],
      "metadata": {
        "id": "HR8QaUHh_ssE"
      }
    },
    {
      "cell_type": "markdown",
      "metadata": {
        "id": "ef8df942-a714-4fc5-814d-561ab884c3b1"
      },
      "source": [
        "#### 성별 변수 검토 및 전처리하기"
      ]
    },
    {
      "cell_type": "markdown",
      "source": [
        "|sex|의미|\n",
        "|-|-|\n",
        "|1|남|\n",
        "|2|여|\n",
        "|9|모름/무응답|"
      ],
      "metadata": {
        "id": "KOL6Z9nmAIBj"
      }
    },
    {
      "cell_type": "code",
      "execution_count": null,
      "metadata": {
        "id": "3a8f8601"
      },
      "outputs": [],
      "source": [
        "# 변수 타입 확인\n",
        "welfare['sex'].dtypes"
      ]
    },
    {
      "cell_type": "code",
      "execution_count": null,
      "metadata": {
        "id": "2ea9a91f"
      },
      "outputs": [],
      "source": [
        "# 이상치 확인\n",
        "welfare['sex'].value_counts()"
      ]
    },
    {
      "cell_type": "code",
      "source": [
        "# 이상치 결측 처리 (optional)\n",
        "welfare['sex'] = np.where(welfare['sex'] == 9, np.nan, welfare['sex'])\n",
        "welfare['sex'].isna().sum()"
      ],
      "metadata": {
        "id": "dbZT6tKhBKVB"
      },
      "execution_count": null,
      "outputs": []
    },
    {
      "cell_type": "code",
      "source": [
        "# 성별을 직관적인 문자열로 치환\n",
        "welfare['sex'] = np.where(welfare['sex'] == 1, 'male', 'female')\n",
        "welfare['sex'].value_counts()"
      ],
      "metadata": {
        "id": "X3L2vGgpBbOi"
      },
      "execution_count": null,
      "outputs": []
    },
    {
      "cell_type": "code",
      "source": [
        "# 빈도 막대 그래프\n",
        "sns.countplot(data=welfare, x='sex')"
      ],
      "metadata": {
        "id": "UusVcRqdBlt3"
      },
      "execution_count": null,
      "outputs": []
    },
    {
      "cell_type": "markdown",
      "metadata": {
        "id": "0c1c30c6"
      },
      "source": [
        "#### 월급 변수 검토 및 전처리하기"
      ]
    },
    {
      "cell_type": "markdown",
      "source": [
        "|문항내용|모름/무응답|\n",
        "|-|-|\n",
        "|만원|9999|"
      ],
      "metadata": {
        "id": "trRPlmUPa0Oe"
      }
    },
    {
      "cell_type": "code",
      "execution_count": null,
      "metadata": {
        "id": "4d16dd00"
      },
      "outputs": [],
      "source": [
        "# 변수 타입 확인\n",
        "welfare['income'].dtypes"
      ]
    },
    {
      "cell_type": "code",
      "execution_count": null,
      "metadata": {
        "id": "567a20e5"
      },
      "outputs": [],
      "source": [
        "# 요약 통계량 구하기\n",
        "welfare['income'].describe()"
      ]
    },
    {
      "cell_type": "code",
      "execution_count": null,
      "metadata": {
        "eval": false,
        "id": "3adad7d1"
      },
      "outputs": [],
      "source": [
        "# 히스토그램 그리기\n",
        "sns.histplot(data = welfare, x = 'income')"
      ]
    },
    {
      "cell_type": "code",
      "execution_count": null,
      "metadata": {
        "id": "3f2999f0"
      },
      "outputs": [],
      "source": [
        "# 결측치 확인\n",
        "welfare['income'].isna().sum()"
      ]
    },
    {
      "cell_type": "code",
      "execution_count": null,
      "metadata": {
        "eval": false,
        "id": "d5edafa9"
      },
      "outputs": [],
      "source": [
        "# 이상치 결측 처리 (optional)\n",
        "welfare['income'] = np.where(welfare['income'] == 9999, np.nan, welfare['income'])"
      ]
    },
    {
      "cell_type": "code",
      "source": [
        "# 결측치 확인\n",
        "welfare['income'].isna().sum()"
      ],
      "metadata": {
        "id": "Y9JYhciOblJH"
      },
      "execution_count": null,
      "outputs": []
    },
    {
      "cell_type": "markdown",
      "metadata": {
        "id": "f29b769b"
      },
      "source": [
        "#### 성별에 따른 월급 차이 분석하기"
      ]
    },
    {
      "cell_type": "markdown",
      "source": [
        "##### 1. 성별 월급 평균표 만들기"
      ],
      "metadata": {
        "id": "eygpK_2mcQZY"
      }
    },
    {
      "cell_type": "code",
      "execution_count": null,
      "metadata": {
        "id": "1dfad869"
      },
      "outputs": [],
      "source": [
        "# income 결측치 제거, \n",
        "# sex별 분리,\n",
        "# income 평균 구하기\n",
        "sex_income = welfare.dropna(subset = ['income']) \\\n",
        "                    .groupby('sex', as_index = False) \\\n",
        "                    .agg(mean_income = ('income', 'mean'))\n",
        "sex_income"
      ]
    },
    {
      "cell_type": "markdown",
      "metadata": {
        "id": "a09e2e54"
      },
      "source": [
        "##### 2. 그래프 만들기"
      ]
    },
    {
      "cell_type": "code",
      "execution_count": null,
      "metadata": {
        "eval": false,
        "id": "10f5d3f8"
      },
      "outputs": [],
      "source": [
        "# 막대 그래프 만들기\n",
        "sns.barplot(data = sex_income, x = 'sex', y = 'mean_income')  "
      ]
    },
    {
      "cell_type": "markdown",
      "metadata": {
        "id": "f86fab2e"
      },
      "source": [
        "### 2) 나이와 월급의 관계 - 월급을 가장 많는 나이는 몇 살일까?"
      ]
    },
    {
      "cell_type": "markdown",
      "source": [
        "![image.png](data:image/png;base64,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)"
      ],
      "metadata": {
        "id": "MgoMrAZhkipv"
      }
    },
    {
      "cell_type": "markdown",
      "source": [
        "#### 나이 변수 검토 및 전처리하기"
      ],
      "metadata": {
        "id": "YtqPetCtc6QE"
      }
    },
    {
      "cell_type": "markdown",
      "source": [
        "|문항내용|모름/무응답|\n",
        "|-|-|\n",
        "|만원|9999|"
      ],
      "metadata": {
        "id": "jIQzBp2odeM-"
      }
    },
    {
      "cell_type": "code",
      "execution_count": null,
      "metadata": {
        "id": "861c3bf4"
      },
      "outputs": [],
      "source": [
        "# 변수 타입 확인\n",
        "welfare['birth'].dtypes"
      ]
    },
    {
      "cell_type": "code",
      "execution_count": null,
      "metadata": {
        "id": "7604c8ff"
      },
      "outputs": [],
      "source": [
        "# 요약 통계량 구하기\n",
        "welfare['birth'].describe()"
      ]
    },
    {
      "cell_type": "code",
      "execution_count": null,
      "metadata": {
        "eval": false,
        "id": "d79f323e"
      },
      "outputs": [],
      "source": [
        "# 히스토그램 만들기\n",
        "sns.histplot(data = welfare, x = 'birth')"
      ]
    },
    {
      "cell_type": "code",
      "execution_count": null,
      "metadata": {
        "id": "531b1090"
      },
      "outputs": [],
      "source": [
        "# 이상치 확인\n",
        "welfare['birth'].describe()"
      ]
    },
    {
      "cell_type": "code",
      "execution_count": null,
      "metadata": {
        "id": "eb63165b"
      },
      "outputs": [],
      "source": [
        "# 결측치 확인\n",
        "welfare['birth'].isna().sum()"
      ]
    },
    {
      "cell_type": "code",
      "execution_count": null,
      "metadata": {
        "eval": false,
        "id": "87acb792"
      },
      "outputs": [],
      "source": [
        "# 이상치 결측 처리 (optional)\n",
        "welfare['birth'] = np.where(welfare['birth'] == 9999, np.nan, welfare['birth'])\n",
        "\n",
        "# 결측치 확인\n",
        "welfare['birth'].isna().sum()"
      ]
    },
    {
      "cell_type": "markdown",
      "metadata": {
        "id": "757ff7ce"
      },
      "source": [
        "##### 파생변수 만들기 - 나이"
      ]
    },
    {
      "cell_type": "code",
      "execution_count": null,
      "metadata": {
        "id": "0e9de17c"
      },
      "outputs": [],
      "source": [
        "# 나이 변수 만들기\n",
        "welfare = welfare.assign(age = 2019 - welfare['birth'] + 1)"
      ]
    },
    {
      "cell_type": "code",
      "source": [
        "# 요약 통계량 구하기\n",
        "welfare['age'].describe()"
      ],
      "metadata": {
        "id": "XA0wUgTod1b2"
      },
      "execution_count": null,
      "outputs": []
    },
    {
      "cell_type": "code",
      "execution_count": null,
      "metadata": {
        "eval": false,
        "id": "9d09266a"
      },
      "outputs": [],
      "source": [
        "# 히스토그램 만들기\n",
        "sns.histplot(data = welfare, x = 'age')"
      ]
    },
    {
      "cell_type": "markdown",
      "metadata": {
        "id": "834ef6ee"
      },
      "source": [
        "#### 나이와 월급의 관계 분석하기"
      ]
    },
    {
      "cell_type": "markdown",
      "source": [
        "##### 1. 나이에 따른 월급 평균표 만들기"
      ],
      "metadata": {
        "id": "w7nYFYMmd-n-"
      }
    },
    {
      "cell_type": "code",
      "execution_count": null,
      "metadata": {
        "id": "a01f170d"
      },
      "outputs": [],
      "source": [
        "# income 결측치 제거\n",
        "# age별 분리\n",
        "# income 평균 구하기\n",
        "age_income = welfare.dropna(subset = ['income']) \\\n",
        "                    .groupby('age', as_index=False) \\\n",
        "                    .agg(mean_income = ('income', 'mean'))\n",
        "age_income.head()"
      ]
    },
    {
      "cell_type": "markdown",
      "metadata": {
        "id": "4f2e5974"
      },
      "source": [
        "##### 2. 그래프 만들기"
      ]
    },
    {
      "cell_type": "code",
      "execution_count": null,
      "metadata": {
        "eval": false,
        "id": "8ba9470c"
      },
      "outputs": [],
      "source": [
        "# 선 그래프 만들기\n",
        "sns.lineplot(data = age_income, x = 'age', y = 'mean_income')  "
      ]
    },
    {
      "cell_type": "code",
      "source": [
        "# 막대 그래프 만들기?\n",
        "sns.barplot(data = age_income, x = 'age', y = 'mean_income')  "
      ],
      "metadata": {
        "id": "s6zFCZriiugu"
      },
      "execution_count": null,
      "outputs": []
    },
    {
      "cell_type": "markdown",
      "metadata": {
        "id": "b5dbddcd"
      },
      "source": [
        "### 3) 연령대에 따른 월급 차이 - 어떤 연령대가 월급이 가장 많을까?"
      ]
    },
    {
      "cell_type": "markdown",
      "source": [
        "![image.png](data:image/png;base64,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)"
      ],
      "metadata": {
        "id": "KXKCx6P9lJKm"
      }
    },
    {
      "cell_type": "markdown",
      "source": [
        "|범주|기준|\n",
        "|-|-|\n",
        "|초년층|30세 미만|\n",
        "|중년층|30세 이상 60세 미만|\n",
        "|장년층|60세 이상|"
      ],
      "metadata": {
        "id": "8iOJtT8Kp9gL"
      }
    },
    {
      "cell_type": "markdown",
      "source": [
        "#### 연령대 변수 검토 및 전처리하기"
      ],
      "metadata": {
        "id": "4u90AHnkjPxX"
      }
    },
    {
      "cell_type": "code",
      "execution_count": null,
      "metadata": {
        "id": "434111bf"
      },
      "outputs": [],
      "source": [
        "# 나이 변수 살펴보기\n",
        "welfare['age'].head()"
      ]
    },
    {
      "cell_type": "code",
      "execution_count": null,
      "metadata": {
        "id": "14d84e59"
      },
      "outputs": [],
      "source": [
        "# 파생변수 추가하기\n",
        "welfare = welfare.assign(ageg = np.where(welfare['age'] <  30, 'young',\n",
        "                                np.where(welfare['age'] <= 59, 'middle', 'old')))"
      ]
    },
    {
      "cell_type": "code",
      "source": [
        "# 빈도 구하기\n",
        "welfare['ageg'].value_counts()"
      ],
      "metadata": {
        "id": "apS3GKZAj6ZJ"
      },
      "execution_count": null,
      "outputs": []
    },
    {
      "cell_type": "code",
      "execution_count": null,
      "metadata": {
        "eval": false,
        "name": "p_ageg",
        "id": "17ab826c"
      },
      "outputs": [],
      "source": [
        "# 빈도 막대 그래프 만들기\n",
        "sns.countplot(data = welfare, x = 'ageg')"
      ]
    },
    {
      "cell_type": "markdown",
      "metadata": {
        "id": "31542b89"
      },
      "source": [
        "#### 연령대에 따른 월급 차이 분석하기"
      ]
    },
    {
      "cell_type": "markdown",
      "source": [
        "##### 1. 연령대별 월급 평균표 만들기"
      ],
      "metadata": {
        "id": "njpAnfHEjpSO"
      }
    },
    {
      "cell_type": "code",
      "execution_count": null,
      "metadata": {
        "id": "1a48caa7"
      },
      "outputs": [],
      "source": [
        "# income 결측치 제거\n",
        "# ageg별 분리\n",
        "# income 평균 구하기\n",
        "ageg_income = welfare.dropna(subset = ['income']) \\\n",
        "                     .groupby('ageg', as_index = False) \\\n",
        "                     .agg(mean_income = ('income', 'mean'))\n",
        "ageg_income"
      ]
    },
    {
      "cell_type": "markdown",
      "metadata": {
        "id": "99b63226"
      },
      "source": [
        "##### 2. 막대 그래프 만들기"
      ]
    },
    {
      "cell_type": "code",
      "execution_count": null,
      "metadata": {
        "eval": false,
        "name": "p_ageg_income",
        "id": "6bd6ae9f"
      },
      "outputs": [],
      "source": [
        "sns.barplot(data = ageg_income, x = 'ageg', y = 'mean_income')"
      ]
    },
    {
      "cell_type": "code",
      "execution_count": null,
      "metadata": {
        "eval": false,
        "name": "p_ageg_income_reorder",
        "id": "1c6e69b3"
      },
      "outputs": [],
      "source": [
        "# 막대 순서 바꾸기\n",
        "sns.barplot(data = ageg_income, x = 'ageg', y = 'mean_income',\n",
        "            order = ['young', 'middle', 'old'])"
      ]
    },
    {
      "cell_type": "markdown",
      "source": [
        "#### 나이대별(10대, 20대, ...) 월급 차이 분석하기?"
      ],
      "metadata": {
        "id": "IroXt6_EkzOY"
      }
    },
    {
      "cell_type": "code",
      "source": [
        "age_income.head()"
      ],
      "metadata": {
        "id": "IXJJtnJhnKRj"
      },
      "execution_count": null,
      "outputs": []
    },
    {
      "cell_type": "code",
      "source": [
        "# 나이대 파생변수 생성\n",
        "age_income['age_group'] = age_income['age'] // 10 * 10\n",
        "age_income.head()"
      ],
      "metadata": {
        "id": "B0aM5hUlnN-E"
      },
      "execution_count": null,
      "outputs": []
    },
    {
      "cell_type": "code",
      "source": [
        "sns.barplot(data = age_income, x = 'age_group', y = 'mean_income')"
      ],
      "metadata": {
        "id": "vlMN_n3inU_w"
      },
      "execution_count": null,
      "outputs": []
    },
    {
      "cell_type": "markdown",
      "metadata": {
        "id": "bf9714f1"
      },
      "source": [
        "### 4) 연령대 및 성별 월급 차이 - 성별 월급 차이는 연령대별로 다를까?"
      ]
    },
    {
      "cell_type": "markdown",
      "source": [
        "![image.png](data:image/png;base64,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)"
      ],
      "metadata": {
        "id": "3D8oamHUsbQW"
      }
    },
    {
      "cell_type": "markdown",
      "source": [
        "#### 연령대 및 성별 월급 차이 분석하기"
      ],
      "metadata": {
        "id": "WBPjK49LpbO_"
      }
    },
    {
      "cell_type": "markdown",
      "source": [
        "##### 1. 연령대 및 성별 월급 평균표 만들기"
      ],
      "metadata": {
        "id": "XLHukiJ3pdJr"
      }
    },
    {
      "cell_type": "code",
      "execution_count": null,
      "metadata": {
        "id": "8d1aa221"
      },
      "outputs": [],
      "source": [
        "# income 결측치 제거\n",
        "# ageg 및 sex별 분리\n",
        "# income 평균 구하기\n",
        "sex_income = welfare.dropna(subset = ['income']) \\\n",
        "                    .groupby(['ageg', 'sex'], as_index = False) \\\n",
        "                    .agg(mean_income = ('income', 'mean'))\n",
        "sex_income"
      ]
    },
    {
      "cell_type": "markdown",
      "metadata": {
        "id": "19c531e2"
      },
      "source": [
        "##### 2. 막대 그래프 만들기"
      ]
    },
    {
      "cell_type": "code",
      "execution_count": null,
      "metadata": {
        "eval": false,
        "name": "p_ageg_sex_income",
        "id": "cef50541"
      },
      "outputs": [],
      "source": [
        "sns.barplot(data = sex_income, x = 'ageg', y = 'mean_income', hue = 'sex',\n",
        "            order = ['young', 'middle', 'old'])"
      ]
    },
    {
      "cell_type": "markdown",
      "metadata": {
        "id": "a0f92cda"
      },
      "source": [
        "#### 나이 및 성별 월급 차이 분석하기"
      ]
    },
    {
      "cell_type": "markdown",
      "source": [
        "##### 1. 나이 및 성별 월급 평균표 만들기"
      ],
      "metadata": {
        "id": "fSam2ttnraN7"
      }
    },
    {
      "cell_type": "code",
      "execution_count": null,
      "metadata": {
        "id": "5ff0dcc9"
      },
      "outputs": [],
      "source": [
        "# income 결측치 제거\n",
        "# age 및 sex별 분리\n",
        "# income 평균 구하기\n",
        "sex_age = welfare.dropna(subset = ['income']) \\\n",
        "                 .groupby(['age', 'sex'], as_index = False) \\\n",
        "                 .agg(mean_income = ('income', 'mean'))\n",
        "sex_age.head()"
      ]
    },
    {
      "cell_type": "markdown",
      "source": [
        "##### 2. 선 그래프 만들기"
      ],
      "metadata": {
        "id": "0ulsTrPArhEk"
      }
    },
    {
      "cell_type": "code",
      "execution_count": null,
      "metadata": {
        "eval": false,
        "name": "p_sex_age",
        "id": "4e3d6d81"
      },
      "outputs": [],
      "source": [
        "sns.lineplot(data = sex_age, x = 'age', y = 'mean_income', hue = 'sex')"
      ]
    },
    {
      "cell_type": "markdown",
      "metadata": {
        "id": "9ff6f8a8"
      },
      "source": [
        "### 5) 직업별 월급 차이 - 어떤 직업이 월급을 가장 많이 받을까?"
      ]
    },
    {
      "cell_type": "markdown",
      "source": [
        "![image.png](data:image/png;base64,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)"
      ],
      "metadata": {
        "id": "yufzio5-svtM"
      }
    },
    {
      "cell_type": "markdown",
      "source": [
        "#### 직업 변수 검토 및 전처리하기"
      ],
      "metadata": {
        "id": "wGX-jX9Ir306"
      }
    },
    {
      "cell_type": "markdown",
      "source": [
        "##### 1. 변수 검토하기"
      ],
      "metadata": {
        "id": "UZj0ZeXJr5W4"
      }
    },
    {
      "cell_type": "code",
      "execution_count": null,
      "metadata": {
        "id": "e7ce726a"
      },
      "outputs": [],
      "source": [
        "welfare['code_job'].dtypes"
      ]
    },
    {
      "cell_type": "code",
      "source": [
        "len(welfare['code_job'].unique())"
      ],
      "metadata": {
        "id": "upcldd5LwZkM"
      },
      "execution_count": null,
      "outputs": []
    },
    {
      "cell_type": "code",
      "execution_count": null,
      "metadata": {
        "id": "ec5e7ea9"
      },
      "outputs": [],
      "source": [
        "welfare['code_job'].value_counts()"
      ]
    },
    {
      "cell_type": "markdown",
      "metadata": {
        "id": "fe8ece07"
      },
      "source": [
        "##### 2. 전처리하기"
      ]
    },
    {
      "cell_type": "code",
      "execution_count": null,
      "metadata": {
        "eval": false,
        "id": "c189147d"
      },
      "outputs": [],
      "source": [
        "# 직업분류코드 목록 불러오기\n",
        "list_job = pd.read_excel(path + 'Koweps_Codebook_2019.xlsx', sheet_name = '직종코드')\n",
        "list_job.head()"
      ]
    },
    {
      "cell_type": "code",
      "execution_count": null,
      "metadata": {
        "id": "1a0c4276"
      },
      "outputs": [],
      "source": [
        "list_job.shape"
      ]
    },
    {
      "cell_type": "code",
      "execution_count": null,
      "metadata": {
        "id": "587b97ce"
      },
      "outputs": [],
      "source": [
        "# welfare에 list_job 결합하기\n",
        "welfare = welfare.merge(list_job, how = 'left', on = 'code_job')"
      ]
    },
    {
      "cell_type": "code",
      "source": [
        "welfare[['age', 'sex', 'code_job', 'job']].head(10)"
      ],
      "metadata": {
        "id": "pOArA86Mtpo_"
      },
      "execution_count": null,
      "outputs": []
    },
    {
      "cell_type": "code",
      "source": [
        "# 결측치 확인\n",
        "welfare['code_job'].isna().sum()"
      ],
      "metadata": {
        "id": "sW473FTvt0_K"
      },
      "execution_count": null,
      "outputs": []
    },
    {
      "cell_type": "code",
      "execution_count": null,
      "metadata": {
        "id": "ba88cbdf"
      },
      "outputs": [],
      "source": [
        "# code_job 결측치 제거하고 code_job, job 출력\n",
        "welfare.dropna(subset = ['code_job'])[['code_job', 'job']].head()"
      ]
    },
    {
      "cell_type": "code",
      "source": [
        "# 가장 많은 직업 10선\n",
        "welfare['job'].value_counts().head(10)"
      ],
      "metadata": {
        "id": "PiRjGWKGvyyK"
      },
      "execution_count": null,
      "outputs": []
    },
    {
      "cell_type": "markdown",
      "metadata": {
        "id": "3208eef7"
      },
      "source": [
        "#### 직업별 월급 차이 분석하기"
      ]
    },
    {
      "cell_type": "markdown",
      "source": [
        "##### 1. 직업별 월급 평균표 만들기"
      ],
      "metadata": {
        "id": "1IvjFHrkuIgv"
      }
    },
    {
      "cell_type": "code",
      "execution_count": null,
      "metadata": {
        "id": "0f57616d"
      },
      "outputs": [],
      "source": [
        "# job, income 결측치 제거\n",
        "# job별 분리\n",
        "# income 평균 구하기\n",
        "job_income = welfare.dropna(subset = ['job', 'income']) \\\n",
        "                    .groupby('job', as_index = False) \\\n",
        "                    .agg(mean_income = ('income', 'mean'))\n",
        "job_income.head()"
      ]
    },
    {
      "cell_type": "markdown",
      "metadata": {
        "id": "06329f1b"
      },
      "source": [
        "##### 2. 그래프 만들기"
      ]
    },
    {
      "cell_type": "markdown",
      "source": [
        "**(1) 월급이 많은 직업**"
      ],
      "metadata": {
        "id": "Gv841o-lw7S0"
      }
    },
    {
      "cell_type": "code",
      "execution_count": null,
      "metadata": {
        "id": "90974f3a"
      },
      "outputs": [],
      "source": [
        "# 상위 10위 추출\n",
        "top10 = job_income.sort_values('mean_income', ascending = False).head(10)\n",
        "top10"
      ]
    },
    {
      "cell_type": "code",
      "execution_count": null,
      "metadata": {
        "eval": false,
        "name": "p_job_income",
        "id": "ca9e2cf1"
      },
      "outputs": [],
      "source": [
        "# 막대 그래프 만들기\n",
        "sns.barplot(data = top10, y = 'job', x = 'mean_income')"
      ]
    },
    {
      "cell_type": "markdown",
      "metadata": {
        "id": "c1e9a96f"
      },
      "source": [
        "**(2) 월급이 적은 직업**"
      ]
    },
    {
      "cell_type": "code",
      "execution_count": null,
      "metadata": {
        "id": "83d25273"
      },
      "outputs": [],
      "source": [
        "# 하위 10위 추출\n",
        "bottom10 = job_income.sort_values('mean_income').head(10)\n",
        "bottom10"
      ]
    },
    {
      "cell_type": "code",
      "execution_count": null,
      "metadata": {
        "eval": false,
        "name": "p_bottom10",
        "id": "aa8b1bce"
      },
      "outputs": [],
      "source": [
        "# 막대 그래프 만들기\n",
        "sns.barplot(data = bottom10, y = 'job', x = 'mean_income') \\\n",
        "   .set(xlim = [0, 800])"
      ]
    },
    {
      "cell_type": "markdown",
      "metadata": {
        "id": "15c4b85a"
      },
      "source": [
        "### 6) 성별 직업 빈도 - 성별로 어떤 직업이 가장 많을까?"
      ]
    },
    {
      "cell_type": "markdown",
      "source": [
        "![image.png](data:image/png;base64,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)"
      ],
      "metadata": {
        "id": "dlOBYqmgx67q"
      }
    },
    {
      "cell_type": "markdown",
      "source": [
        "#### 성별 직업 빈도 분석하기"
      ],
      "metadata": {
        "id": "JkkRSUZ_xLXB"
      }
    },
    {
      "cell_type": "markdown",
      "source": [
        "##### 1. 성별 직업 빈도표 만들기"
      ],
      "metadata": {
        "id": "Ue2CTq6wxOF1"
      }
    },
    {
      "cell_type": "markdown",
      "source": [
        "**남성 직업 빈도 상위 10개 추출하기**"
      ],
      "metadata": {
        "id": "s-7NWZr7xQfL"
      }
    },
    {
      "cell_type": "code",
      "execution_count": null,
      "metadata": {
        "id": "0590cf0c"
      },
      "outputs": [],
      "source": [
        "# job 결측치 제거\n",
        "# male 추출\n",
        "# job별 분리\n",
        "# job 빈도 구하기\n",
        "# 내림차순 정렬\n",
        "# 상위 10행 추출\n",
        "job_male = welfare.dropna(subset = ['job']) \\\n",
        "                  .query('sex == \"male\"') \\\n",
        "                  .groupby('job', as_index = False) \\\n",
        "                  .agg(n = ('job', 'count')) \\\n",
        "                  .sort_values('n', ascending = False) \\\n",
        "                  .head(10)\n",
        "job_male"
      ]
    },
    {
      "cell_type": "markdown",
      "source": [
        "**여성 직업 빈도 상위 10개 추출**"
      ],
      "metadata": {
        "id": "dqlTs_3WxcfF"
      }
    },
    {
      "cell_type": "code",
      "execution_count": null,
      "metadata": {
        "id": "2003a00b"
      },
      "outputs": [],
      "source": [
        "# job 결측치 제거\n",
        "# female 추출\n",
        "# job별 분리\n",
        "# job 빈도 구하기\n",
        "# 내림차순 정렬\n",
        "# 상위 10행 추출\n",
        "job_female = welfare.dropna(subset = ['job']) \\\n",
        "                    .query('sex == \"female\"') \\\n",
        "                    .groupby('job', as_index = False) \\\n",
        "                    .agg(n = ('job', 'count')) \\\n",
        "                    .sort_values('n', ascending = False) \\\n",
        "                    .head(10)\n",
        "job_female"
      ]
    },
    {
      "cell_type": "markdown",
      "metadata": {
        "id": "b9b73926"
      },
      "source": [
        "##### 2. 그래프 만들기"
      ]
    },
    {
      "cell_type": "code",
      "execution_count": null,
      "metadata": {
        "eval": false,
        "name": "p_job_male",
        "id": "7159d591"
      },
      "outputs": [],
      "source": [
        "sns.barplot(data = job_male, y = 'job', x = 'n').set(xlim = [0, 500])"
      ]
    },
    {
      "cell_type": "code",
      "execution_count": null,
      "metadata": {
        "eval": false,
        "name": "p_job_female",
        "id": "87b6c4aa"
      },
      "outputs": [],
      "source": [
        "sns.barplot(data = job_female, y = 'job', x = 'n').set(xlim = [0, 500])"
      ]
    },
    {
      "cell_type": "markdown",
      "metadata": {
        "id": "ffd78211"
      },
      "source": [
        "### 7) 종교 유무에 따른 이혼율 - 종교가 있으면 이혼을 덜 할까?"
      ]
    },
    {
      "cell_type": "markdown",
      "source": [
        "![image.png](data:image/png;base64,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)"
      ],
      "metadata": {
        "id": "eqO09da_zQho"
      }
    },
    {
      "cell_type": "markdown",
      "source": [
        "#### 종교 변수 검토 및 전처리하기"
      ],
      "metadata": {
        "id": "Fs7lujHrzLrE"
      }
    },
    {
      "cell_type": "markdown",
      "source": [
        "|값|내용|\n",
        "|-|-|\n",
        "|1|있음|\n",
        "|2|없음|\n",
        "|3|모름/무응답|"
      ],
      "metadata": {
        "id": "R0MOdMbtzwui"
      }
    },
    {
      "cell_type": "markdown",
      "source": [
        "##### 1. 변수 검토하기"
      ],
      "metadata": {
        "id": "qlVpycmSzOUW"
      }
    },
    {
      "cell_type": "code",
      "execution_count": null,
      "metadata": {
        "id": "5870e2ec"
      },
      "outputs": [],
      "source": [
        "welfare['religion'].dtypes"
      ]
    },
    {
      "cell_type": "code",
      "execution_count": null,
      "metadata": {
        "id": "5ea73dc9"
      },
      "outputs": [],
      "source": [
        "welfare['religion'].value_counts()"
      ]
    },
    {
      "cell_type": "markdown",
      "metadata": {
        "id": "1345e75e"
      },
      "source": [
        "##### 2. 전처리하기"
      ]
    },
    {
      "cell_type": "code",
      "execution_count": null,
      "metadata": {
        "id": "6727a23e"
      },
      "outputs": [],
      "source": [
        "# 종교 유무 이름 부여\n",
        "welfare['religion'] = np.where(welfare['religion'] == 1, 'yes', 'no')"
      ]
    },
    {
      "cell_type": "code",
      "source": [
        "# 빈도 구하기\n",
        "welfare['religion'].value_counts()"
      ],
      "metadata": {
        "id": "SKA65dngz62e"
      },
      "execution_count": null,
      "outputs": []
    },
    {
      "cell_type": "code",
      "execution_count": null,
      "metadata": {
        "eval": false,
        "name": "p_religion",
        "id": "13b8b163"
      },
      "outputs": [],
      "source": [
        "# 막대 그래프 만들기\n",
        "sns.countplot(data = welfare, x = 'religion')"
      ]
    },
    {
      "cell_type": "markdown",
      "metadata": {
        "id": "d619aa58"
      },
      "source": [
        "#### 혼인 상태 변수 검토 및 전처리하기"
      ]
    },
    {
      "cell_type": "markdown",
      "source": [
        "|값|내용|\n",
        "|-|-|\n",
        "|0|미해당(18세 미만)|\n",
        "|1|유배우|\n",
        "|2|사별|\n",
        "|3|이혼|\n",
        "|4|별거|\n",
        "|5|미혼(18세이상, 미혼모 포함)|\n",
        "|6|기타(사망 등)|"
      ],
      "metadata": {
        "id": "sbRuWrwb0rR-"
      }
    },
    {
      "cell_type": "markdown",
      "source": [
        "##### 1. 변수 검토하기"
      ],
      "metadata": {
        "id": "r6Q3M-SC0fss"
      }
    },
    {
      "cell_type": "code",
      "execution_count": null,
      "metadata": {
        "id": "6e383fd8"
      },
      "outputs": [],
      "source": [
        "# 변수 타입 출력\n",
        "welfare['marriage_type'].dtypes  "
      ]
    },
    {
      "cell_type": "code",
      "execution_count": null,
      "metadata": {
        "id": "918d8afa"
      },
      "outputs": [],
      "source": [
        "welfare['marriage_type'].value_counts()  # 빈도 구하기"
      ]
    },
    {
      "cell_type": "markdown",
      "metadata": {
        "id": "237351cb"
      },
      "source": [
        "#### 2. 파생변수 만들기 - 이혼 여부"
      ]
    },
    {
      "cell_type": "code",
      "execution_count": null,
      "metadata": {
        "id": "5aecb5a9-5b97-4317-bfb7-917f417394cc"
      },
      "outputs": [],
      "source": [
        "# 이혼 여부 변수 만들기\n",
        "welfare['marriage'] = np.where(welfare['marriage_type'] == 1, 'marriage',\n",
        "                      np.where(welfare['marriage_type'] == 3, 'divorce', 'etc'))"
      ]
    },
    {
      "cell_type": "code",
      "execution_count": null,
      "metadata": {
        "id": "69925f15-d151-4a65-be6c-d2ebe1cdf1f3"
      },
      "outputs": [],
      "source": [
        "# marriage별 분리\n",
        "# marriage별 빈도 구하기\n",
        "n_divorce = welfare.groupby('marriage', as_index = False) \\\n",
        "                   .agg(n = ('marriage', 'count'))\n",
        "n_divorce.sort_values('n', ascending=False)"
      ]
    },
    {
      "cell_type": "code",
      "execution_count": null,
      "metadata": {
        "eval": false,
        "name": "p_n_divorce",
        "id": "1c22c68f"
      },
      "outputs": [],
      "source": [
        "# 막대 그래프 만들기\n",
        "sns.barplot(data = n_divorce, x = 'marriage', y = 'n', order = ['marriage', 'divorce', 'etc'])"
      ]
    },
    {
      "cell_type": "markdown",
      "metadata": {
        "id": "605712f0"
      },
      "source": [
        "#### 종교 유무에 따른 이혼율 분석하기"
      ]
    },
    {
      "cell_type": "markdown",
      "source": [
        "##### 1. 종교 유무에 따른 이혼율표 만들기"
      ],
      "metadata": {
        "id": "lJ5nrzA09BWQ"
      }
    },
    {
      "cell_type": "code",
      "execution_count": null,
      "metadata": {
        "id": "df23a689"
      },
      "outputs": [],
      "source": [
        "# etc 제외\n",
        "# religion별 분리\n",
        "# marriage 추출\n",
        "# 비율 구하기\n",
        "rel_div = welfare.query('marriage != \"etc\"') \\\n",
        "                 .groupby('religion', as_index = False) \\\n",
        "                 ['marriage'] \\\n",
        "                 .value_counts(normalize = True)\n",
        "rel_div"
      ]
    },
    {
      "cell_type": "markdown",
      "metadata": {
        "id": "4b654aff"
      },
      "source": [
        "##### 2. 그래프 만들기"
      ]
    },
    {
      "cell_type": "code",
      "execution_count": null,
      "metadata": {
        "id": "172191ef"
      },
      "outputs": [],
      "source": [
        "# divorce 추출\n",
        "# 백분율로 바꾸기\n",
        "# 반올림\n",
        "rel_div = rel_div.query('marriage == \"divorce\"') \\\n",
        "                 .assign(proportion = rel_div['proportion'] * 100) \\\n",
        "                 .round(1)\n",
        "rel_div"
      ]
    },
    {
      "cell_type": "code",
      "execution_count": null,
      "metadata": {
        "eval": false,
        "name": "p_divorce",
        "id": "1d2d5f2e"
      },
      "outputs": [],
      "source": [
        "# 막대 그래프 만들기\n",
        "sns.barplot(data = rel_div, x = 'religion', y = 'proportion')"
      ]
    },
    {
      "cell_type": "markdown",
      "metadata": {
        "id": "30dd1718"
      },
      "source": [
        "#### 연령대 및 종교 유무에 따른 이혼율 분석하기"
      ]
    },
    {
      "cell_type": "markdown",
      "source": [
        "##### 1. 연령대별 이혼율표 만들기"
      ],
      "metadata": {
        "id": "2QVGL1oh73rQ"
      }
    },
    {
      "cell_type": "code",
      "execution_count": null,
      "metadata": {
        "id": "9eeddcd1"
      },
      "outputs": [],
      "source": [
        "# etc 제외\n",
        "# ageg별 분리\n",
        "# marriage 추출\n",
        "# 비율 구하기\n",
        "age_div = welfare.query('marriage != \"etc\"') \\\n",
        "                 .groupby('ageg', as_index = False) \\\n",
        "                 ['marriage'] \\\n",
        "                 .value_counts(normalize = True)\n",
        "age_div"
      ]
    },
    {
      "cell_type": "code",
      "execution_count": null,
      "metadata": {
        "id": "45fb004a"
      },
      "outputs": [],
      "source": [
        "## 연령대 및 이혼 여부별 빈도\n",
        "\n",
        "# etc 제외\n",
        "# ageg별 분리\n",
        "# marriage 추출\n",
        "# 빈도 구하기\n",
        "welfare.query('marriage != \"etc\"') \\\n",
        "       .groupby('ageg', as_index = False) \\\n",
        "       ['marriage'] \\\n",
        "       .value_counts()"
      ]
    },
    {
      "cell_type": "markdown",
      "metadata": {
        "id": "4f31bc26"
      },
      "source": [
        "##### 2. 연령대별 이혼율 그래프 만들기"
      ]
    },
    {
      "cell_type": "code",
      "execution_count": null,
      "metadata": {
        "id": "09d53041"
      },
      "outputs": [],
      "source": [
        "# 초년층 제외, 이혼 추출\n",
        "# 백분율로 바꾸기\n",
        "# 반올림\n",
        "age_div = age_div.query('ageg != \"young\" & marriage == \"divorce\"') \\\n",
        "                 .assign(proportion = age_div['proportion'] * 100) \\\n",
        "                 .round(1)\n",
        "age_div"
      ]
    },
    {
      "cell_type": "code",
      "execution_count": null,
      "metadata": {
        "eval": false,
        "name": "p_ageg_divorce",
        "id": "5e7f8b34"
      },
      "outputs": [],
      "source": [
        "# 막대 그래프 만들기\n",
        "sns.barplot(data = age_div, x = 'ageg', y = 'proportion')"
      ]
    },
    {
      "cell_type": "markdown",
      "metadata": {
        "id": "b95d283b"
      },
      "source": [
        "##### 3. 연령대 및 종교 유무에 따른 이혼율표 만들기"
      ]
    },
    {
      "cell_type": "code",
      "execution_count": null,
      "metadata": {
        "id": "a474529e"
      },
      "outputs": [],
      "source": [
        "# etc 제외, 초년층 제외\n",
        "# ageg, religion별 분리\n",
        "# marriage 추출\n",
        "# 비율 구하기\n",
        "age_rel_div = welfare.query('marriage != \"etc\" & ageg != \"young\"') \\\n",
        "                     .groupby(['ageg', 'religion'], as_index = False) \\\n",
        "                     ['marriage'] \\\n",
        "                     .value_counts(normalize = True)\n",
        "age_rel_div"
      ]
    },
    {
      "cell_type": "markdown",
      "metadata": {
        "id": "b6f351a9"
      },
      "source": [
        "##### 4. 연령대 및 종교 유무에 따른 이혼율 그래프 만들기"
      ]
    },
    {
      "cell_type": "code",
      "execution_count": null,
      "metadata": {
        "id": "e412149f"
      },
      "outputs": [],
      "source": [
        "# divorce 추출\n",
        "# 백분율로 바꾸기\n",
        "# 반올림\n",
        "age_rel_div = age_rel_div.query('marriage == \"divorce\"') \\\n",
        "                         .assign(proportion = age_rel_div['proportion'] * 100) \\\n",
        "                         .round(1)\n",
        "age_rel_div"
      ]
    },
    {
      "cell_type": "code",
      "execution_count": null,
      "metadata": {
        "eval": false,
        "name": "p_df_divorce",
        "id": "95752c84"
      },
      "outputs": [],
      "source": [
        "# 막대 그래프 만들기\n",
        "sns.barplot(data = age_rel_div, x = 'ageg', y = 'proportion', hue = 'religion')"
      ]
    },
    {
      "cell_type": "markdown",
      "metadata": {
        "id": "130329c1"
      },
      "source": [
        "### 8) 지역별 연령대 비율 - 어느 지역에 노년층이 많을까?"
      ]
    },
    {
      "cell_type": "markdown",
      "source": [
        "![image.png](data:image/png;base64,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)"
      ],
      "metadata": {
        "id": "QLMVOCZS9Tlt"
      }
    },
    {
      "cell_type": "markdown",
      "source": [
        "#### 지역 변수 검토 및 전처리하기"
      ],
      "metadata": {
        "id": "WBumWgd59LKq"
      }
    },
    {
      "cell_type": "markdown",
      "source": [
        "##### 1. 지역 변수 검토하기"
      ],
      "metadata": {
        "id": "d4VID5zg9M2e"
      }
    },
    {
      "cell_type": "markdown",
      "source": [
        "|값|내용|\n",
        "|-|-|\n",
        "|1|서울|\n",
        "|2|수도권(인천/경기)|\n",
        "|3|부산/울산/경남|\n",
        "|4|대구/경북|\n",
        "|5|대전/충남|\n",
        "|6|강원/충북|\n",
        "|7|광주/전남/전북/제주도|"
      ],
      "metadata": {
        "id": "d8YNYLBi9vlH"
      }
    },
    {
      "cell_type": "code",
      "execution_count": null,
      "metadata": {
        "id": "359a026f"
      },
      "outputs": [],
      "source": [
        "welfare['code_region'].dtypes  # 변수 타입 출력"
      ]
    },
    {
      "cell_type": "code",
      "execution_count": null,
      "metadata": {
        "id": "a823afc9"
      },
      "outputs": [],
      "source": [
        "welfare['code_region'].value_counts()  # 빈도 구하기"
      ]
    },
    {
      "cell_type": "markdown",
      "metadata": {
        "id": "39f9c4dc"
      },
      "source": [
        "##### 2. 전처리하기\n"
      ]
    },
    {
      "cell_type": "code",
      "execution_count": null,
      "metadata": {
        "id": "482ed60d"
      },
      "outputs": [],
      "source": [
        "# 지역 코드 목록 만들기\n",
        "list_region = pd.DataFrame({'code_region' : [1, 2, 3, 4, 5, 6, 7],\n",
        "                            'region'      : ['서울',\n",
        "                                             '수도권(인천/경기)',\n",
        "                                             '부산/울산/경남',\n",
        "                                             '대구/경북',\n",
        "                                             '대전/충남',\n",
        "                                             '강원/충북',\n",
        "                                             '광주/전남/전북/제주도']})\n",
        "list_region"
      ]
    },
    {
      "cell_type": "code",
      "execution_count": null,
      "metadata": {
        "id": "e0962216"
      },
      "outputs": [],
      "source": [
        "# 지역명 변수 추가\n",
        "welfare = welfare.merge(list_region, how = 'left', on = 'code_region')\n",
        "welfare[['code_region', 'region']].head()"
      ]
    },
    {
      "cell_type": "markdown",
      "metadata": {
        "id": "3eaf6f3d"
      },
      "source": [
        "#### 지역별 연령대 비율 분석하기"
      ]
    },
    {
      "cell_type": "markdown",
      "source": [
        "##### 1. 지역별 연령대 비율표 만들기\n"
      ],
      "metadata": {
        "id": "Q5BRy3KO-L6Z"
      }
    },
    {
      "cell_type": "code",
      "execution_count": null,
      "metadata": {
        "id": "5e91cea2"
      },
      "outputs": [],
      "source": [
        "# region별 분리\n",
        "# ageg 추출\n",
        "# 비율 구하기\n",
        "region_ageg = welfare.groupby('region', as_index = False) \\\n",
        "                     ['ageg'] \\\n",
        "                     .value_counts(normalize = True)\n",
        "region_ageg"
      ]
    },
    {
      "cell_type": "markdown",
      "metadata": {
        "id": "5078f488"
      },
      "source": [
        "#### 2. 그래프 만들기"
      ]
    },
    {
      "cell_type": "code",
      "execution_count": null,
      "metadata": {
        "id": "29db03bf"
      },
      "outputs": [],
      "source": [
        "# 백분율로 바꾸기\n",
        "# 반올림\n",
        "region_ageg = region_ageg.assign(proportion = region_ageg['proportion'] * 100) \\\n",
        "                         .round(1)\n",
        "region_ageg"
      ]
    },
    {
      "cell_type": "code",
      "execution_count": null,
      "metadata": {
        "eval": false,
        "name": "p_region_ageg",
        "id": "2c9be110"
      },
      "outputs": [],
      "source": [
        "# 막대 그래프 만들기\n",
        "sns.barplot(data = region_ageg, y = 'region', x = 'proportion', hue = 'ageg')"
      ]
    },
    {
      "cell_type": "markdown",
      "metadata": {
        "id": "1c8c7e4d"
      },
      "source": [
        "##### 3. 누적 비율 막대 그래프 만들기"
      ]
    },
    {
      "cell_type": "markdown",
      "source": [
        "**(1) 피벗하기**"
      ],
      "metadata": {
        "id": "cOsh6FKw-cD-"
      }
    },
    {
      "cell_type": "markdown",
      "source": [
        "**피벗(pivot)**: 행과 열을 회전해 표의 구성을 바꾸는 작업\n",
        "\n",
        "* `pd.pivot()` 함수를 가지고 데이터 프레임을 피벗할 수 있음"
      ],
      "metadata": {
        "id": "mvhp9r14-geX"
      }
    },
    {
      "cell_type": "code",
      "execution_count": null,
      "metadata": {
        "id": "d8d8ae2c"
      },
      "outputs": [],
      "source": [
        "# 피벗\n",
        "pivot_df = region_ageg[['region', 'ageg', 'proportion']].pivot(index   = 'region',\n",
        "                                                               columns = 'ageg',\n",
        "                                                               values  = 'proportion')\n",
        "pivot_df"
      ]
    },
    {
      "cell_type": "markdown",
      "metadata": {
        "id": "673ddb2f"
      },
      "source": [
        "**(2) 그래프 만들기**"
      ]
    },
    {
      "cell_type": "code",
      "execution_count": null,
      "metadata": {
        "eval": false,
        "name": "p_pivot_df",
        "id": "dbb34e69"
      },
      "outputs": [],
      "source": [
        "# 세로 누적 막대 그래프 만들기\n",
        "pivot_df.plot.bar(stacked = True)"
      ]
    },
    {
      "cell_type": "code",
      "source": [
        "# 가로 누적 막대 그래프 만들기\n",
        "pivot_df.plot.barh(stacked = True)"
      ],
      "metadata": {
        "id": "IH87ZAmC_Hel"
      },
      "execution_count": null,
      "outputs": []
    },
    {
      "cell_type": "markdown",
      "metadata": {
        "id": "e9d67292"
      },
      "source": [
        "**(3) 막대 정렬하기**"
      ]
    },
    {
      "cell_type": "code",
      "execution_count": null,
      "metadata": {
        "id": "6ac69f60"
      },
      "outputs": [],
      "source": [
        "# 노년층 비율 기준 정렬, 변수 순서 바꾸기\n",
        "reorder_df = pivot_df.sort_values('old')[['young', 'middle', 'old']]\n",
        "reorder_df"
      ]
    },
    {
      "cell_type": "code",
      "execution_count": null,
      "metadata": {
        "eval": false,
        "name": "p_pivot_df_reorder",
        "id": "70e6ed75"
      },
      "outputs": [],
      "source": [
        "# 누적 가로 막대 그래프 만들기\n",
        "reorder_df.plot.barh(stacked = True)"
      ]
    }
  ]
}