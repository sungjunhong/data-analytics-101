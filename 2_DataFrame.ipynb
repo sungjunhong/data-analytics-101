{
  "cells": [
    {
      "cell_type": "markdown",
      "id": "6a0ccb99-466e-4b48-b9c1-206231cc7a61",
      "metadata": {
        "id": "6a0ccb99-466e-4b48-b9c1-206231cc7a61"
      },
      "source": [
        "# **둘째마당. 데이터 프레임의 세계**"
      ]
    },
    {
      "cell_type": "markdown",
      "id": "87bc3833",
      "metadata": {
        "id": "87bc3833"
      },
      "source": [
        "## 데이터 프레임 만들기 - 시험 성적 데이터를 만들어 보자"
      ]
    },
    {
      "cell_type": "markdown",
      "id": "e8e73448",
      "metadata": {
        "id": "e8e73448"
      },
      "source": [
        "### 데이터를 입력하여 데이터 프레임 만들기\n"
      ]
    },
    {
      "cell_type": "markdown",
      "id": "e4bd8dc9",
      "metadata": {
        "id": "e4bd8dc9"
      },
      "source": [
        "**1. `pandas` 패키지 로드하기**\n",
        "\n"
      ]
    },
    {
      "cell_type": "code",
      "execution_count": null,
      "id": "9cb434ed",
      "metadata": {
        "id": "9cb434ed"
      },
      "outputs": [],
      "source": [
        "import pandas as pd"
      ]
    },
    {
      "cell_type": "markdown",
      "id": "30963a9f",
      "metadata": {
        "id": "30963a9f"
      },
      "source": [
        "**2. 데이터 프레임 만들기**\n",
        "\n",
        "\n",
        "\n"
      ]
    },
    {
      "cell_type": "code",
      "execution_count": null,
      "id": "38f92867",
      "metadata": {
        "lines_to_next_cell": 0,
        "id": "38f92867"
      },
      "outputs": [],
      "source": [
        "df = pd.DataFrame({'name'    : ['김지훈', '이유진', '박동현', '김민지'],\n",
        "                   'english' : [90, 80, 60, 70],\n",
        "                   'math'    : [50, 60, 100, 20]})\n",
        "df"
      ]
    },
    {
      "cell_type": "markdown",
      "id": "99aed6c7",
      "metadata": {
        "id": "99aed6c7"
      },
      "source": [
        "### 데이터 프레임으로 분석하기\n"
      ]
    },
    {
      "cell_type": "markdown",
      "id": "63695c57",
      "metadata": {
        "id": "63695c57"
      },
      "source": [
        "#### 특정 변수의 값 추출하기\n",
        "\n"
      ]
    },
    {
      "cell_type": "code",
      "execution_count": null,
      "id": "f4af8735",
      "metadata": {
        "id": "f4af8735"
      },
      "outputs": [],
      "source": [
        "df['english']"
      ]
    },
    {
      "cell_type": "markdown",
      "id": "a564ebd8",
      "metadata": {
        "id": "a564ebd8"
      },
      "source": [
        "#### 변수의 값으로 합계 구하기\n",
        "\n"
      ]
    },
    {
      "cell_type": "code",
      "execution_count": null,
      "id": "43dba537",
      "metadata": {
        "lines_to_next_cell": 0,
        "id": "43dba537"
      },
      "outputs": [],
      "source": [
        "sum(df['english'])"
      ]
    },
    {
      "cell_type": "code",
      "execution_count": null,
      "id": "39bc09fd",
      "metadata": {
        "id": "39bc09fd"
      },
      "outputs": [],
      "source": [
        "sum(df['math'])"
      ]
    },
    {
      "cell_type": "markdown",
      "id": "21eedc5d",
      "metadata": {
        "id": "21eedc5d"
      },
      "source": [
        "#### 변수의 값으로 평균 구하기"
      ]
    },
    {
      "cell_type": "code",
      "execution_count": null,
      "id": "727c0970",
      "metadata": {
        "lines_to_next_cell": 0,
        "id": "727c0970"
      },
      "outputs": [],
      "source": [
        "sum(df['english']) / 4  # 영어 점수 평균"
      ]
    },
    {
      "cell_type": "code",
      "execution_count": null,
      "id": "3dcb0d14",
      "metadata": {
        "lines_to_next_cell": 0,
        "id": "3dcb0d14"
      },
      "outputs": [],
      "source": [
        "sum(df['math']) / 4     # 수학 점수 평균"
      ]
    },
    {
      "cell_type": "markdown",
      "id": "fc5d35ac",
      "metadata": {
        "id": "fc5d35ac"
      },
      "source": [
        "## 외부 데이터 이용하기 - 시험 성적 데이터 파일을 불러오자"
      ]
    },
    {
      "cell_type": "markdown",
      "id": "db06c900",
      "metadata": {
        "id": "db06c900"
      },
      "source": [
        "### 엑셀 파일 불러오기"
      ]
    },
    {
      "cell_type": "markdown",
      "id": "c14db770",
      "metadata": {
        "id": "c14db770"
      },
      "source": [
        "#### 1. 엑셀 파일 살펴보기\n",
        "\n",
        "\n"
      ]
    },
    {
      "cell_type": "markdown",
      "id": "5e91f974",
      "metadata": {
        "id": "5e91f974"
      },
      "source": [
        "#### 2. 워킹 디렉터리에 엑셀 파일 삽입하기\n"
      ]
    },
    {
      "cell_type": "markdown",
      "source": [
        "구글 드라이브의 \"내 드라이브/data-analytics-101/data\" 폴더에 다운로드 한 데이터 파일을 업로드"
      ],
      "metadata": {
        "id": "Y02b60BoPdZp"
      },
      "id": "Y02b60BoPdZp"
    },
    {
      "cell_type": "markdown",
      "id": "c62ab10b",
      "metadata": {
        "id": "c62ab10b"
      },
      "source": [
        "#### 3. 엑셀 파일 불러오기"
      ]
    },
    {
      "cell_type": "code",
      "execution_count": null,
      "id": "a582f6e8",
      "metadata": {
        "eval": false,
        "id": "a582f6e8"
      },
      "outputs": [],
      "source": [
        "df_exam = pd.read_excel(wd + '/data/excel_exam.xlsx')   # 엑셀 파일을 불러와 df_exam에 할당\n",
        "df_exam                                                 # 출력"
      ]
    },
    {
      "cell_type": "markdown",
      "source": [
        "#### 3-1. 구글 드라이브 마운트 하기"
      ],
      "metadata": {
        "id": "xNEzhHwOSsjx"
      },
      "id": "xNEzhHwOSsjx"
    },
    {
      "cell_type": "code",
      "source": [
        "from google.colab import drive\n",
        "drive.mount('/content/gdrive')"
      ],
      "metadata": {
        "id": "Jy1MedcnP6SQ"
      },
      "id": "Jy1MedcnP6SQ",
      "execution_count": null,
      "outputs": []
    },
    {
      "cell_type": "code",
      "source": [
        "path = '/content/gdrive/MyDrive/data-analytics-101/data/'"
      ],
      "metadata": {
        "id": "Z9svEOFpRhDp"
      },
      "id": "Z9svEOFpRhDp",
      "execution_count": null,
      "outputs": []
    },
    {
      "cell_type": "code",
      "source": [
        "df_exam = pd.read_excel(path + 'excel_exam.xlsx')   # 엑셀 파일을 불러와 df_exam에 할당\n",
        "df_exam"
      ],
      "metadata": {
        "id": "VrChP2T7S0ZI"
      },
      "id": "VrChP2T7S0ZI",
      "execution_count": null,
      "outputs": []
    },
    {
      "cell_type": "markdown",
      "id": "f9d9f637",
      "metadata": {
        "id": "f9d9f637"
      },
      "source": [
        "#### 4. 분석하기"
      ]
    },
    {
      "cell_type": "code",
      "execution_count": null,
      "id": "96e827cd",
      "metadata": {
        "lines_to_next_cell": 0,
        "id": "96e827cd"
      },
      "outputs": [],
      "source": [
        "sum(df_exam['english']) / 20"
      ]
    },
    {
      "cell_type": "code",
      "execution_count": null,
      "id": "fbddf3b6",
      "metadata": {
        "lines_to_next_cell": 0,
        "id": "fbddf3b6"
      },
      "outputs": [],
      "source": [
        "sum(df_exam['science']) / 20"
      ]
    },
    {
      "cell_type": "markdown",
      "source": [
        "* 리스트 내 원소의 개수 구하기"
      ],
      "metadata": {
        "id": "lZm2pqOnSG84"
      },
      "id": "lZm2pqOnSG84"
    },
    {
      "cell_type": "code",
      "execution_count": null,
      "id": "720909a0",
      "metadata": {
        "lines_to_next_cell": 2,
        "id": "720909a0"
      },
      "outputs": [],
      "source": [
        "x = [1, 2, 3, 4, 5]\n",
        "x"
      ]
    },
    {
      "cell_type": "code",
      "execution_count": null,
      "id": "613ba9b6",
      "metadata": {
        "id": "613ba9b6"
      },
      "outputs": [],
      "source": [
        "len(x)"
      ]
    },
    {
      "cell_type": "markdown",
      "source": [
        "* 데이터 프레임의 행 개수 구하기"
      ],
      "metadata": {
        "id": "PitiGuwCSKco"
      },
      "id": "PitiGuwCSKco"
    },
    {
      "cell_type": "code",
      "execution_count": null,
      "id": "33af4ecb",
      "metadata": {
        "id": "33af4ecb"
      },
      "outputs": [],
      "source": [
        "df = pd.DataFrame({'a' : [1, 2, 3],\n",
        "                   'b' : [4, 5, 6]})\n",
        "df"
      ]
    },
    {
      "cell_type": "code",
      "execution_count": null,
      "id": "f2fd83af",
      "metadata": {
        "lines_to_next_cell": 0,
        "id": "f2fd83af"
      },
      "outputs": [],
      "source": [
        "len(df)"
      ]
    },
    {
      "cell_type": "code",
      "execution_count": null,
      "id": "93471a78",
      "metadata": {
        "id": "93471a78"
      },
      "outputs": [],
      "source": [
        "len(df_exam)                          # df_exam의 행 개수 구하기"
      ]
    },
    {
      "cell_type": "code",
      "execution_count": null,
      "id": "fd9ad3c8",
      "metadata": {
        "id": "fd9ad3c8"
      },
      "outputs": [],
      "source": [
        "sum(df_exam['english']) / len(df_exam)  # english 합계를 행 개수로 나누기"
      ]
    },
    {
      "cell_type": "code",
      "execution_count": null,
      "id": "cbb00f1c",
      "metadata": {
        "id": "cbb00f1c"
      },
      "outputs": [],
      "source": [
        "sum(df_exam['science']) / len(df_exam)  # science 합계를 행 개수로 나누기"
      ]
    },
    {
      "cell_type": "markdown",
      "id": "94afff98",
      "metadata": {
        "id": "94afff98"
      },
      "source": [
        "#### 엑셀 파일의 첫 번째 행이 변수명이 아니라면?\n"
      ]
    },
    {
      "cell_type": "code",
      "execution_count": null,
      "id": "663723b4",
      "metadata": {
        "eval": false,
        "id": "663723b4"
      },
      "outputs": [],
      "source": [
        "df_exam_novar = pd.read_excel(path + 'excel_exam_novar.xlsx')\n",
        "df_exam_novar"
      ]
    },
    {
      "cell_type": "code",
      "execution_count": null,
      "id": "a827e072",
      "metadata": {
        "eval": false,
        "lines_to_next_cell": 2,
        "id": "a827e072"
      },
      "outputs": [],
      "source": [
        "df_exam_novar = pd.read_excel(path + 'excel_exam_novar.xlsx', header = None)\n",
        "df_exam_novar"
      ]
    },
    {
      "cell_type": "markdown",
      "id": "fe8b2241",
      "metadata": {
        "id": "fe8b2241"
      },
      "source": [
        "#### 엑셀 파일에 시트가 여러 개 있다면?"
      ]
    },
    {
      "cell_type": "code",
      "execution_count": null,
      "id": "7818ecbd-37db-417b-937e-57482b3f24e6",
      "metadata": {
        "eval": false,
        "tags": [
          "raises-exception"
        ],
        "id": "7818ecbd-37db-417b-937e-57482b3f24e6"
      },
      "outputs": [],
      "source": [
        "# Sheet2 시트의 데이터 불러오기\n",
        "df_exam = pd.read_excel('excel_exam.xlsx', sheet_name = 'Sheet2')\n",
        "\n",
        "# 세 번째 시트의 데이터 불러오기\n",
        "df_exam = pd.read_excel('excel_exam.xlsx', sheet_name = 2)      # 파이썬의 인덱스는 0부터 시작함에 유의"
      ]
    },
    {
      "cell_type": "markdown",
      "id": "3ebc1c37",
      "metadata": {
        "id": "3ebc1c37"
      },
      "source": [
        "### CSV 파일 불러오기"
      ]
    },
    {
      "cell_type": "markdown",
      "id": "96885ea8",
      "metadata": {
        "id": "96885ea8"
      },
      "source": [
        "#### 1. 워킹 디렉터리에 CSV 파일 삽입하기\n"
      ]
    },
    {
      "cell_type": "markdown",
      "id": "8e123d18",
      "metadata": {
        "id": "8e123d18"
      },
      "source": [
        "#### 2. CSV 파일 불러오기\n",
        "\n"
      ]
    },
    {
      "cell_type": "code",
      "execution_count": null,
      "id": "4767474b",
      "metadata": {
        "eval": false,
        "id": "4767474b"
      },
      "outputs": [],
      "source": [
        "df_csv_exam = pd.read_csv(path + 'exam.csv')\n",
        "df_csv_exam"
      ]
    },
    {
      "cell_type": "markdown",
      "id": "97d55486",
      "metadata": {
        "id": "97d55486"
      },
      "source": [
        "### 데이터 프레임을 CSV 파일로 저장하기\n"
      ]
    },
    {
      "cell_type": "markdown",
      "id": "49aefebc",
      "metadata": {
        "id": "49aefebc"
      },
      "source": [
        "#### 1. 데이터 프레임 만들기"
      ]
    },
    {
      "cell_type": "code",
      "execution_count": null,
      "id": "2b21f384",
      "metadata": {
        "id": "2b21f384"
      },
      "outputs": [],
      "source": [
        "df_midterm = pd.DataFrame({'english' : [90, 80, 60, 70],\n",
        "                           'math'    : [50, 60, 100, 20],\n",
        "                           'nclass'  : [1, 1, 2, 2]})\n",
        "df_midterm"
      ]
    },
    {
      "cell_type": "markdown",
      "id": "351b2f9b",
      "metadata": {
        "id": "351b2f9b"
      },
      "source": [
        "#### 2. CSV 파일로 저장하기\n",
        "\n"
      ]
    },
    {
      "cell_type": "code",
      "execution_count": null,
      "id": "de20da8c",
      "metadata": {
        "eval": false,
        "id": "de20da8c"
      },
      "outputs": [],
      "source": [
        "df_midterm.to_csv('output_newdata.csv')"
      ]
    },
    {
      "cell_type": "code",
      "execution_count": null,
      "id": "206e3aad",
      "metadata": {
        "eval": false,
        "lines_to_next_cell": 0,
        "id": "206e3aad"
      },
      "outputs": [],
      "source": [
        "df_midterm.to_csv('output_newdatan_noidx.csv', index = False)   # 행 번호를 제외"
      ]
    },
    {
      "cell_type": "markdown",
      "id": "c892b127-fc98-45db-a9a1-0da7c9064df2",
      "metadata": {
        "id": "c892b127-fc98-45db-a9a1-0da7c9064df2"
      },
      "source": [
        "---"
      ]
    },
    {
      "cell_type": "markdown",
      "id": "95fab143",
      "metadata": {
        "id": "95fab143"
      },
      "source": [
        "### 정리하기"
      ]
    },
    {
      "cell_type": "code",
      "execution_count": null,
      "id": "fc9ba5fe",
      "metadata": {
        "eval": false,
        "lines_to_next_cell": 0,
        "id": "fc9ba5fe"
      },
      "outputs": [],
      "source": [
        "# 1. 데이터 프레임 만들기\n",
        "df = pd.DataFrame({'name'    : ['김지훈', '이유진', '박동현', '김민지'],\n",
        "                   'english' : [90, 80, 60, 70],\n",
        "                   'math'    : [50, 60, 100, 20]})\n",
        " \n",
        "# 2.외부 데이터 이용하기\n",
        "\n",
        "# 구글 드라이브 마운트 하기\n",
        "from google.colab import drive\n",
        "drive.mount('/content/gdrive')\n",
        "wd = '/content/gdrive/MyDrive/data-analytics-101'\n",
        "\n",
        "# 엑셀 파일 불러오기\n",
        "df_exam = pd.read_excel(wd + 'excel_exam.xlsx')\n",
        "\n",
        "# CSV 파일 불러오기\n",
        "df_csv_exam = pd.read_csv(wd + 'exam.csv')\n",
        " \n",
        "# CSV 파일로 저장하기\n",
        "df_midterm.to_csv(wd + 'output_newdata.csv')"
      ]
    }
  ],
  "metadata": {
    "jupytext": {
      "cell_metadata_filter": "eval,tags,error,-all",
      "notebook_metadata_filter": "-all"
    },
    "kernelspec": {
      "display_name": "Python 3 (ipykernel)",
      "language": "python",
      "name": "python3"
    },
    "language_info": {
      "codemirror_mode": {
        "name": "ipython",
        "version": 3
      },
      "file_extension": ".py",
      "mimetype": "text/x-python",
      "name": "python",
      "nbconvert_exporter": "python",
      "pygments_lexer": "ipython3",
      "version": "3.9.11"
    },
    "colab": {
      "provenance": []
    }
  },
  "nbformat": 4,
  "nbformat_minor": 5
}